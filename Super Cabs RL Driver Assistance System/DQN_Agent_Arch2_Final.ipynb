{
 "cells": [
  {
   "cell_type": "markdown",
   "metadata": {},
   "source": [
    "### Cab-Driver Agent"
   ]
  },
  {
   "cell_type": "markdown",
   "metadata": {},
   "source": [
    "#### Aim:\n",
    " RL-based system for assisting cab drivers which can help cab drivers maximise their profits by improving their decision-making process on the field and can potentially retain and attract new cab drivers"
   ]
  },
  {
   "cell_type": "code",
   "execution_count": 67,
   "metadata": {},
   "outputs": [],
   "source": [
    "# Importing libraries\n",
    "import numpy as np\n",
    "import random\n",
    "import math\n",
    "from collections import deque\n",
    "import collections\n",
    "import pickle\n",
    "import time\n",
    "\n",
    "# for building DQN model\n",
    "from keras import layers\n",
    "from keras import Sequential\n",
    "from keras.layers import Dense, Activation, Flatten\n",
    "from keras.optimizers import Adam\n",
    "\n",
    "#ignore warnings\n",
    "import warnings\n",
    "warnings.filterwarnings('ignore')\n",
    "\n",
    "# for plotting graphs\n",
    "import matplotlib.pyplot as plt"
   ]
  },
  {
   "cell_type": "markdown",
   "metadata": {},
   "source": [
    "<b>Environment parameters<b>"
   ]
  },
  {
   "cell_type": "code",
   "execution_count": 68,
   "metadata": {},
   "outputs": [],
   "source": [
    "#Number of Cities\n",
    "m = 5\n",
    "#Number of hours\n",
    "t = 24\n",
    "#Number of days\n",
    "d = 7\n",
    "#Cost per kilometer\n",
    "C = 5#25\n",
    "#Revenue per kilometer\n",
    "R = 9#30"
   ]
  },
  {
   "cell_type": "markdown",
   "metadata": {},
   "source": [
    "#### Defining Time Matrix"
   ]
  },
  {
   "cell_type": "code",
   "execution_count": 69,
   "metadata": {},
   "outputs": [],
   "source": [
    "# Loading the time matrix provided\n",
    "Time_matrix = np.load(\"TM.npy\")"
   ]
  },
  {
   "cell_type": "code",
   "execution_count": 70,
   "metadata": {},
   "outputs": [],
   "source": [
    "states_track = collections.defaultdict(dict)"
   ]
  },
  {
   "cell_type": "markdown",
   "metadata": {},
   "source": [
    "#### Tracking the state-action pairs for checking convergence\n"
   ]
  },
  {
   "cell_type": "code",
   "execution_count": 71,
   "metadata": {},
   "outputs": [],
   "source": [
    "Q1 = ((2,2,2),(3,2))\n",
    "Q2 = ((3,10,6),(3,4))\n",
    "Q3 = ((0,20,3),(1,4))\n",
    "Q4 = ((3,0,2),(3,1))\n",
    "def initialise_tracking_states():\n",
    "    sample_q_values = [Q1,Q2,Q3,Q4]\n",
    "    for q_values in sample_q_values:\n",
    "        state = q_values[0]\n",
    "        action = q_values[1]\n",
    "        states_track[state][action] = []"
   ]
  },
  {
   "cell_type": "code",
   "execution_count": 72,
   "metadata": {},
   "outputs": [],
   "source": [
    "# initialising all the state-action pairs tracked\n",
    "initialise_tracking_states()"
   ]
  },
  {
   "cell_type": "code",
   "execution_count": 73,
   "metadata": {},
   "outputs": [],
   "source": [
    "#Function to check convergence\n",
    "def save_tracking_states():\n",
    "    for state in states_track.keys():\n",
    "        for action in states_track[state].keys():\n",
    "            Q = agent.prediction([action], state)\n",
    "            states_track[state][action].append(Q)  "
   ]
  },
  {
   "cell_type": "code",
   "execution_count": 74,
   "metadata": {},
   "outputs": [],
   "source": [
    "#Defining a function to save the Q-dictionary as a pickle file\n",
    "def save_obj(obj, name ):\n",
    "    with open(name + '.pkl', 'wb') as f:\n",
    "        pickle.dump(obj, f, pickle.HIGHEST_PROTOCOL)"
   ]
  },
  {
   "cell_type": "markdown",
   "metadata": {},
   "source": [
    "#### Agent Class"
   ]
  },
  {
   "cell_type": "code",
   "execution_count": 75,
   "metadata": {},
   "outputs": [],
   "source": [
    "class DQNAgent:\n",
    "    def __init__(self, state_size, action_size):\n",
    "        \n",
    "        \n",
    "        # Define size of state and action\n",
    "        self.state_size = m+t+d\n",
    "        self.action_size = m*(m-1) + 1\n",
    "        \n",
    "        self.action_space = [[i,j] for i in range(m) for j in range(m) if i!=j or i==0]\n",
    "\n",
    "        # Write here: Specify you hyper parameters for the DQN\n",
    "        self.discount_factor = 0.95\n",
    "        self.learning_rate = 0.001       \n",
    "        self.epsilon_max = 1.0\n",
    "        self.epsilon_decay = 0.0003\n",
    "        self.epsilon_min = 0.00000001\n",
    "        self.batch_size = 32        \n",
    "        # create replay memory using deque\n",
    "        self.memory = deque(maxlen=2000)\n",
    "\n",
    "        # create main model and target model\n",
    "        self.model = self.build_model()\n",
    "    \n",
    "    def prediction(self, action, state):\n",
    "        X_test = np.zeros((len(action), 46))\n",
    "        for i in range(len(action)):\n",
    "            dummy = env.state_encod_arch2(state, action[i])\n",
    "            X_test[i,:] = dummy\n",
    "        prediction = self.model.predict(X_test)\n",
    "        prediction = prediction.reshape(len(action))\n",
    "        return prediction\n",
    "\n",
    "    # approximate Q function using Neural Network\n",
    "    def build_model(self):\n",
    "        model = Sequential()\n",
    "        model.add(Dense(200, input_dim = 46,activation ='relu'))\n",
    "        model.add(Dense(150,activation ='relu'))\n",
    "        model.add(Dense(100,activation ='relu'))\n",
    "        model.add(Dense(1,activation ='linear'))\n",
    "        model.compile(loss='mse',optimizer=Adam(lr=self.learning_rate))\n",
    "        model.summary\n",
    "        return model\n",
    "\n",
    "     # get action from model using epsilon-greedy policy\n",
    "    # Decay in ε after we generate each sample from the environment  \n",
    "    def get_action(self, state, episode):\n",
    "        poss_actions_index, poss_actions = env.requests(state)\n",
    "        epsilon = self.epsilon_min + (self.epsilon_max - self.epsilon_min) * np.exp(-self.epsilon_decay*episode)\n",
    "        \n",
    "        # Randomly choosing and action->Exploration\n",
    "        if np.random.rand() <= epsilon:      \n",
    "            action_index = np.random.choice(poss_actions_index)\n",
    "            action = self.action_space[action_index]\n",
    "        else: #This gets the action corresponding to max q-value of current state->Exploitation\n",
    "            q_value = self.prediction(poss_actions, state)\n",
    "            action_index = np.argmax(q_value)\n",
    "            action = poss_actions[action_index]\n",
    "        return action, epsilon\n",
    "            \n",
    "        \n",
    "    \n",
    "\n",
    "    def append_sample(self, state, action, reward, next_state, terminal_state):\n",
    "        self.memory.append((state, action, reward, next_state, terminal_state))\n",
    "        # save sample <s,a,r,s'> to the replay memory\n",
    "    \n",
    "\n",
    "    \n",
    "    # pick samples randomly from replay memory (with batch_size) and train the network\n",
    "    def train_model(self):\n",
    "  \n",
    "\n",
    "        if len(self.memory) < self.batch_size:\n",
    "            return\n",
    "        \n",
    "        # Sample batch from the memory\n",
    "        mini_batch = random.sample(self.memory, self.batch_size)\n",
    "        update_input = np.zeros((self.batch_size, 46))\n",
    "        update_output = np.zeros((self.batch_size, self.action_size))\n",
    "\n",
    "        actions, rewards, terminal_states = [], [], []\n",
    "\n",
    "        \n",
    "        \n",
    "        for i in range(self.batch_size):\n",
    "            \n",
    "            state, action, reward, next_state, terminal_state = mini_batch[i]\n",
    "            \n",
    "            actions.append(self.action_space.index(action))\n",
    "            rewards.append(reward)\n",
    "            terminal_states.append(terminal_state)\n",
    "            \n",
    "\n",
    "            update_input[i] = env.state_encod_arch2(state, action)\n",
    "            update_output[i,:]= self.prediction(self.action_space, next_state)\n",
    "        \n",
    "        target = np.zeros((self.batch_size))\n",
    "        # get your target Q-value on the basis of terminal state\n",
    "        for i in range(self.batch_size):\n",
    "            if terminal_states[i]:\n",
    "                #print(True)\n",
    "                target[i] = rewards[i]\n",
    "                \n",
    "            else:\n",
    "                target[i] = rewards[i] + self.discount_factor * (np.amax(update_output[i]))\n",
    "\n",
    "        self.model.fit(update_input, target, batch_size=self.batch_size, epochs=1, verbose=0)\n",
    "                       \n",
    "                \n",
    "\n",
    "    def load(self, name):\n",
    "        self.model.load_weights(name)\n",
    "\n",
    "    def save(self, name):\n",
    "        self.model.save_weights(name)"
   ]
  },
  {
   "cell_type": "code",
   "execution_count": 76,
   "metadata": {},
   "outputs": [],
   "source": [
    "Episodes = 1000"
   ]
  },
  {
   "cell_type": "markdown",
   "metadata": {},
   "source": [
    "### DQN block"
   ]
  },
  {
   "cell_type": "code",
   "execution_count": 77,
   "metadata": {},
   "outputs": [],
   "source": [
    "# Importing the environment\n",
    "from Env import CabDriver"
   ]
  },
  {
   "cell_type": "code",
   "execution_count": 78,
   "metadata": {},
   "outputs": [],
   "source": [
    "# Initialising the environment\n",
    "env = CabDriver()"
   ]
  },
  {
   "cell_type": "code",
   "execution_count": 79,
   "metadata": {},
   "outputs": [],
   "source": [
    "# Get size of state and action from environment\n",
    "state_size = len(env.state_space)\n",
    "action_size = len(env.action_space)"
   ]
  },
  {
   "cell_type": "code",
   "execution_count": 80,
   "metadata": {},
   "outputs": [],
   "source": [
    "# Agent needs to be initialised outside the loop since the DQN network will be initialised along with the agent\n",
    "agent = DQNAgent(state_size, action_size)"
   ]
  },
  {
   "cell_type": "code",
   "execution_count": 81,
   "metadata": {},
   "outputs": [],
   "source": [
    "# Tracking average and total rewards reward per episode\n",
    "avg_reward,total_reward = [],[]\n",
    "start_time = time.time()"
   ]
  },
  {
   "cell_type": "code",
   "execution_count": 82,
   "metadata": {},
   "outputs": [
    {
     "name": "stdout",
     "output_type": "stream",
     "text": [
      "episode: 0   score: -146.0   memory length: 158   epsilon: 1.0\n",
      "Total time taken  136.98 s\n",
      "episode: 100   score: 72.0   memory length: 2000   epsilon: 0.9704455338440529\n",
      "Total time taken  15364.24 s\n",
      "episode: 200   score: -216.0   memory length: 2000   epsilon: 0.9417645341666034\n",
      "Total time taken  31045.35 s\n",
      "episode: 300   score: -93.0   memory length: 2000   epsilon: 0.9139311861319164\n",
      "Total time taken  46716.83 s\n",
      "episode: 400   score: 8.0   memory length: 2000   epsilon: 0.8869204378479532\n",
      "Total time taken  72932.81 s\n",
      "episode: 500   score: -281.0   memory length: 2000   epsilon: 0.860707977817978\n",
      "Total time taken  91399.49 s\n",
      "episode: 600   score: 74.0   memory length: 2000   epsilon: 0.8352702130585699\n",
      "Total time taken  107154.21 s\n",
      "episode: 700   score: 108.0   memory length: 2000   epsilon: 0.8105842478643446\n",
      "Total time taken  122374.99 s\n",
      "episode: 800   score: 180.0   memory length: 2000   epsilon: 0.7866278632002749\n",
      "Total time taken  136952.66 s\n",
      "episode: 900   score: 285.0   memory length: 2000   epsilon: 0.7633794967030584\n",
      "Total time taken  151655.25 s\n"
     ]
    }
   ],
   "source": [
    "for episode in range(Episodes):\n",
    "    # tracking Step count,Total rewards\n",
    "    tot_reward = 0\n",
    "    step_count = 0\n",
    "    state = env.reset()\n",
    "    terminal_state = False\n",
    "  \n",
    "       \n",
    "    while not terminal_state:\n",
    "        \n",
    "        action, epsilon = agent.get_action(state, episode)\n",
    "        reward = env.reward_func(state, action, Time_matrix)\n",
    "        \n",
    "        next_state, terminal_state = env.next_state_func(state, action, Time_matrix)\n",
    "\n",
    "        # save the sample <s, a, r, s'> to the replay memory\n",
    "        agent.append_sample(state, action, reward, next_state, terminal_state)\n",
    "        \n",
    "        # every time step do the training\n",
    "        agent.train_model()\n",
    "        tot_reward += reward\n",
    "        state = next_state\n",
    "        step_count += 1\n",
    "        \n",
    "        # Store the rewards\n",
    "        if terminal_state and episode % 100 ==0:\n",
    "            avg_reward.append(tot_reward/step_count)\n",
    "            total_reward.append(tot_reward)\n",
    "            print(\"episode:\", episode, \"  score:\", tot_reward, \"  memory length:\",\n",
    "                      len(agent.memory), \"  epsilon:\", epsilon)\n",
    "            \n",
    "\n",
    "   \n",
    "    if episode % 100 == 0:\n",
    "        agent.save(name=\"model.pkl\")\n",
    "        elapsed_time = time.time() - start_time\n",
    "        save_tracking_states()\n",
    "        save_obj(states_track,'States_tracked')  \n",
    "        print('Total time taken ',round(elapsed_time,2),'s')\n",
    "        \n",
    "    \n",
    "    if episode % 1000 == 0 and episode !=0:\n",
    "        plt.plot(list(range(len(avg_reward))), avg_reward)\n",
    "        plt.show()\n",
    "        "
   ]
  },
  {
   "cell_type": "markdown",
   "metadata": {},
   "source": [
    "### Reward Plots"
   ]
  },
  {
   "cell_type": "code",
   "execution_count": 83,
   "metadata": {},
   "outputs": [
    {
     "data": {
      "image/png": "[encoded data removed]",
      "text/plain": [
       "<Figure size 432x288 with 1 Axes>"
      ]
     },
     "metadata": {
      "needs_background": "light"
     },
     "output_type": "display_data"
    }
   ],
   "source": [
    "# Plotting Total rewards\n",
    "plt.plot(list(range(len(total_reward))), total_reward)\n",
    "plt.ylabel(\"Total reward\")\n",
    "plt.show()"
   ]
  },
  {
   "cell_type": "code",
   "execution_count": 84,
   "metadata": {},
   "outputs": [
    {
     "data": {
      "image/png": "[encoded data removed]",
      "text/plain": [
       "<Figure size 432x288 with 1 Axes>"
      ]
     },
     "metadata": {
      "needs_background": "light"
     },
     "output_type": "display_data"
    }
   ],
   "source": [
    "# Plotting average rewards. Tracked after every 100 episodes\n",
    "plt.plot(list(range(len(avg_reward))), avg_reward)\n",
    "plt.ylabel(\"Average Reward\")\n",
    "plt.show()"
   ]
  },
  {
   "cell_type": "markdown",
   "metadata": {},
   "source": [
    "#### Q-Values Plots"
   ]
  },
  {
   "cell_type": "code",
   "execution_count": 96,
   "metadata": {},
   "outputs": [
    {
     "data": {
      "text/plain": [
       "<function matplotlib.pyplot.show(*args, **kw)>"
      ]
     },
     "execution_count": 96,
     "metadata": {},
     "output_type": "execute_result"
    },
    {
     "data": {
      "image/png": "[encoded data removed]",
      "text/plain": [
       "<Figure size 1080x504 with 4 Axes>"
      ]
     },
     "metadata": {
      "needs_background": "light"
     },
     "output_type": "display_data"
    }
   ],
   "source": [
    "plt.figure(0, figsize=(15,7))\n",
    "\n",
    "#Q1\n",
    "xaxis = np.asarray(range(len(states_track[(2, 2, 2)][(3,2)])))\n",
    "plt.subplot(241)\n",
    "plt.plot(xaxis,np.asarray(states_track[(2,2,2)][(3,2)]))\n",
    "plt.ylabel(\"Q-value\")\n",
    "plt.show\n",
    "\n",
    "#Q2\n",
    "xaxis = np.asarray(range(len(states_track[(3,10,6)][(3,4)])))\n",
    "plt.subplot(242)\n",
    "plt.plot(xaxis,np.asarray(states_track[(3,10,6)][(3,4)]))\n",
    "plt.ylabel(\"Q-value\")\n",
    "plt.show\n",
    "\n",
    "#Q3\n",
    "xaxis = np.asarray(range(len(states_track[(0,20,3)][(1,4)])))\n",
    "plt.subplot(243)\n",
    "plt.plot(xaxis,np.asarray(states_track[(0,20,3)][(1,4)]))\n",
    "plt.ylabel(\"Q-value\")\n",
    "plt.show\n",
    "\n",
    "#Q4\n",
    "xaxis = np.asarray(range(len(states_track[(3,0,2)][(3,1)])))\n",
    "plt.subplot(244)\n",
    "plt.plot(xaxis,np.asarray(states_track[(3,0,2)][(3,1)]))\n",
    "plt.ylabel(\"Q-value\")\n",
    "plt.show"
   ]
  },
  {
   "cell_type": "code",
   "execution_count": 88,
   "metadata": {},
   "outputs": [
    {
     "data": {
      "text/plain": [
       "range(0, 10)"
      ]
     },
     "execution_count": 88,
     "metadata": {},
     "output_type": "execute_result"
    }
   ],
   "source": [
    "range(len(states_track[(3,0,2)][(3,1)]))"
   ]
  },
  {
   "cell_type": "code",
   "execution_count": 100,
   "metadata": {},
   "outputs": [
    {
     "data": {
      "text/plain": [
       "[array([272.64444], dtype=float32),\n",
       " array([635.4605], dtype=float32),\n",
       " array([726.60114], dtype=float32),\n",
       " array([635.99524], dtype=float32),\n",
       " array([671.31244], dtype=float32),\n",
       " array([637.4653], dtype=float32),\n",
       " array([763.8561], dtype=float32),\n",
       " array([710.89105], dtype=float32),\n",
       " array([683.1288], dtype=float32),\n",
       " array([790.1893], dtype=float32)]"
      ]
     },
     "execution_count": 100,
     "metadata": {},
     "output_type": "execute_result"
    }
   ],
   "source": [
    "states_track[(3,0,2)][(3,1)]"
   ]
  },
  {
   "cell_type": "markdown",
   "metadata": {},
   "source": [
    "#### Epsilon-decay sample function"
   ]
  },
  {
   "cell_type": "code",
   "execution_count": 103,
   "metadata": {},
   "outputs": [],
   "source": [
    "time = np.arange(0,10000)\n",
    "epsilon = []\n",
    "for i in range(0,10000):\n",
    "    epsilon.append(0 + (1 - 0) * np.exp(-0.0009*i))"
   ]
  },
  {
   "cell_type": "code",
   "execution_count": 104,
   "metadata": {},
   "outputs": [
    {
     "data": {
      "image/png": "[encoded data removed]",
      "text/plain": [
       "<Figure size 432x288 with 1 Axes>"
      ]
     },
     "metadata": {
      "needs_background": "light"
     },
     "output_type": "display_data"
    }
   ],
   "source": [
    "plt.plot(time, epsilon)\n",
    "plt.show()"
   ]
  },
  {
   "cell_type": "code",
   "execution_count": null,
   "metadata": {},
   "outputs": [],
   "source": []
  }
 ],
 "metadata": {
  "kernelspec": {
   "display_name": "Python 3",
   "language": "python",
   "name": "python3"
  }
 },
 "nbformat": 4,
 "nbformat_minor": 2
}
