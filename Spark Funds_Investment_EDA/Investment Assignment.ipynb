{
 "cells": [
  {
   "cell_type": "markdown",
   "metadata": {},
   "source": [
    "# Investment Analysis Assignment"
   ]
  },
  {
   "cell_type": "markdown",
   "metadata": {},
   "source": [
    "#### Aim:\n",
    "\n",
    "To find the English Speaking Countries,the Funding type and top Sectors in which most investors are investing in a range of 5 to 15 million USD where Spark Funds can invest."
   ]
  },
  {
   "cell_type": "markdown",
   "metadata": {},
   "source": [
    "## Checkpoints - Part 1"
   ]
  },
  {
   "cell_type": "markdown",
   "metadata": {},
   "source": [
    "In this section we are going to import the libraries and perform encoding and decoding operations so that we can use the columns as per our requirement and make the data consistent to perform the required operations."
   ]
  },
  {
   "cell_type": "code",
   "execution_count": 163,
   "metadata": {},
   "outputs": [],
   "source": [
    "#libraries Import\n",
    "import pandas as pd\n",
    "import numpy as np\n",
    "import seaborn as sns\n",
    "import matplotlib.pyplot as plt\n",
    "import matplotlib.ticker as ticker\n",
    "import chardet\n",
    "import warnings\n",
    "#Setting warnings to be ignored\n",
    "warnings.filterwarnings('ignore')"
   ]
  },
  {
   "cell_type": "code",
   "execution_count": 164,
   "metadata": {},
   "outputs": [
    {
     "name": "stdout",
     "output_type": "stream",
     "text": [
      "companies.csv encoding type is  ascii\n",
      "rounds2.csv encoding type is  ascii\n",
      "mapping.csv encoding type is  ascii\n"
     ]
    }
   ],
   "source": [
    "#Detecting the encoding type and storing them for futher usage\n",
    "with open(\"companies.csv\", 'rb') as rawdata:\n",
    "    print(\"companies.csv encoding type is \", chardet.detect(rawdata.read(1000))['encoding'])\n",
    "with open(\"rounds2.csv\", 'rb') as rawdata:\n",
    "    print(\"rounds2.csv encoding type is \",chardet.detect(rawdata.read(1000))['encoding'])\n",
    "with open(\"mapping.csv\", 'rb') as rawdata:\n",
    "    print(\"mapping.csv encoding type is \",chardet.detect(rawdata.read(1000))['encoding'])"
   ]
  },
  {
   "cell_type": "markdown",
   "metadata": {},
   "source": [
    "Although ascii is found to be encoding type , when i tried using this type , import was thorwing error\n",
    "'ascii' codec can't decode byte 0xc2 in position 5648:. So, After some research using 'ISO-8859-1'."
   ]
  },
  {
   "cell_type": "code",
   "execution_count": 165,
   "metadata": {},
   "outputs": [],
   "source": [
    "#Create the required dataframes\n",
    "companies = pd.read_csv(\"companies.csv\",encoding='ISO-8859-1')\n",
    "rounds2 = pd.read_csv(\"rounds2.csv\",encoding='ISO-8859-1')"
   ]
  },
  {
   "cell_type": "code",
   "execution_count": 166,
   "metadata": {},
   "outputs": [
    {
     "name": "stdout",
     "output_type": "stream",
     "text": [
      "<class 'pandas.core.frame.DataFrame'>\n",
      "RangeIndex: 66368 entries, 0 to 66367\n",
      "Data columns (total 10 columns):\n",
      " #   Column         Non-Null Count  Dtype \n",
      "---  ------         --------------  ----- \n",
      " 0   permalink      66368 non-null  object\n",
      " 1   name           66367 non-null  object\n",
      " 2   homepage_url   61310 non-null  object\n",
      " 3   category_list  63220 non-null  object\n",
      " 4   status         66368 non-null  object\n",
      " 5   country_code   59410 non-null  object\n",
      " 6   state_code     57821 non-null  object\n",
      " 7   region         58338 non-null  object\n",
      " 8   city           58340 non-null  object\n",
      " 9   founded_at     51147 non-null  object\n",
      "dtypes: object(10)\n",
      "memory usage: 5.1+ MB\n"
     ]
    }
   ],
   "source": [
    "#Understanding the columns in companies dataframe\n",
    "companies.info()"
   ]
  },
  {
   "cell_type": "code",
   "execution_count": 167,
   "metadata": {},
   "outputs": [
    {
     "data": {
      "text/plain": [
       "permalink            0\n",
       "name                 1\n",
       "homepage_url      5058\n",
       "category_list     3148\n",
       "status               0\n",
       "country_code      6958\n",
       "state_code        8547\n",
       "region            8030\n",
       "city              8028\n",
       "founded_at       15221\n",
       "dtype: int64"
      ]
     },
     "execution_count": 167,
     "metadata": {},
     "output_type": "execute_result"
    }
   ],
   "source": [
    "#Inspecting Companies data set for null values\n",
    "companies.isnull().sum()"
   ]
  },
  {
   "cell_type": "code",
   "execution_count": 168,
   "metadata": {},
   "outputs": [
    {
     "data": {
      "text/html": [
       "<div>\n",
       "<style scoped>\n",
       "    .dataframe tbody tr th:only-of-type {\n",
       "        vertical-align: middle;\n",
       "    }\n",
       "\n",
       "    .dataframe tbody tr th {\n",
       "        vertical-align: top;\n",
       "    }\n",
       "\n",
       "    .dataframe thead th {\n",
       "        text-align: right;\n",
       "    }\n",
       "</style>\n",
       "<table border=\"1\" class=\"dataframe\">\n",
       "  <thead>\n",
       "    <tr style=\"text-align: right;\">\n",
       "      <th></th>\n",
       "      <th>permalink</th>\n",
       "      <th>name</th>\n",
       "      <th>homepage_url</th>\n",
       "      <th>category_list</th>\n",
       "      <th>status</th>\n",
       "      <th>country_code</th>\n",
       "      <th>state_code</th>\n",
       "      <th>region</th>\n",
       "      <th>city</th>\n",
       "      <th>founded_at</th>\n",
       "    </tr>\n",
       "  </thead>\n",
       "  <tbody>\n",
       "    <tr>\n",
       "      <th>0</th>\n",
       "      <td>/Organization/-Fame</td>\n",
       "      <td>#fame</td>\n",
       "      <td>http://livfame.com</td>\n",
       "      <td>Media</td>\n",
       "      <td>operating</td>\n",
       "      <td>IND</td>\n",
       "      <td>16</td>\n",
       "      <td>Mumbai</td>\n",
       "      <td>Mumbai</td>\n",
       "      <td>NaN</td>\n",
       "    </tr>\n",
       "    <tr>\n",
       "      <th>1</th>\n",
       "      <td>/Organization/-Qounter</td>\n",
       "      <td>:Qounter</td>\n",
       "      <td>http://www.qounter.com</td>\n",
       "      <td>Application Platforms|Real Time|Social Network...</td>\n",
       "      <td>operating</td>\n",
       "      <td>USA</td>\n",
       "      <td>DE</td>\n",
       "      <td>DE - Other</td>\n",
       "      <td>Delaware City</td>\n",
       "      <td>04-09-2014</td>\n",
       "    </tr>\n",
       "    <tr>\n",
       "      <th>2</th>\n",
       "      <td>/Organization/-The-One-Of-Them-Inc-</td>\n",
       "      <td>(THE) ONE of THEM,Inc.</td>\n",
       "      <td>http://oneofthem.jp</td>\n",
       "      <td>Apps|Games|Mobile</td>\n",
       "      <td>operating</td>\n",
       "      <td>NaN</td>\n",
       "      <td>NaN</td>\n",
       "      <td>NaN</td>\n",
       "      <td>NaN</td>\n",
       "      <td>NaN</td>\n",
       "    </tr>\n",
       "    <tr>\n",
       "      <th>3</th>\n",
       "      <td>/Organization/0-6-Com</td>\n",
       "      <td>0-6.com</td>\n",
       "      <td>http://www.0-6.com</td>\n",
       "      <td>Curated Web</td>\n",
       "      <td>operating</td>\n",
       "      <td>CHN</td>\n",
       "      <td>22</td>\n",
       "      <td>Beijing</td>\n",
       "      <td>Beijing</td>\n",
       "      <td>01-01-2007</td>\n",
       "    </tr>\n",
       "    <tr>\n",
       "      <th>4</th>\n",
       "      <td>/Organization/004-Technologies</td>\n",
       "      <td>004 Technologies</td>\n",
       "      <td>http://004gmbh.de/en/004-interact</td>\n",
       "      <td>Software</td>\n",
       "      <td>operating</td>\n",
       "      <td>USA</td>\n",
       "      <td>IL</td>\n",
       "      <td>Springfield, Illinois</td>\n",
       "      <td>Champaign</td>\n",
       "      <td>01-01-2010</td>\n",
       "    </tr>\n",
       "  </tbody>\n",
       "</table>\n",
       "</div>"
      ],
      "text/plain": [
       "                             permalink                    name  \\\n",
       "0                  /Organization/-Fame                   #fame   \n",
       "1               /Organization/-Qounter                :Qounter   \n",
       "2  /Organization/-The-One-Of-Them-Inc-  (THE) ONE of THEM,Inc.   \n",
       "3                /Organization/0-6-Com                 0-6.com   \n",
       "4       /Organization/004-Technologies        004 Technologies   \n",
       "\n",
       "                        homepage_url  \\\n",
       "0                 http://livfame.com   \n",
       "1             http://www.qounter.com   \n",
       "2                http://oneofthem.jp   \n",
       "3                 http://www.0-6.com   \n",
       "4  http://004gmbh.de/en/004-interact   \n",
       "\n",
       "                                       category_list     status country_code  \\\n",
       "0                                              Media  operating          IND   \n",
       "1  Application Platforms|Real Time|Social Network...  operating          USA   \n",
       "2                                  Apps|Games|Mobile  operating          NaN   \n",
       "3                                        Curated Web  operating          CHN   \n",
       "4                                           Software  operating          USA   \n",
       "\n",
       "  state_code                 region           city  founded_at  \n",
       "0         16                 Mumbai         Mumbai         NaN  \n",
       "1         DE             DE - Other  Delaware City  04-09-2014  \n",
       "2        NaN                    NaN            NaN         NaN  \n",
       "3         22                Beijing        Beijing  01-01-2007  \n",
       "4         IL  Springfield, Illinois      Champaign  01-01-2010  "
      ]
     },
     "execution_count": 168,
     "metadata": {},
     "output_type": "execute_result"
    }
   ],
   "source": [
    "companies.head()"
   ]
  },
  {
   "cell_type": "code",
   "execution_count": 169,
   "metadata": {},
   "outputs": [],
   "source": [
    "#Getting rid of special characters permalink and name columns\n",
    "companies.permalink=companies.permalink.str.encode('ISO-8859-1').str.decode('ascii', 'ignore')\n",
    "companies.name=companies.name.str.encode('ISO-8859-1').str.decode('ascii', 'ignore')"
   ]
  },
  {
   "cell_type": "code",
   "execution_count": 170,
   "metadata": {},
   "outputs": [],
   "source": [
    "# Making case consistent in permalink and name columns\n",
    "companies.permalink = companies.permalink.str.lower()\n",
    "companies.name=companies.name.str.lower()"
   ]
  },
  {
   "cell_type": "code",
   "execution_count": 171,
   "metadata": {},
   "outputs": [
    {
     "data": {
      "text/plain": [
       "company_permalink              0\n",
       "funding_round_permalink        0\n",
       "funding_round_type             0\n",
       "funding_round_code         83809\n",
       "funded_at                      0\n",
       "raised_amount_usd          19990\n",
       "dtype: int64"
      ]
     },
     "execution_count": 171,
     "metadata": {},
     "output_type": "execute_result"
    }
   ],
   "source": [
    "#Inspecting rounds2 data set\n",
    "rounds2.isnull().sum()"
   ]
  },
  {
   "cell_type": "code",
   "execution_count": 172,
   "metadata": {},
   "outputs": [
    {
     "data": {
      "text/html": [
       "<div>\n",
       "<style scoped>\n",
       "    .dataframe tbody tr th:only-of-type {\n",
       "        vertical-align: middle;\n",
       "    }\n",
       "\n",
       "    .dataframe tbody tr th {\n",
       "        vertical-align: top;\n",
       "    }\n",
       "\n",
       "    .dataframe thead th {\n",
       "        text-align: right;\n",
       "    }\n",
       "</style>\n",
       "<table border=\"1\" class=\"dataframe\">\n",
       "  <thead>\n",
       "    <tr style=\"text-align: right;\">\n",
       "      <th></th>\n",
       "      <th>company_permalink</th>\n",
       "      <th>funding_round_permalink</th>\n",
       "      <th>funding_round_type</th>\n",
       "      <th>funding_round_code</th>\n",
       "      <th>funded_at</th>\n",
       "      <th>raised_amount_usd</th>\n",
       "    </tr>\n",
       "  </thead>\n",
       "  <tbody>\n",
       "    <tr>\n",
       "      <th>0</th>\n",
       "      <td>/organization/-fame</td>\n",
       "      <td>/funding-round/9a01d05418af9f794eebff7ace91f638</td>\n",
       "      <td>venture</td>\n",
       "      <td>B</td>\n",
       "      <td>05-01-2015</td>\n",
       "      <td>10000000.00</td>\n",
       "    </tr>\n",
       "    <tr>\n",
       "      <th>1</th>\n",
       "      <td>/ORGANIZATION/-QOUNTER</td>\n",
       "      <td>/funding-round/22dacff496eb7acb2b901dec1dfe5633</td>\n",
       "      <td>venture</td>\n",
       "      <td>A</td>\n",
       "      <td>14-10-2014</td>\n",
       "      <td>nan</td>\n",
       "    </tr>\n",
       "    <tr>\n",
       "      <th>2</th>\n",
       "      <td>/organization/-qounter</td>\n",
       "      <td>/funding-round/b44fbb94153f6cdef13083530bb48030</td>\n",
       "      <td>seed</td>\n",
       "      <td>NaN</td>\n",
       "      <td>01-03-2014</td>\n",
       "      <td>700000.00</td>\n",
       "    </tr>\n",
       "    <tr>\n",
       "      <th>3</th>\n",
       "      <td>/ORGANIZATION/-THE-ONE-OF-THEM-INC-</td>\n",
       "      <td>/funding-round/650b8f704416801069bb178a1418776b</td>\n",
       "      <td>venture</td>\n",
       "      <td>B</td>\n",
       "      <td>30-01-2014</td>\n",
       "      <td>3406878.00</td>\n",
       "    </tr>\n",
       "    <tr>\n",
       "      <th>4</th>\n",
       "      <td>/organization/0-6-com</td>\n",
       "      <td>/funding-round/5727accaeaa57461bd22a9bdd945382d</td>\n",
       "      <td>venture</td>\n",
       "      <td>A</td>\n",
       "      <td>19-03-2008</td>\n",
       "      <td>2000000.00</td>\n",
       "    </tr>\n",
       "  </tbody>\n",
       "</table>\n",
       "</div>"
      ],
      "text/plain": [
       "                     company_permalink  \\\n",
       "0                  /organization/-fame   \n",
       "1               /ORGANIZATION/-QOUNTER   \n",
       "2               /organization/-qounter   \n",
       "3  /ORGANIZATION/-THE-ONE-OF-THEM-INC-   \n",
       "4                /organization/0-6-com   \n",
       "\n",
       "                           funding_round_permalink funding_round_type  \\\n",
       "0  /funding-round/9a01d05418af9f794eebff7ace91f638            venture   \n",
       "1  /funding-round/22dacff496eb7acb2b901dec1dfe5633            venture   \n",
       "2  /funding-round/b44fbb94153f6cdef13083530bb48030               seed   \n",
       "3  /funding-round/650b8f704416801069bb178a1418776b            venture   \n",
       "4  /funding-round/5727accaeaa57461bd22a9bdd945382d            venture   \n",
       "\n",
       "  funding_round_code   funded_at  raised_amount_usd  \n",
       "0                  B  05-01-2015        10000000.00  \n",
       "1                  A  14-10-2014                nan  \n",
       "2                NaN  01-03-2014          700000.00  \n",
       "3                  B  30-01-2014         3406878.00  \n",
       "4                  A  19-03-2008         2000000.00  "
      ]
     },
     "execution_count": 172,
     "metadata": {},
     "output_type": "execute_result"
    }
   ],
   "source": [
    "rounds2.head()"
   ]
  },
  {
   "cell_type": "code",
   "execution_count": 173,
   "metadata": {},
   "outputs": [],
   "source": [
    "#Getting rid of special characters company_permalink and funding_round_permalink columns\n",
    "rounds2.company_permalink=rounds2.company_permalink.str.encode('ISO-8859-1').str.decode('ascii', 'ignore')\n",
    "rounds2.funding_round_permalink=rounds2.funding_round_permalink.str.encode('ISO-8859-1').str.decode('ascii', 'ignore')"
   ]
  },
  {
   "cell_type": "code",
   "execution_count": 174,
   "metadata": {},
   "outputs": [],
   "source": [
    "# Making case consistent in company_permalink \n",
    "rounds2.company_permalink=rounds2.company_permalink.str.lower()"
   ]
  },
  {
   "cell_type": "markdown",
   "metadata": {},
   "source": [
    "#### Table-1.1\t\t\n",
    "\t\t\n",
    "##### Understand the Data Set \n",
    "1\tHow many unique companies are present in rounds2?\t\n",
    "2\tHow many unique companies are present in the companies file?\t\n",
    "3\tIn the companies data frame, which column can be used as the  unique key for each company? Write the name of the column\t\n",
    "4\tAre there any companies in the rounds2 file which are not  present in companies ? Answer Y/N.\t\n",
    "5\tMerge the two data frames so that all  variables (columns)  in the companies frame are added to the rounds2 data frame. Name the merged frame master_frame. How many observations are present in master_frame ?\t\n"
   ]
  },
  {
   "cell_type": "code",
   "execution_count": 175,
   "metadata": {},
   "outputs": [
    {
     "data": {
      "text/plain": [
       "66368"
      ]
     },
     "execution_count": 175,
     "metadata": {},
     "output_type": "execute_result"
    }
   ],
   "source": [
    "#1 How many unique companies are present in rounds2?\n",
    "rounds2.company_permalink.nunique()\n",
    "#Other ways of doing the same is\n",
    "#print(len(rounds2.company_permalink.unique()))\n",
    "#print(rounds2.groupby(\"company_permalink\").company_permalink.unique().count())"
   ]
  },
  {
   "cell_type": "code",
   "execution_count": 176,
   "metadata": {},
   "outputs": [
    {
     "data": {
      "text/plain": [
       "66368"
      ]
     },
     "execution_count": 176,
     "metadata": {},
     "output_type": "execute_result"
    }
   ],
   "source": [
    "#2 How many unique companies are present in the companies file?\n",
    "companies.permalink.nunique()"
   ]
  },
  {
   "cell_type": "code",
   "execution_count": 177,
   "metadata": {},
   "outputs": [
    {
     "name": "stdout",
     "output_type": "stream",
     "text": [
      "<class 'pandas.core.frame.DataFrame'>\n",
      "RangeIndex: 66368 entries, 0 to 66367\n",
      "Data columns (total 10 columns):\n",
      " #   Column         Non-Null Count  Dtype \n",
      "---  ------         --------------  ----- \n",
      " 0   permalink      66368 non-null  object\n",
      " 1   name           66367 non-null  object\n",
      " 2   homepage_url   61310 non-null  object\n",
      " 3   category_list  63220 non-null  object\n",
      " 4   status         66368 non-null  object\n",
      " 5   country_code   59410 non-null  object\n",
      " 6   state_code     57821 non-null  object\n",
      " 7   region         58338 non-null  object\n",
      " 8   city           58340 non-null  object\n",
      " 9   founded_at     51147 non-null  object\n",
      "dtypes: object(10)\n",
      "memory usage: 5.1+ MB\n",
      "None\n"
     ]
    },
    {
     "data": {
      "text/html": [
       "<div>\n",
       "<style scoped>\n",
       "    .dataframe tbody tr th:only-of-type {\n",
       "        vertical-align: middle;\n",
       "    }\n",
       "\n",
       "    .dataframe tbody tr th {\n",
       "        vertical-align: top;\n",
       "    }\n",
       "\n",
       "    .dataframe thead th {\n",
       "        text-align: right;\n",
       "    }\n",
       "</style>\n",
       "<table border=\"1\" class=\"dataframe\">\n",
       "  <thead>\n",
       "    <tr style=\"text-align: right;\">\n",
       "      <th></th>\n",
       "      <th>permalink</th>\n",
       "      <th>name</th>\n",
       "      <th>homepage_url</th>\n",
       "      <th>category_list</th>\n",
       "      <th>status</th>\n",
       "      <th>country_code</th>\n",
       "      <th>state_code</th>\n",
       "      <th>region</th>\n",
       "      <th>city</th>\n",
       "      <th>founded_at</th>\n",
       "    </tr>\n",
       "  </thead>\n",
       "  <tbody>\n",
       "    <tr>\n",
       "      <th>0</th>\n",
       "      <td>/organization/-fame</td>\n",
       "      <td>#fame</td>\n",
       "      <td>http://livfame.com</td>\n",
       "      <td>Media</td>\n",
       "      <td>operating</td>\n",
       "      <td>IND</td>\n",
       "      <td>16</td>\n",
       "      <td>Mumbai</td>\n",
       "      <td>Mumbai</td>\n",
       "      <td>NaN</td>\n",
       "    </tr>\n",
       "    <tr>\n",
       "      <th>1</th>\n",
       "      <td>/organization/-qounter</td>\n",
       "      <td>:qounter</td>\n",
       "      <td>http://www.qounter.com</td>\n",
       "      <td>Application Platforms|Real Time|Social Network...</td>\n",
       "      <td>operating</td>\n",
       "      <td>USA</td>\n",
       "      <td>DE</td>\n",
       "      <td>DE - Other</td>\n",
       "      <td>Delaware City</td>\n",
       "      <td>04-09-2014</td>\n",
       "    </tr>\n",
       "    <tr>\n",
       "      <th>2</th>\n",
       "      <td>/organization/-the-one-of-them-inc-</td>\n",
       "      <td>(the) one of them,inc.</td>\n",
       "      <td>http://oneofthem.jp</td>\n",
       "      <td>Apps|Games|Mobile</td>\n",
       "      <td>operating</td>\n",
       "      <td>NaN</td>\n",
       "      <td>NaN</td>\n",
       "      <td>NaN</td>\n",
       "      <td>NaN</td>\n",
       "      <td>NaN</td>\n",
       "    </tr>\n",
       "    <tr>\n",
       "      <th>3</th>\n",
       "      <td>/organization/0-6-com</td>\n",
       "      <td>0-6.com</td>\n",
       "      <td>http://www.0-6.com</td>\n",
       "      <td>Curated Web</td>\n",
       "      <td>operating</td>\n",
       "      <td>CHN</td>\n",
       "      <td>22</td>\n",
       "      <td>Beijing</td>\n",
       "      <td>Beijing</td>\n",
       "      <td>01-01-2007</td>\n",
       "    </tr>\n",
       "    <tr>\n",
       "      <th>4</th>\n",
       "      <td>/organization/004-technologies</td>\n",
       "      <td>004 technologies</td>\n",
       "      <td>http://004gmbh.de/en/004-interact</td>\n",
       "      <td>Software</td>\n",
       "      <td>operating</td>\n",
       "      <td>USA</td>\n",
       "      <td>IL</td>\n",
       "      <td>Springfield, Illinois</td>\n",
       "      <td>Champaign</td>\n",
       "      <td>01-01-2010</td>\n",
       "    </tr>\n",
       "  </tbody>\n",
       "</table>\n",
       "</div>"
      ],
      "text/plain": [
       "                             permalink                    name  \\\n",
       "0                  /organization/-fame                   #fame   \n",
       "1               /organization/-qounter                :qounter   \n",
       "2  /organization/-the-one-of-them-inc-  (the) one of them,inc.   \n",
       "3                /organization/0-6-com                 0-6.com   \n",
       "4       /organization/004-technologies        004 technologies   \n",
       "\n",
       "                        homepage_url  \\\n",
       "0                 http://livfame.com   \n",
       "1             http://www.qounter.com   \n",
       "2                http://oneofthem.jp   \n",
       "3                 http://www.0-6.com   \n",
       "4  http://004gmbh.de/en/004-interact   \n",
       "\n",
       "                                       category_list     status country_code  \\\n",
       "0                                              Media  operating          IND   \n",
       "1  Application Platforms|Real Time|Social Network...  operating          USA   \n",
       "2                                  Apps|Games|Mobile  operating          NaN   \n",
       "3                                        Curated Web  operating          CHN   \n",
       "4                                           Software  operating          USA   \n",
       "\n",
       "  state_code                 region           city  founded_at  \n",
       "0         16                 Mumbai         Mumbai         NaN  \n",
       "1         DE             DE - Other  Delaware City  04-09-2014  \n",
       "2        NaN                    NaN            NaN         NaN  \n",
       "3         22                Beijing        Beijing  01-01-2007  \n",
       "4         IL  Springfield, Illinois      Champaign  01-01-2010  "
      ]
     },
     "execution_count": 177,
     "metadata": {},
     "output_type": "execute_result"
    }
   ],
   "source": [
    "print(companies.info())\n",
    "companies.head()"
   ]
  },
  {
   "cell_type": "code",
   "execution_count": 178,
   "metadata": {},
   "outputs": [
    {
     "name": "stdout",
     "output_type": "stream",
     "text": [
      "No of unique values in permalink column 66368\n",
      "No of unique values in name column 66034\n",
      "Total no of rows in data frame 66368\n"
     ]
    }
   ],
   "source": [
    "#In the companies data frame, which column can be used as the  unique key for each company? Write the name of the column.\n",
    "    #From the above cell we can observe that unique can be one column either permalink or name\n",
    "    #Lets check the unique values in both column\n",
    "print(\"No of unique values in permalink column\",companies.permalink.nunique())\n",
    "print(\"No of unique values in name column\",companies.name.nunique())\n",
    "print(\"Total no of rows in data frame\",companies.shape[0])"
   ]
  },
  {
   "cell_type": "markdown",
   "metadata": {},
   "source": [
    "The no of rows in the data frame is equal to the no of unique values in permalink which can uniquely identify each row. So, permalink is the unique key.\n",
    "\n",
    "The reason permalink is unique key for each company in companies data frame can be explained with as simple example by studying the data set\n",
    "\n",
    "Ex:\n",
    "We have 2 companies with the same name Classy which are actually different companies but the permalink seems to be different for these 2 companies. Same case has been found with companies like Clean Wave Technologies,Clear Flight Solution etc"
   ]
  },
  {
   "cell_type": "code",
   "execution_count": 179,
   "metadata": {},
   "outputs": [
    {
     "data": {
      "text/plain": [
       "\"unique key is  for each company is 'permalink'\""
      ]
     },
     "execution_count": 179,
     "metadata": {},
     "output_type": "execute_result"
    }
   ],
   "source": [
    "print\n",
    "(\n",
    "      \"unique key is  for each company is 'permalink'\" \n",
    "      if companies.permalink.nunique() == companies.shape[0] \n",
    "      else \n",
    "      \"No Unique Key\"\n",
    ")"
   ]
  },
  {
   "cell_type": "code",
   "execution_count": 180,
   "metadata": {},
   "outputs": [
    {
     "name": "stdout",
     "output_type": "stream",
     "text": [
      "No of companies in the rounds2 file which are not present in companies  0\n"
     ]
    }
   ],
   "source": [
    "#Are there any companies in the rounds2 file which are not  present in companies ? Answer Y/N.\n",
    "#We create a filter to find the common companies between rounds2 and companies and apply negataion of this filter in rounds2\n",
    "#The resultant rounds2 size should give us the companies only present in rounds2\n",
    "filter1 = (rounds2.company_permalink.isin(companies.permalink.unique()))\n",
    "print(\"No of companies in the rounds2 file which are not present in companies \", rounds2[~filter1].size)"
   ]
  },
  {
   "cell_type": "markdown",
   "metadata": {},
   "source": [
    "Companies are same in both companies and rounds2 data set. So, the result size is 0."
   ]
  },
  {
   "cell_type": "markdown",
   "metadata": {},
   "source": [
    "Merging companies and rounds2 columns to create a master frame. As all the companies present in companies and rounds2 data set are same doing an inner join will not result in loss of any records in either of the data frames. "
   ]
  },
  {
   "cell_type": "code",
   "execution_count": 181,
   "metadata": {},
   "outputs": [
    {
     "name": "stdout",
     "output_type": "stream",
     "text": [
      "<class 'pandas.core.frame.DataFrame'>\n",
      "Int64Index: 114949 entries, 0 to 114948\n",
      "Data columns (total 16 columns):\n",
      " #   Column                   Non-Null Count   Dtype  \n",
      "---  ------                   --------------   -----  \n",
      " 0   permalink                114949 non-null  object \n",
      " 1   name                     114948 non-null  object \n",
      " 2   homepage_url             108815 non-null  object \n",
      " 3   category_list            111539 non-null  object \n",
      " 4   status                   114949 non-null  object \n",
      " 5   country_code             106271 non-null  object \n",
      " 6   state_code               104003 non-null  object \n",
      " 7   region                   104782 non-null  object \n",
      " 8   city                     104785 non-null  object \n",
      " 9   founded_at               94428 non-null   object \n",
      " 10  company_permalink        114949 non-null  object \n",
      " 11  funding_round_permalink  114949 non-null  object \n",
      " 12  funding_round_type       114949 non-null  object \n",
      " 13  funding_round_code       31140 non-null   object \n",
      " 14  funded_at                114949 non-null  object \n",
      " 15  raised_amount_usd        94959 non-null   float64\n",
      "dtypes: float64(1), object(15)\n",
      "memory usage: 14.9+ MB\n"
     ]
    }
   ],
   "source": [
    "master_frame = pd.merge(companies,rounds2,left_on=\"permalink\", right_on=\"company_permalink\", how='inner')\n",
    "master_frame.head()\n",
    "master_frame.info()"
   ]
  },
  {
   "cell_type": "code",
   "execution_count": 182,
   "metadata": {},
   "outputs": [
    {
     "data": {
      "text/plain": [
       "(114949, 16)"
      ]
     },
     "execution_count": 182,
     "metadata": {},
     "output_type": "execute_result"
    }
   ],
   "source": [
    "#How many observations are present in master_frame ?\n",
    "master_frame.shape"
   ]
  },
  {
   "cell_type": "markdown",
   "metadata": {},
   "source": [
    "## Data Cleaning"
   ]
  },
  {
   "cell_type": "markdown",
   "metadata": {},
   "source": [
    "In this section we will perform the following data cleaning operations.\n",
    "1. Handling null values.\n",
    "2. Imputing the required values."
   ]
  },
  {
   "cell_type": "code",
   "execution_count": 183,
   "metadata": {},
   "outputs": [
    {
     "data": {
      "text/plain": [
       "permalink                      0\n",
       "name                           1\n",
       "homepage_url                6134\n",
       "category_list               3410\n",
       "status                         0\n",
       "country_code                8678\n",
       "state_code                 10946\n",
       "region                     10167\n",
       "city                       10164\n",
       "founded_at                 20521\n",
       "company_permalink              0\n",
       "funding_round_permalink        0\n",
       "funding_round_type             0\n",
       "funding_round_code         83809\n",
       "funded_at                      0\n",
       "raised_amount_usd          19990\n",
       "dtype: int64"
      ]
     },
     "execution_count": 183,
     "metadata": {},
     "output_type": "execute_result"
    }
   ],
   "source": [
    "#Checking the no of null values in the dataframe\n",
    "master_frame.isnull().sum()"
   ]
  },
  {
   "cell_type": "code",
   "execution_count": 184,
   "metadata": {},
   "outputs": [
    {
     "data": {
      "text/plain": [
       "permalink                  0.00\n",
       "name                       0.00\n",
       "homepage_url               5.34\n",
       "category_list              2.97\n",
       "status                     0.00\n",
       "country_code               7.55\n",
       "state_code                 9.52\n",
       "region                     8.84\n",
       "city                       8.84\n",
       "founded_at                17.85\n",
       "company_permalink          0.00\n",
       "funding_round_permalink    0.00\n",
       "funding_round_type         0.00\n",
       "funding_round_code        72.91\n",
       "funded_at                  0.00\n",
       "raised_amount_usd         17.39\n",
       "dtype: float64"
      ]
     },
     "execution_count": 184,
     "metadata": {},
     "output_type": "execute_result"
    }
   ],
   "source": [
    "#Checking the percentage of null values in per column in the dataframe\n",
    "round((master_frame.isnull().sum()/len(master_frame.index))*100,2)"
   ]
  },
  {
   "cell_type": "markdown",
   "metadata": {},
   "source": [
    "Null values in these columns would not impact our analysis.\n",
    "\n",
    "homepage_url,\n",
    "state_code,\n",
    "region,\n",
    "city,\n",
    "founded_at,\n",
    "funding_round_code\n",
    "\n",
    "Imputation or dropping these null values won't add any insights to our analysis. So maintaining Status Quo and moving a head."
   ]
  },
  {
   "cell_type": "markdown",
   "metadata": {},
   "source": [
    "Following Columns with null values are important for our analysis. \n",
    "1. raised_amount_usd.\n",
    "2. category_list\n",
    "3. country code\n",
    "\n",
    "We will handle one by one."
   ]
  },
  {
   "cell_type": "markdown",
   "metadata": {},
   "source": [
    "Handling null values in raised_amount_usd. \n",
    "1. raised_amount_usd is a Numeric variable. \n",
    "2. As the percentage of null values in raised_amount_usd 17.4%, we can take a call on imputing either median or mean to address the null values.         "
   ]
  },
  {
   "cell_type": "code",
   "execution_count": 185,
   "metadata": {},
   "outputs": [
    {
     "name": "stdout",
     "output_type": "stream",
     "text": [
      "Mean and Median difference in master frame is 8746358.33\n"
     ]
    }
   ],
   "source": [
    "pd.set_option('display.float_format', lambda x: '%.2f' % x)\n",
    "master_frame.raised_amount_usd.describe()\n",
    "print(\"Mean and Median difference in master frame is\",\n",
    "      round(master_frame.raised_amount_usd.mean() - master_frame.raised_amount_usd.median(),2))"
   ]
  },
  {
   "cell_type": "markdown",
   "metadata": {},
   "source": [
    "As the difference is huge between mean and median there are certainly some huge values which may be outliers in raised_amount_usd."
   ]
  },
  {
   "cell_type": "code",
   "execution_count": 186,
   "metadata": {},
   "outputs": [
    {
     "data": {
      "image/png": "[encoded data removed]",
      "text/plain": [
       "<Figure size 432x288 with 1 Axes>"
      ]
     },
     "metadata": {
      "needs_background": "light"
     },
     "output_type": "display_data"
    }
   ],
   "source": [
    "master_frame.raised_amount_usd.plot.box()\n",
    "plt.show()"
   ]
  },
  {
   "cell_type": "markdown",
   "metadata": {},
   "source": [
    "Based on the type of funding and the no of rounds some companies would have recevied investment in billions , Some in millions or less. To identify the global trends , these high values too play a role in our analysis. So , we won't be removing these values."
   ]
  },
  {
   "cell_type": "markdown",
   "metadata": {},
   "source": [
    "From the Mean Median difference and box plot , We conclude that imputing median is the best course of action to handle the null values in raised_amount_usd column."
   ]
  },
  {
   "cell_type": "code",
   "execution_count": 187,
   "metadata": {},
   "outputs": [],
   "source": [
    "#Imputing median into raised_amount_usd column's null values\n",
    "master_frame['raised_amount_usd'].fillna((master_frame['raised_amount_usd'].median()), inplace=True)"
   ]
  },
  {
   "cell_type": "code",
   "execution_count": 188,
   "metadata": {},
   "outputs": [
    {
     "data": {
      "text/plain": [
       "0"
      ]
     },
     "execution_count": 188,
     "metadata": {},
     "output_type": "execute_result"
    }
   ],
   "source": [
    "#Verifying whether all null values are handled.\n",
    "master_frame.raised_amount_usd.isnull().sum()"
   ]
  },
  {
   "cell_type": "markdown",
   "metadata": {},
   "source": [
    "Category list and country code are Categorical variables. So, We cannot impute null values with an valid acceptable value in these columns so dropping them so that they won't affect our analysis is the best course of action."
   ]
  },
  {
   "cell_type": "code",
   "execution_count": 189,
   "metadata": {},
   "outputs": [
    {
     "data": {
      "text/plain": [
       "permalink                      0\n",
       "name                           1\n",
       "homepage_url                4220\n",
       "category_list                  0\n",
       "status                         0\n",
       "country_code                   0\n",
       "state_code                  2213\n",
       "region                      1455\n",
       "city                        1452\n",
       "founded_at                 16063\n",
       "company_permalink              0\n",
       "funding_round_permalink        0\n",
       "funding_round_type             0\n",
       "funding_round_code         75198\n",
       "funded_at                      0\n",
       "raised_amount_usd              0\n",
       "dtype: int64"
      ]
     },
     "execution_count": 189,
     "metadata": {},
     "output_type": "execute_result"
    }
   ],
   "source": [
    "#Removing entries which have null values in category_list and country_code\n",
    "master_frame = master_frame[~(pd.isnull(master_frame.category_list) | pd.isnull(master_frame.country_code))]\n",
    "master_frame.isnull().sum()"
   ]
  },
  {
   "cell_type": "code",
   "execution_count": 190,
   "metadata": {},
   "outputs": [
    {
     "data": {
      "text/html": [
       "<div>\n",
       "<style scoped>\n",
       "    .dataframe tbody tr th:only-of-type {\n",
       "        vertical-align: middle;\n",
       "    }\n",
       "\n",
       "    .dataframe tbody tr th {\n",
       "        vertical-align: top;\n",
       "    }\n",
       "\n",
       "    .dataframe thead th {\n",
       "        text-align: right;\n",
       "    }\n",
       "</style>\n",
       "<table border=\"1\" class=\"dataframe\">\n",
       "  <thead>\n",
       "    <tr style=\"text-align: right;\">\n",
       "      <th></th>\n",
       "      <th>permalink</th>\n",
       "      <th>name</th>\n",
       "      <th>homepage_url</th>\n",
       "      <th>category_list</th>\n",
       "      <th>status</th>\n",
       "      <th>country_code</th>\n",
       "      <th>state_code</th>\n",
       "      <th>region</th>\n",
       "      <th>city</th>\n",
       "      <th>founded_at</th>\n",
       "      <th>company_permalink</th>\n",
       "      <th>funding_round_permalink</th>\n",
       "      <th>funding_round_type</th>\n",
       "      <th>funding_round_code</th>\n",
       "      <th>funded_at</th>\n",
       "      <th>raised_amount_usd</th>\n",
       "    </tr>\n",
       "  </thead>\n",
       "  <tbody>\n",
       "    <tr>\n",
       "      <th>98692</th>\n",
       "      <td>/organization/tell-it-in</td>\n",
       "      <td>NaN</td>\n",
       "      <td>http://tellitin10.com</td>\n",
       "      <td>Startups</td>\n",
       "      <td>closed</td>\n",
       "      <td>USA</td>\n",
       "      <td>OR</td>\n",
       "      <td>Portland, Oregon</td>\n",
       "      <td>Portland</td>\n",
       "      <td>01-10-2011</td>\n",
       "      <td>/organization/tell-it-in</td>\n",
       "      <td>/funding-round/9c987e616755a78c51a4aa67c27a2a93</td>\n",
       "      <td>seed</td>\n",
       "      <td>NaN</td>\n",
       "      <td>01-03-2012</td>\n",
       "      <td>25000.00</td>\n",
       "    </tr>\n",
       "  </tbody>\n",
       "</table>\n",
       "</div>"
      ],
      "text/plain": [
       "                      permalink name           homepage_url category_list  \\\n",
       "98692  /organization/tell-it-in  NaN  http://tellitin10.com      Startups   \n",
       "\n",
       "       status country_code state_code            region      city  founded_at  \\\n",
       "98692  closed          USA         OR  Portland, Oregon  Portland  01-10-2011   \n",
       "\n",
       "              company_permalink  \\\n",
       "98692  /organization/tell-it-in   \n",
       "\n",
       "                               funding_round_permalink funding_round_type  \\\n",
       "98692  /funding-round/9c987e616755a78c51a4aa67c27a2a93               seed   \n",
       "\n",
       "      funding_round_code   funded_at  raised_amount_usd  \n",
       "98692                NaN  01-03-2012           25000.00  "
      ]
     },
     "execution_count": 190,
     "metadata": {},
     "output_type": "execute_result"
    }
   ],
   "source": [
    "#Inspecting the name column which has null value\n",
    "master_frame[master_frame.name.isnull()]"
   ]
  },
  {
   "cell_type": "markdown",
   "metadata": {},
   "source": [
    "We can Impute the name from the homepage_url screen"
   ]
  },
  {
   "cell_type": "code",
   "execution_count": 191,
   "metadata": {},
   "outputs": [
    {
     "data": {
      "text/plain": [
       "permalink                      0\n",
       "name                           0\n",
       "homepage_url                4220\n",
       "category_list                  0\n",
       "status                         0\n",
       "country_code                   0\n",
       "state_code                  2213\n",
       "region                      1455\n",
       "city                        1452\n",
       "founded_at                 16063\n",
       "company_permalink              0\n",
       "funding_round_permalink        0\n",
       "funding_round_type             0\n",
       "funding_round_code         75198\n",
       "funded_at                      0\n",
       "raised_amount_usd              0\n",
       "dtype: int64"
      ]
     },
     "execution_count": 191,
     "metadata": {},
     "output_type": "execute_result"
    }
   ],
   "source": [
    "master_frame.loc[master_frame['name'].isnull(),['name']]= master_frame[master_frame.name.isnull()].homepage_url.str.replace('http://','').str.replace('.com','')\n",
    "master_frame.isnull().sum()"
   ]
  },
  {
   "cell_type": "code",
   "execution_count": 192,
   "metadata": {},
   "outputs": [
    {
     "data": {
      "text/plain": [
       "operating    82489\n",
       "acquired     11245\n",
       "closed        6552\n",
       "ipo           4246\n",
       "Name: status, dtype: int64"
      ]
     },
     "execution_count": 192,
     "metadata": {},
     "output_type": "execute_result"
    }
   ],
   "source": [
    "#Examining status column \n",
    "master_frame.status.value_counts()                         "
   ]
  },
  {
   "cell_type": "markdown",
   "metadata": {},
   "source": [
    "I had the below observation.\n",
    "Spark funds is not going to be funding closed companies , so as a business decision we can remove them.\n",
    "But as per TA's answer to my question here https://learn.upgrad.com/v/course/696/question/254499 , not proceeding with this approach."
   ]
  },
  {
   "cell_type": "code",
   "execution_count": 193,
   "metadata": {},
   "outputs": [],
   "source": [
    "#master_frame = master_frame[~(master_frame.status == \"closed\")]"
   ]
  },
  {
   "cell_type": "markdown",
   "metadata": {},
   "source": [
    "## Checkpoint 2: Funding Type Analysis"
   ]
  },
  {
   "cell_type": "markdown",
   "metadata": {},
   "source": [
    "Average Values of Investments for Each of these Funding Types\t\t\n",
    "\n",
    "1\tAverage funding amount of venture type\t\n",
    "2\tAverage funding amount of angel type\t\n",
    "3\tAverage funding amount of seed type\t\n",
    "4\tAverage funding amount of private equity type\t\n",
    "5\tConsidering that Spark Funds wants to invest between 5 to 15 million USD per  investment round, which investment type is the most suitable for them?\t\n"
   ]
  },
  {
   "cell_type": "code",
   "execution_count": 194,
   "metadata": {},
   "outputs": [],
   "source": [
    "#Filtering the data to only consist the required fund types [\"angel\",\"seed\",\"venture\",\"private_equity\"]\n",
    "master_frame_req_fund = master_frame[master_frame.funding_round_type.isin([\"angel\",\"seed\",\"venture\",\"private_equity\"])]"
   ]
  },
  {
   "cell_type": "code",
   "execution_count": 195,
   "metadata": {},
   "outputs": [
    {
     "data": {
      "text/html": [
       "<style  type=\"text/css\" >\n",
       "</style><table id=\"T_3ca09fd2_d02f_11ea_8a28_c8f7506cc1da\" ><thead>    <tr>        <th class=\"blank level0\" ></th>        <th class=\"col_heading level0 col0\" >Average_raised_amount_usd</th>    </tr>    <tr>        <th class=\"index_name level0\" >funding_round_type</th>        <th class=\"blank\" ></th>    </tr></thead><tbody>\n",
       "                <tr>\n",
       "                        <th id=\"T_3ca09fd2_d02f_11ea_8a28_c8f7506cc1dalevel0_row0\" class=\"row_heading level0 row0\" >angel</th>\n",
       "                        <td id=\"T_3ca09fd2_d02f_11ea_8a28_c8f7506cc1darow0_col0\" class=\"data row0 col0\" >$1,104,671.37</td>\n",
       "            </tr>\n",
       "            <tr>\n",
       "                        <th id=\"T_3ca09fd2_d02f_11ea_8a28_c8f7506cc1dalevel0_row1\" class=\"row_heading level0 row1\" >private_equity</th>\n",
       "                        <td id=\"T_3ca09fd2_d02f_11ea_8a28_c8f7506cc1darow1_col0\" class=\"data row1 col0\" >$65,675,408.81</td>\n",
       "            </tr>\n",
       "            <tr>\n",
       "                        <th id=\"T_3ca09fd2_d02f_11ea_8a28_c8f7506cc1dalevel0_row2\" class=\"row_heading level0 row2\" >seed</th>\n",
       "                        <td id=\"T_3ca09fd2_d02f_11ea_8a28_c8f7506cc1darow2_col0\" class=\"data row2 col0\" >$936,291.63</td>\n",
       "            </tr>\n",
       "            <tr>\n",
       "                        <th id=\"T_3ca09fd2_d02f_11ea_8a28_c8f7506cc1dalevel0_row3\" class=\"row_heading level0 row3\" >venture</th>\n",
       "                        <td id=\"T_3ca09fd2_d02f_11ea_8a28_c8f7506cc1darow3_col0\" class=\"data row3 col0\" >$10,910,478.17</td>\n",
       "            </tr>\n",
       "    </tbody></table>"
      ],
      "text/plain": [
       "<pandas.io.formats.style.Styler at 0x2d35d62ef48>"
      ]
     },
     "execution_count": 195,
     "metadata": {},
     "output_type": "execute_result"
    }
   ],
   "source": [
    "master_frame_req_fund.groupby(\n",
    "    master_frame.funding_round_type\n",
    "    ).mean().rename(columns={'raised_amount_usd':'Average_raised_amount_usd'}).style.format('${0:,.2f}')"
   ]
  },
  {
   "cell_type": "markdown",
   "metadata": {},
   "source": [
    "As Spark Funds is intereseted in investing amount between 5 to 15 million USD ,we will check which seed funding falls in range."
   ]
  },
  {
   "cell_type": "code",
   "execution_count": 196,
   "metadata": {},
   "outputs": [
    {
     "data": {
      "text/plain": [
       "funding_round_type\n",
       "angel             False\n",
       "private_equity    False\n",
       "seed              False\n",
       "venture            True\n",
       "Name: raised_amount_usd, dtype: bool"
      ]
     },
     "execution_count": 196,
     "metadata": {},
     "output_type": "execute_result"
    }
   ],
   "source": [
    "master_frame_req_fund.groupby('funding_round_type')['raised_amount_usd'].mean().between(5000000,15000000,inclusive=True)"
   ]
  },
  {
   "cell_type": "code",
   "execution_count": 197,
   "metadata": {},
   "outputs": [
    {
     "data": {
      "text/html": [
       "<style  type=\"text/css\" >\n",
       "</style><table id=\"T_3ca8d64c_d02f_11ea_a417_c8f7506cc1da\" ><thead>    <tr>        <th class=\"blank level0\" ></th>        <th class=\"col_heading level0 col0\" >raised_amount_usd</th>    </tr></thead><tbody>\n",
       "                <tr>\n",
       "                        <th id=\"T_3ca8d64c_d02f_11ea_a417_c8f7506cc1dalevel0_row0\" class=\"row_heading level0 row0\" >0.25</th>\n",
       "                        <td id=\"T_3ca8d64c_d02f_11ea_a417_c8f7506cc1darow0_col0\" class=\"data row0 col0\" >$1,680,511.00</td>\n",
       "            </tr>\n",
       "            <tr>\n",
       "                        <th id=\"T_3ca8d64c_d02f_11ea_a417_c8f7506cc1dalevel0_row1\" class=\"row_heading level0 row1\" >0.5</th>\n",
       "                        <td id=\"T_3ca8d64c_d02f_11ea_a417_c8f7506cc1darow1_col0\" class=\"data row1 col0\" >$4,200,000.00</td>\n",
       "            </tr>\n",
       "            <tr>\n",
       "                        <th id=\"T_3ca8d64c_d02f_11ea_a417_c8f7506cc1dalevel0_row2\" class=\"row_heading level0 row2\" >0.75</th>\n",
       "                        <td id=\"T_3ca8d64c_d02f_11ea_a417_c8f7506cc1darow2_col0\" class=\"data row2 col0\" >$10,806,384.25</td>\n",
       "            </tr>\n",
       "    </tbody></table>"
      ],
      "text/plain": [
       "<pandas.io.formats.style.Styler at 0x2d35d625588>"
      ]
     },
     "execution_count": 197,
     "metadata": {},
     "output_type": "execute_result"
    }
   ],
   "source": [
    "#Checking the spread of Venture Fundtype\n",
    "master_frame_req_fund[master_frame_req_fund.funding_round_type == \"venture\"].quantile([0.25,0.5,0.75]).style.format('${0:,.2f}')"
   ]
  },
  {
   "cell_type": "markdown",
   "metadata": {},
   "source": [
    "#### Venture Funding type seems to be the best option for Spark Funds business strategy"
   ]
  },
  {
   "cell_type": "markdown",
   "metadata": {},
   "source": [
    "## Checkpoint 3: Country Analysis"
   ]
  },
  {
   "cell_type": "markdown",
   "metadata": {},
   "source": [
    "Analysing the Top 3 English-Speaking Countries\t\t\n",
    "\n",
    "1\tTop English speaking country\t\n",
    "2\tSecond English speaking country\t\n",
    "3\tThird English speaking country\t\n"
   ]
  },
  {
   "cell_type": "code",
   "execution_count": 198,
   "metadata": {},
   "outputs": [],
   "source": [
    "#Moving only the required venture data to a new data frame\n",
    "venture_data = master_frame_req_fund[master_frame_req_fund.funding_round_type == \"venture\"]"
   ]
  },
  {
   "cell_type": "code",
   "execution_count": 199,
   "metadata": {},
   "outputs": [],
   "source": [
    "#Figuring the top 9 countries which have received the largest fundings in venture in desceding order \n",
    "top9 = pd.DataFrame(venture_data.groupby(venture_data.country_code).raised_amount_usd.sum().nlargest(9).values)\n",
    "top9['country_code'] = venture_data.groupby(venture_data.country_code).raised_amount_usd.sum().nlargest(9).index"
   ]
  },
  {
   "cell_type": "code",
   "execution_count": 200,
   "metadata": {},
   "outputs": [],
   "source": [
    "top9 = top9.rename(columns={0:'Sum_raised_amount_usd'})"
   ]
  },
  {
   "cell_type": "code",
   "execution_count": 201,
   "metadata": {},
   "outputs": [
    {
     "data": {
      "text/html": [
       "<div>\n",
       "<style scoped>\n",
       "    .dataframe tbody tr th:only-of-type {\n",
       "        vertical-align: middle;\n",
       "    }\n",
       "\n",
       "    .dataframe tbody tr th {\n",
       "        vertical-align: top;\n",
       "    }\n",
       "\n",
       "    .dataframe thead th {\n",
       "        text-align: right;\n",
       "    }\n",
       "</style>\n",
       "<table border=\"1\" class=\"dataframe\">\n",
       "  <thead>\n",
       "    <tr style=\"text-align: right;\">\n",
       "      <th></th>\n",
       "      <th>Sum_raised_amount_usd</th>\n",
       "      <th>country_code</th>\n",
       "    </tr>\n",
       "  </thead>\n",
       "  <tbody>\n",
       "    <tr>\n",
       "      <th>0</th>\n",
       "      <td>423581977843.00</td>\n",
       "      <td>USA</td>\n",
       "    </tr>\n",
       "    <tr>\n",
       "      <th>1</th>\n",
       "      <td>40184215806.00</td>\n",
       "      <td>CHN</td>\n",
       "    </tr>\n",
       "    <tr>\n",
       "      <th>2</th>\n",
       "      <td>20449247468.00</td>\n",
       "      <td>GBR</td>\n",
       "    </tr>\n",
       "    <tr>\n",
       "      <th>3</th>\n",
       "      <td>14538793033.00</td>\n",
       "      <td>IND</td>\n",
       "    </tr>\n",
       "    <tr>\n",
       "      <th>4</th>\n",
       "      <td>9625061103.00</td>\n",
       "      <td>CAN</td>\n",
       "    </tr>\n",
       "    <tr>\n",
       "      <th>5</th>\n",
       "      <td>7326001501.00</td>\n",
       "      <td>FRA</td>\n",
       "    </tr>\n",
       "    <tr>\n",
       "      <th>6</th>\n",
       "      <td>7040887198.00</td>\n",
       "      <td>ISR</td>\n",
       "    </tr>\n",
       "    <tr>\n",
       "      <th>7</th>\n",
       "      <td>6674953890.00</td>\n",
       "      <td>DEU</td>\n",
       "    </tr>\n",
       "    <tr>\n",
       "      <th>8</th>\n",
       "      <td>3233187056.00</td>\n",
       "      <td>JPN</td>\n",
       "    </tr>\n",
       "  </tbody>\n",
       "</table>\n",
       "</div>"
      ],
      "text/plain": [
       "   Sum_raised_amount_usd country_code\n",
       "0        423581977843.00          USA\n",
       "1         40184215806.00          CHN\n",
       "2         20449247468.00          GBR\n",
       "3         14538793033.00          IND\n",
       "4          9625061103.00          CAN\n",
       "5          7326001501.00          FRA\n",
       "6          7040887198.00          ISR\n",
       "7          6674953890.00          DEU\n",
       "8          3233187056.00          JPN"
      ]
     },
     "execution_count": 201,
     "metadata": {},
     "output_type": "execute_result"
    }
   ],
   "source": [
    "top9"
   ]
  },
  {
   "cell_type": "markdown",
   "metadata": {},
   "source": [
    "After studying the above data and referring to the wikipedia page provided in the assignment , following would be the answers.\n",
    "\n",
    "1. Top English speaking country - USA\n",
    "2. Second English speaking country - GBR\n",
    "3. Third English speaking country - IND\n"
   ]
  },
  {
   "cell_type": "markdown",
   "metadata": {},
   "source": [
    "## Checkpoint 4: Sector Analysis 1"
   ]
  },
  {
   "cell_type": "code",
   "execution_count": 202,
   "metadata": {},
   "outputs": [],
   "source": [
    "#Splitting category_list and Creating and creating a main column\n",
    "venture_data['primary_sector'] = venture_data.category_list.str.split('|',1,expand=True)[0]"
   ]
  },
  {
   "cell_type": "code",
   "execution_count": 203,
   "metadata": {},
   "outputs": [],
   "source": [
    "#Reading mapping.csv\n",
    "mapping=pd.read_csv('mapping.csv')"
   ]
  },
  {
   "cell_type": "code",
   "execution_count": 204,
   "metadata": {},
   "outputs": [
    {
     "data": {
      "text/plain": [
       "category_list                              1\n",
       "Automotive & Sports                        0\n",
       "Blanks                                     0\n",
       "Cleantech / Semiconductors                 0\n",
       "Entertainment                              0\n",
       "Health                                     0\n",
       "Manufacturing                              0\n",
       "News, Search and Messaging                 0\n",
       "Others                                     0\n",
       "Social, Finance, Analytics, Advertising    0\n",
       "dtype: int64"
      ]
     },
     "execution_count": 204,
     "metadata": {},
     "output_type": "execute_result"
    }
   ],
   "source": [
    "#Inspecting for null values\n",
    "mapping.isnull().sum()"
   ]
  },
  {
   "cell_type": "code",
   "execution_count": 205,
   "metadata": {},
   "outputs": [
    {
     "data": {
      "text/html": [
       "<div>\n",
       "<style scoped>\n",
       "    .dataframe tbody tr th:only-of-type {\n",
       "        vertical-align: middle;\n",
       "    }\n",
       "\n",
       "    .dataframe tbody tr th {\n",
       "        vertical-align: top;\n",
       "    }\n",
       "\n",
       "    .dataframe thead th {\n",
       "        text-align: right;\n",
       "    }\n",
       "</style>\n",
       "<table border=\"1\" class=\"dataframe\">\n",
       "  <thead>\n",
       "    <tr style=\"text-align: right;\">\n",
       "      <th></th>\n",
       "      <th>category_list</th>\n",
       "      <th>Automotive &amp; Sports</th>\n",
       "      <th>Blanks</th>\n",
       "      <th>Cleantech / Semiconductors</th>\n",
       "      <th>Entertainment</th>\n",
       "      <th>Health</th>\n",
       "      <th>Manufacturing</th>\n",
       "      <th>News, Search and Messaging</th>\n",
       "      <th>Others</th>\n",
       "      <th>Social, Finance, Analytics, Advertising</th>\n",
       "    </tr>\n",
       "  </thead>\n",
       "  <tbody>\n",
       "    <tr>\n",
       "      <th>0</th>\n",
       "      <td>NaN</td>\n",
       "      <td>0</td>\n",
       "      <td>1</td>\n",
       "      <td>0</td>\n",
       "      <td>0</td>\n",
       "      <td>0</td>\n",
       "      <td>0</td>\n",
       "      <td>0</td>\n",
       "      <td>0</td>\n",
       "      <td>0</td>\n",
       "    </tr>\n",
       "  </tbody>\n",
       "</table>\n",
       "</div>"
      ],
      "text/plain": [
       "  category_list  Automotive & Sports  Blanks  Cleantech / Semiconductors  \\\n",
       "0           NaN                    0       1                           0   \n",
       "\n",
       "   Entertainment  Health  Manufacturing  News, Search and Messaging  Others  \\\n",
       "0              0       0              0                           0       0   \n",
       "\n",
       "   Social, Finance, Analytics, Advertising  \n",
       "0                                        0  "
      ]
     },
     "execution_count": 205,
     "metadata": {},
     "output_type": "execute_result"
    }
   ],
   "source": [
    "#Inspecting the column category_list which has null values                              \n",
    "mapping[mapping.category_list.isnull()]"
   ]
  },
  {
   "cell_type": "markdown",
   "metadata": {},
   "source": [
    "By observing this record , this seems to be a dummy record so , we remove it. We can also drop the Blanks column as well. Also \n",
    "We can drop the Blanks column which is not necessary for mapping as mapping a primary sector to Blank Main Sector isn't valid."
   ]
  },
  {
   "cell_type": "code",
   "execution_count": 206,
   "metadata": {},
   "outputs": [],
   "source": [
    "mapping = mapping.drop(columns='Blanks')\n",
    "mapping=mapping[~mapping.category_list.isnull()]"
   ]
  },
  {
   "cell_type": "code",
   "execution_count": 207,
   "metadata": {},
   "outputs": [
    {
     "data": {
      "text/plain": [
       "category_list                              0\n",
       "Automotive & Sports                        0\n",
       "Cleantech / Semiconductors                 0\n",
       "Entertainment                              0\n",
       "Health                                     0\n",
       "Manufacturing                              0\n",
       "News, Search and Messaging                 0\n",
       "Others                                     0\n",
       "Social, Finance, Analytics, Advertising    0\n",
       "dtype: int64"
      ]
     },
     "execution_count": 207,
     "metadata": {},
     "output_type": "execute_result"
    }
   ],
   "source": [
    "mapping.isnull().sum()"
   ]
  },
  {
   "cell_type": "code",
   "execution_count": 208,
   "metadata": {},
   "outputs": [
    {
     "data": {
      "text/plain": [
       "Mens Specific              1\n",
       "Music Education            1\n",
       "Social Media Platforms     1\n",
       "Big Data A0lytics          1\n",
       "Flash Storage              1\n",
       "                          ..\n",
       "Vending and Concessions    1\n",
       "Consumer Behavior          1\n",
       "Hardware + Software        1\n",
       "Audio                      1\n",
       "Data Centers               1\n",
       "Name: category_list, Length: 687, dtype: int64"
      ]
     },
     "execution_count": 208,
     "metadata": {},
     "output_type": "execute_result"
    }
   ],
   "source": [
    "#Inspecting category list column\n",
    "mapping.category_list.value_counts()"
   ]
  },
  {
   "cell_type": "markdown",
   "metadata": {},
   "source": [
    "The data looks werid For example  values like Identity Ma0gement,Jour0lism,Contact Ma0gement is spelled in correct , Checking if there are any other such anomolies."
   ]
  },
  {
   "cell_type": "code",
   "execution_count": 209,
   "metadata": {},
   "outputs": [
    {
     "data": {
      "text/plain": [
       "20              Alter0tive Medicine\n",
       "22                         A0lytics\n",
       "59                Big Data A0lytics\n",
       "79                Business A0lytics\n",
       "89                          Can0bis\n",
       "91                 Career Ma0gement\n",
       "103                   Chi0 Internet\n",
       "114                 Cloud Ma0gement\n",
       "145               Contact Ma0gement\n",
       "198        Digital Rights Ma0gement\n",
       "199                  Digital Sig0ge\n",
       "210              Document Ma0gement\n",
       "223                Educatio0l Games\n",
       "240                Energy Ma0gement\n",
       "243                  Enterprise 2.0\n",
       "256                 Event Ma0gement\n",
       "273                          Fi0nce\n",
       "274               Fi0nce Technology\n",
       "275              Fi0ncial Exchanges\n",
       "276               Fi0ncial Services\n",
       "281                 Fleet Ma0gement\n",
       "310                       Gover0nce\n",
       "353              Identity Ma0gement\n",
       "370            Innovation Ma0gement\n",
       "372    Intellectual Asset Ma0gement\n",
       "384            Investment Ma0gement\n",
       "389                    IT Ma0gement\n",
       "391                       Jour0lism\n",
       "394             Knowledge Ma0gement\n",
       "400                  Lead Ma0gement\n",
       "437            Medical Professio0ls\n",
       "448                 Mobile A0lytics\n",
       "471                   0notechnology\n",
       "472      0tural Language Processing\n",
       "473                0tural Resources\n",
       "474                       0vigation\n",
       "514                Perso0l Branding\n",
       "515                    Perso0l Data\n",
       "516                  Perso0l Fi0nce\n",
       "517                  Perso0l Health\n",
       "518                  Perso0lization\n",
       "534             Predictive A0lytics\n",
       "546          Professio0l Networking\n",
       "547            Professio0l Services\n",
       "548               Project Ma0gement\n",
       "549                      Promotio0l\n",
       "550              Property Ma0gement\n",
       "575                  Risk Ma0gement\n",
       "612          Social Media Ma0gement\n",
       "633          Supply Chain Ma0gement\n",
       "637                  Task Ma0gement\n",
       "664                       Veteri0ry\n",
       "672                 Waste Ma0gement\n",
       "Name: category_list, dtype: object"
      ]
     },
     "execution_count": 209,
     "metadata": {},
     "output_type": "execute_result"
    }
   ],
   "source": [
    "mapping[mapping.category_list.str.contains('0',regex=True)].category_list"
   ]
  },
  {
   "cell_type": "markdown",
   "metadata": {},
   "source": [
    "After studying the above data a pattern is observed. It is understood that 0 is present where ever na is required. Seems to be a data corruption issue it is happeing at such a large scale.Correcting the data to make it proper.\n",
    "Note: We must make sure Enterprise 2.0 value must stay same as before even though it has 0."
   ]
  },
  {
   "cell_type": "code",
   "execution_count": 210,
   "metadata": {},
   "outputs": [],
   "source": [
    "mapping.category_list = mapping.category_list.str.replace(\"0\",\"na\").replace(\"Enterprise 2.na\",\"Enterprise 2.0\")"
   ]
  },
  {
   "cell_type": "code",
   "execution_count": 211,
   "metadata": {},
   "outputs": [
    {
     "data": {
      "text/html": [
       "<div>\n",
       "<style scoped>\n",
       "    .dataframe tbody tr th:only-of-type {\n",
       "        vertical-align: middle;\n",
       "    }\n",
       "\n",
       "    .dataframe tbody tr th {\n",
       "        vertical-align: top;\n",
       "    }\n",
       "\n",
       "    .dataframe thead th {\n",
       "        text-align: right;\n",
       "    }\n",
       "</style>\n",
       "<table border=\"1\" class=\"dataframe\">\n",
       "  <thead>\n",
       "    <tr style=\"text-align: right;\">\n",
       "      <th></th>\n",
       "      <th>category_list</th>\n",
       "      <th>Automotive &amp; Sports</th>\n",
       "      <th>Cleantech / Semiconductors</th>\n",
       "      <th>Entertainment</th>\n",
       "      <th>Health</th>\n",
       "      <th>Manufacturing</th>\n",
       "      <th>News, Search and Messaging</th>\n",
       "      <th>Others</th>\n",
       "      <th>Social, Finance, Analytics, Advertising</th>\n",
       "    </tr>\n",
       "  </thead>\n",
       "  <tbody>\n",
       "    <tr>\n",
       "      <th>243</th>\n",
       "      <td>Enterprise 2.0</td>\n",
       "      <td>0</td>\n",
       "      <td>0</td>\n",
       "      <td>0</td>\n",
       "      <td>0</td>\n",
       "      <td>0</td>\n",
       "      <td>0</td>\n",
       "      <td>1</td>\n",
       "      <td>0</td>\n",
       "    </tr>\n",
       "  </tbody>\n",
       "</table>\n",
       "</div>"
      ],
      "text/plain": [
       "      category_list  Automotive & Sports  Cleantech / Semiconductors  \\\n",
       "243  Enterprise 2.0                    0                           0   \n",
       "\n",
       "     Entertainment  Health  Manufacturing  News, Search and Messaging  Others  \\\n",
       "243              0       0              0                           0       1   \n",
       "\n",
       "     Social, Finance, Analytics, Advertising  \n",
       "243                                        0  "
      ]
     },
     "execution_count": 211,
     "metadata": {},
     "output_type": "execute_result"
    }
   ],
   "source": [
    "#Making sure Enterprise 2.0 is not modified\n",
    "mapping[mapping.category_list.str.contains(\"Enterprise 2\")]"
   ]
  },
  {
   "cell_type": "code",
   "execution_count": 212,
   "metadata": {},
   "outputs": [
    {
     "data": {
      "text/plain": [
       "243    Enterprise 2.0\n",
       "Name: category_list, dtype: object"
      ]
     },
     "execution_count": 212,
     "metadata": {},
     "output_type": "execute_result"
    }
   ],
   "source": [
    "#Making Sure all others are modified except Enterprise 2.0\n",
    "mapping[mapping.category_list.str.contains('0',regex=True)].category_list"
   ]
  },
  {
   "cell_type": "code",
   "execution_count": 213,
   "metadata": {},
   "outputs": [
    {
     "data": {
      "text/html": [
       "<div>\n",
       "<style scoped>\n",
       "    .dataframe tbody tr th:only-of-type {\n",
       "        vertical-align: middle;\n",
       "    }\n",
       "\n",
       "    .dataframe tbody tr th {\n",
       "        vertical-align: top;\n",
       "    }\n",
       "\n",
       "    .dataframe thead th {\n",
       "        text-align: right;\n",
       "    }\n",
       "</style>\n",
       "<table border=\"1\" class=\"dataframe\">\n",
       "  <thead>\n",
       "    <tr style=\"text-align: right;\">\n",
       "      <th></th>\n",
       "      <th>category_list</th>\n",
       "      <th>Automotive &amp; Sports</th>\n",
       "      <th>Cleantech / Semiconductors</th>\n",
       "      <th>Entertainment</th>\n",
       "      <th>Health</th>\n",
       "      <th>Manufacturing</th>\n",
       "      <th>News, Search and Messaging</th>\n",
       "      <th>Others</th>\n",
       "      <th>Social, Finance, Analytics, Advertising</th>\n",
       "    </tr>\n",
       "  </thead>\n",
       "  <tbody>\n",
       "    <tr>\n",
       "      <th>1</th>\n",
       "      <td>3D</td>\n",
       "      <td>0</td>\n",
       "      <td>0</td>\n",
       "      <td>0</td>\n",
       "      <td>0</td>\n",
       "      <td>1</td>\n",
       "      <td>0</td>\n",
       "      <td>0</td>\n",
       "      <td>0</td>\n",
       "    </tr>\n",
       "    <tr>\n",
       "      <th>2</th>\n",
       "      <td>3D Printing</td>\n",
       "      <td>0</td>\n",
       "      <td>0</td>\n",
       "      <td>0</td>\n",
       "      <td>0</td>\n",
       "      <td>1</td>\n",
       "      <td>0</td>\n",
       "      <td>0</td>\n",
       "      <td>0</td>\n",
       "    </tr>\n",
       "    <tr>\n",
       "      <th>3</th>\n",
       "      <td>3D Technology</td>\n",
       "      <td>0</td>\n",
       "      <td>0</td>\n",
       "      <td>0</td>\n",
       "      <td>0</td>\n",
       "      <td>1</td>\n",
       "      <td>0</td>\n",
       "      <td>0</td>\n",
       "      <td>0</td>\n",
       "    </tr>\n",
       "    <tr>\n",
       "      <th>4</th>\n",
       "      <td>Accounting</td>\n",
       "      <td>0</td>\n",
       "      <td>0</td>\n",
       "      <td>0</td>\n",
       "      <td>0</td>\n",
       "      <td>0</td>\n",
       "      <td>0</td>\n",
       "      <td>0</td>\n",
       "      <td>1</td>\n",
       "    </tr>\n",
       "    <tr>\n",
       "      <th>5</th>\n",
       "      <td>Active Lifestyle</td>\n",
       "      <td>0</td>\n",
       "      <td>0</td>\n",
       "      <td>0</td>\n",
       "      <td>1</td>\n",
       "      <td>0</td>\n",
       "      <td>0</td>\n",
       "      <td>0</td>\n",
       "      <td>0</td>\n",
       "    </tr>\n",
       "  </tbody>\n",
       "</table>\n",
       "</div>"
      ],
      "text/plain": [
       "      category_list  Automotive & Sports  Cleantech / Semiconductors  \\\n",
       "1                3D                    0                           0   \n",
       "2       3D Printing                    0                           0   \n",
       "3     3D Technology                    0                           0   \n",
       "4        Accounting                    0                           0   \n",
       "5  Active Lifestyle                    0                           0   \n",
       "\n",
       "   Entertainment  Health  Manufacturing  News, Search and Messaging  Others  \\\n",
       "1              0       0              1                           0       0   \n",
       "2              0       0              1                           0       0   \n",
       "3              0       0              1                           0       0   \n",
       "4              0       0              0                           0       0   \n",
       "5              0       1              0                           0       0   \n",
       "\n",
       "   Social, Finance, Analytics, Advertising  \n",
       "1                                        0  \n",
       "2                                        0  \n",
       "3                                        0  \n",
       "4                                        1  \n",
       "5                                        0  "
      ]
     },
     "execution_count": 213,
     "metadata": {},
     "output_type": "execute_result"
    }
   ],
   "source": [
    "mapping.head()"
   ]
  },
  {
   "cell_type": "markdown",
   "metadata": {},
   "source": [
    "To map the each primary sector to main sector , We examine the mapping data. It's clearly a 0-1 matrix.We can reshape the data frame for easier retreival of values.In pandas inbuilt functions such as melt() or wide_to_long() cane be used to reshape the dataframe.Here we will use melt."
   ]
  },
  {
   "cell_type": "code",
   "execution_count": 214,
   "metadata": {},
   "outputs": [
    {
     "data": {
      "text/html": [
       "<div>\n",
       "<style scoped>\n",
       "    .dataframe tbody tr th:only-of-type {\n",
       "        vertical-align: middle;\n",
       "    }\n",
       "\n",
       "    .dataframe tbody tr th {\n",
       "        vertical-align: top;\n",
       "    }\n",
       "\n",
       "    .dataframe thead th {\n",
       "        text-align: right;\n",
       "    }\n",
       "</style>\n",
       "<table border=\"1\" class=\"dataframe\">\n",
       "  <thead>\n",
       "    <tr style=\"text-align: right;\">\n",
       "      <th></th>\n",
       "      <th>category_list</th>\n",
       "      <th>variable</th>\n",
       "      <th>value</th>\n",
       "    </tr>\n",
       "  </thead>\n",
       "  <tbody>\n",
       "    <tr>\n",
       "      <th>0</th>\n",
       "      <td>3D</td>\n",
       "      <td>Automotive &amp; Sports</td>\n",
       "      <td>0</td>\n",
       "    </tr>\n",
       "    <tr>\n",
       "      <th>1</th>\n",
       "      <td>3D Printing</td>\n",
       "      <td>Automotive &amp; Sports</td>\n",
       "      <td>0</td>\n",
       "    </tr>\n",
       "    <tr>\n",
       "      <th>2</th>\n",
       "      <td>3D Technology</td>\n",
       "      <td>Automotive &amp; Sports</td>\n",
       "      <td>0</td>\n",
       "    </tr>\n",
       "    <tr>\n",
       "      <th>3</th>\n",
       "      <td>Accounting</td>\n",
       "      <td>Automotive &amp; Sports</td>\n",
       "      <td>0</td>\n",
       "    </tr>\n",
       "    <tr>\n",
       "      <th>4</th>\n",
       "      <td>Active Lifestyle</td>\n",
       "      <td>Automotive &amp; Sports</td>\n",
       "      <td>0</td>\n",
       "    </tr>\n",
       "    <tr>\n",
       "      <th>5</th>\n",
       "      <td>Ad Targeting</td>\n",
       "      <td>Automotive &amp; Sports</td>\n",
       "      <td>0</td>\n",
       "    </tr>\n",
       "    <tr>\n",
       "      <th>6</th>\n",
       "      <td>Advanced Materials</td>\n",
       "      <td>Automotive &amp; Sports</td>\n",
       "      <td>0</td>\n",
       "    </tr>\n",
       "    <tr>\n",
       "      <th>7</th>\n",
       "      <td>Adventure Travel</td>\n",
       "      <td>Automotive &amp; Sports</td>\n",
       "      <td>1</td>\n",
       "    </tr>\n",
       "    <tr>\n",
       "      <th>8</th>\n",
       "      <td>Advertising</td>\n",
       "      <td>Automotive &amp; Sports</td>\n",
       "      <td>0</td>\n",
       "    </tr>\n",
       "    <tr>\n",
       "      <th>9</th>\n",
       "      <td>Advertising Exchanges</td>\n",
       "      <td>Automotive &amp; Sports</td>\n",
       "      <td>0</td>\n",
       "    </tr>\n",
       "  </tbody>\n",
       "</table>\n",
       "</div>"
      ],
      "text/plain": [
       "           category_list             variable  value\n",
       "0                     3D  Automotive & Sports      0\n",
       "1            3D Printing  Automotive & Sports      0\n",
       "2          3D Technology  Automotive & Sports      0\n",
       "3             Accounting  Automotive & Sports      0\n",
       "4       Active Lifestyle  Automotive & Sports      0\n",
       "5           Ad Targeting  Automotive & Sports      0\n",
       "6     Advanced Materials  Automotive & Sports      0\n",
       "7       Adventure Travel  Automotive & Sports      1\n",
       "8            Advertising  Automotive & Sports      0\n",
       "9  Advertising Exchanges  Automotive & Sports      0"
      ]
     },
     "execution_count": 214,
     "metadata": {},
     "output_type": "execute_result"
    }
   ],
   "source": [
    "df_melted = pd.melt(mapping, id_vars=[\"category_list\"], \n",
    "                    value_vars=['Automotive & Sports','Cleantech / Semiconductors', 'Entertainment', 'Health',\n",
    "                                'Manufacturing', 'News, Search and Messaging', 'Others','Social, Finance, Analytics, Advertising'\n",
    "                   ])\n",
    "#Reshaped data frame would be as below\n",
    "df_melted.head(10)"
   ]
  },
  {
   "cell_type": "code",
   "execution_count": 215,
   "metadata": {},
   "outputs": [],
   "source": [
    "#Now we retrieve only records with value 1 which will give us the list of category_list to main_sector mappings\n",
    "df_melted = df_melted[(df_melted.value == 1)]"
   ]
  },
  {
   "cell_type": "markdown",
   "metadata": {},
   "source": [
    "We need to rename the category_list column in the mapping data frame.If we merge without renaming and using left_on , right_on params in merge , as there is already a category_list in our venture_data frame ,it will lead to renaming of these category_list columns as category_list_x and category_list_y."
   ]
  },
  {
   "cell_type": "code",
   "execution_count": 216,
   "metadata": {},
   "outputs": [],
   "source": [
    "df_melted=df_melted.rename(columns={'category_list':'primary_sector','variable':'main_sector'})"
   ]
  },
  {
   "cell_type": "code",
   "execution_count": 217,
   "metadata": {},
   "outputs": [],
   "source": [
    "#Dropping the value column as we don't require it anymore\n",
    "del df_melted['value']"
   ]
  },
  {
   "cell_type": "code",
   "execution_count": 218,
   "metadata": {},
   "outputs": [
    {
     "name": "stdout",
     "output_type": "stream",
     "text": [
      "<class 'pandas.core.frame.DataFrame'>\n",
      "Int64Index: 687 entries, 7 to 5471\n",
      "Data columns (total 2 columns):\n",
      " #   Column          Non-Null Count  Dtype \n",
      "---  ------          --------------  ----- \n",
      " 0   primary_sector  687 non-null    object\n",
      " 1   main_sector     687 non-null    object\n",
      "dtypes: object(2)\n",
      "memory usage: 16.1+ KB\n"
     ]
    }
   ],
   "source": [
    "df_melted.info()"
   ]
  },
  {
   "cell_type": "markdown",
   "metadata": {},
   "source": [
    "Achieving the objective of this Checkpoint 4 by creating the df_venture_sector_master which is a merge of venture_data and df_melted frame derived from mapping file."
   ]
  },
  {
   "cell_type": "code",
   "execution_count": 219,
   "metadata": {},
   "outputs": [
    {
     "name": "stdout",
     "output_type": "stream",
     "text": [
      "Shape is  (51829, 18)\n"
     ]
    },
    {
     "data": {
      "text/html": [
       "<div>\n",
       "<style scoped>\n",
       "    .dataframe tbody tr th:only-of-type {\n",
       "        vertical-align: middle;\n",
       "    }\n",
       "\n",
       "    .dataframe tbody tr th {\n",
       "        vertical-align: top;\n",
       "    }\n",
       "\n",
       "    .dataframe thead th {\n",
       "        text-align: right;\n",
       "    }\n",
       "</style>\n",
       "<table border=\"1\" class=\"dataframe\">\n",
       "  <thead>\n",
       "    <tr style=\"text-align: right;\">\n",
       "      <th></th>\n",
       "      <th>permalink</th>\n",
       "      <th>name</th>\n",
       "      <th>homepage_url</th>\n",
       "      <th>category_list</th>\n",
       "      <th>status</th>\n",
       "      <th>country_code</th>\n",
       "      <th>state_code</th>\n",
       "      <th>region</th>\n",
       "      <th>city</th>\n",
       "      <th>founded_at</th>\n",
       "      <th>company_permalink</th>\n",
       "      <th>funding_round_permalink</th>\n",
       "      <th>funding_round_type</th>\n",
       "      <th>funding_round_code</th>\n",
       "      <th>funded_at</th>\n",
       "      <th>raised_amount_usd</th>\n",
       "      <th>primary_sector</th>\n",
       "      <th>main_sector</th>\n",
       "    </tr>\n",
       "  </thead>\n",
       "  <tbody>\n",
       "    <tr>\n",
       "      <th>0</th>\n",
       "      <td>/organization/-fame</td>\n",
       "      <td>#fame</td>\n",
       "      <td>http://livfame.com</td>\n",
       "      <td>Media</td>\n",
       "      <td>operating</td>\n",
       "      <td>IND</td>\n",
       "      <td>16</td>\n",
       "      <td>Mumbai</td>\n",
       "      <td>Mumbai</td>\n",
       "      <td>NaN</td>\n",
       "      <td>/organization/-fame</td>\n",
       "      <td>/funding-round/9a01d05418af9f794eebff7ace91f638</td>\n",
       "      <td>venture</td>\n",
       "      <td>B</td>\n",
       "      <td>05-01-2015</td>\n",
       "      <td>10000000.00</td>\n",
       "      <td>Media</td>\n",
       "      <td>Entertainment</td>\n",
       "    </tr>\n",
       "    <tr>\n",
       "      <th>1</th>\n",
       "      <td>/organization/90min</td>\n",
       "      <td>90min</td>\n",
       "      <td>http://www.90min.com</td>\n",
       "      <td>Media|News|Publishing|Soccer|Sports</td>\n",
       "      <td>operating</td>\n",
       "      <td>GBR</td>\n",
       "      <td>H9</td>\n",
       "      <td>London</td>\n",
       "      <td>London</td>\n",
       "      <td>01-01-2011</td>\n",
       "      <td>/organization/90min</td>\n",
       "      <td>/funding-round/21a2cbf6f2fb2a1c2a61e04bf930dfe6</td>\n",
       "      <td>venture</td>\n",
       "      <td>NaN</td>\n",
       "      <td>06-10-2015</td>\n",
       "      <td>15000000.00</td>\n",
       "      <td>Media</td>\n",
       "      <td>Entertainment</td>\n",
       "    </tr>\n",
       "    <tr>\n",
       "      <th>2</th>\n",
       "      <td>/organization/90min</td>\n",
       "      <td>90min</td>\n",
       "      <td>http://www.90min.com</td>\n",
       "      <td>Media|News|Publishing|Soccer|Sports</td>\n",
       "      <td>operating</td>\n",
       "      <td>GBR</td>\n",
       "      <td>H9</td>\n",
       "      <td>London</td>\n",
       "      <td>London</td>\n",
       "      <td>01-01-2011</td>\n",
       "      <td>/organization/90min</td>\n",
       "      <td>/funding-round/bd626ed022f5c66574b1afe234f3c90d</td>\n",
       "      <td>venture</td>\n",
       "      <td>NaN</td>\n",
       "      <td>07-05-2013</td>\n",
       "      <td>5800000.00</td>\n",
       "      <td>Media</td>\n",
       "      <td>Entertainment</td>\n",
       "    </tr>\n",
       "    <tr>\n",
       "      <th>3</th>\n",
       "      <td>/organization/90min</td>\n",
       "      <td>90min</td>\n",
       "      <td>http://www.90min.com</td>\n",
       "      <td>Media|News|Publishing|Soccer|Sports</td>\n",
       "      <td>operating</td>\n",
       "      <td>GBR</td>\n",
       "      <td>H9</td>\n",
       "      <td>London</td>\n",
       "      <td>London</td>\n",
       "      <td>01-01-2011</td>\n",
       "      <td>/organization/90min</td>\n",
       "      <td>/funding-round/fd4b15e8c97ee2ffc0acccdbe1a98810</td>\n",
       "      <td>venture</td>\n",
       "      <td>NaN</td>\n",
       "      <td>26-03-2014</td>\n",
       "      <td>18000000.00</td>\n",
       "      <td>Media</td>\n",
       "      <td>Entertainment</td>\n",
       "    </tr>\n",
       "    <tr>\n",
       "      <th>4</th>\n",
       "      <td>/organization/all-def-digital</td>\n",
       "      <td>all def digital</td>\n",
       "      <td>http://alldefdigital.com</td>\n",
       "      <td>Media</td>\n",
       "      <td>operating</td>\n",
       "      <td>USA</td>\n",
       "      <td>CA</td>\n",
       "      <td>Los Angeles</td>\n",
       "      <td>Los Angeles</td>\n",
       "      <td>NaN</td>\n",
       "      <td>/organization/all-def-digital</td>\n",
       "      <td>/funding-round/452a2342fe720285c3b92e9bd927d9ba</td>\n",
       "      <td>venture</td>\n",
       "      <td>A</td>\n",
       "      <td>06-08-2014</td>\n",
       "      <td>5000000.00</td>\n",
       "      <td>Media</td>\n",
       "      <td>Entertainment</td>\n",
       "    </tr>\n",
       "  </tbody>\n",
       "</table>\n",
       "</div>"
      ],
      "text/plain": [
       "                       permalink             name              homepage_url  \\\n",
       "0            /organization/-fame            #fame        http://livfame.com   \n",
       "1            /organization/90min            90min      http://www.90min.com   \n",
       "2            /organization/90min            90min      http://www.90min.com   \n",
       "3            /organization/90min            90min      http://www.90min.com   \n",
       "4  /organization/all-def-digital  all def digital  http://alldefdigital.com   \n",
       "\n",
       "                         category_list     status country_code state_code  \\\n",
       "0                                Media  operating          IND         16   \n",
       "1  Media|News|Publishing|Soccer|Sports  operating          GBR         H9   \n",
       "2  Media|News|Publishing|Soccer|Sports  operating          GBR         H9   \n",
       "3  Media|News|Publishing|Soccer|Sports  operating          GBR         H9   \n",
       "4                                Media  operating          USA         CA   \n",
       "\n",
       "        region         city  founded_at              company_permalink  \\\n",
       "0       Mumbai       Mumbai         NaN            /organization/-fame   \n",
       "1       London       London  01-01-2011            /organization/90min   \n",
       "2       London       London  01-01-2011            /organization/90min   \n",
       "3       London       London  01-01-2011            /organization/90min   \n",
       "4  Los Angeles  Los Angeles         NaN  /organization/all-def-digital   \n",
       "\n",
       "                           funding_round_permalink funding_round_type  \\\n",
       "0  /funding-round/9a01d05418af9f794eebff7ace91f638            venture   \n",
       "1  /funding-round/21a2cbf6f2fb2a1c2a61e04bf930dfe6            venture   \n",
       "2  /funding-round/bd626ed022f5c66574b1afe234f3c90d            venture   \n",
       "3  /funding-round/fd4b15e8c97ee2ffc0acccdbe1a98810            venture   \n",
       "4  /funding-round/452a2342fe720285c3b92e9bd927d9ba            venture   \n",
       "\n",
       "  funding_round_code   funded_at  raised_amount_usd primary_sector  \\\n",
       "0                  B  05-01-2015        10000000.00          Media   \n",
       "1                NaN  06-10-2015        15000000.00          Media   \n",
       "2                NaN  07-05-2013         5800000.00          Media   \n",
       "3                NaN  26-03-2014        18000000.00          Media   \n",
       "4                  A  06-08-2014         5000000.00          Media   \n",
       "\n",
       "     main_sector  \n",
       "0  Entertainment  \n",
       "1  Entertainment  \n",
       "2  Entertainment  \n",
       "3  Entertainment  \n",
       "4  Entertainment  "
      ]
     },
     "execution_count": 219,
     "metadata": {},
     "output_type": "execute_result"
    }
   ],
   "source": [
    "df_venture_sector_master = pd.merge(venture_data,df_melted,on='primary_sector',how='inner')\n",
    "print(\"Shape is \",df_venture_sector_master.shape)\n",
    "df_venture_sector_master.head()"
   ]
  },
  {
   "cell_type": "markdown",
   "metadata": {},
   "source": [
    "## Checkpoint 5: Sector Analysis 2"
   ]
  },
  {
   "cell_type": "markdown",
   "metadata": {},
   "source": [
    "Aim is to create 3 data frames D1, D2 and D3"
   ]
  },
  {
   "cell_type": "code",
   "execution_count": 220,
   "metadata": {},
   "outputs": [],
   "source": [
    "#Filtering the data to match investment amount requirement of spark funds.\n",
    "df_venture_sector_5Mto15M_master = df_venture_sector_master[\n",
    "    (df_venture_sector_master.raised_amount_usd >= 5000000) & \n",
    "    (df_venture_sector_master.raised_amount_usd <= 15000000)]"
   ]
  },
  {
   "cell_type": "code",
   "execution_count": 221,
   "metadata": {},
   "outputs": [],
   "source": [
    "#Building D1,D2,D3 from df_venture_sector_5Mto15M_master using the top countries data\n",
    "D1 = df_venture_sector_5Mto15M_master[df_venture_sector_5Mto15M_master.country_code == \"USA\"]\n",
    "D2 = df_venture_sector_5Mto15M_master[df_venture_sector_5Mto15M_master.country_code == \"GBR\"]\n",
    "D3 = df_venture_sector_5Mto15M_master[df_venture_sector_5Mto15M_master.country_code == \"IND\"]"
   ]
  },
  {
   "cell_type": "code",
   "execution_count": 222,
   "metadata": {},
   "outputs": [],
   "source": [
    "#Calculating total count of investments for each main sector in a separate column for each data frame\n",
    "D1[\"Investment_count\"] = D1.groupby(D1.main_sector).raised_amount_usd.transform('count')\n",
    "D2[\"Investment_count\"] = D2.groupby(D2.main_sector).raised_amount_usd.transform('count')\n",
    "D3[\"Investment_count\"] = D3.groupby(D3.main_sector).raised_amount_usd.transform('count')"
   ]
  },
  {
   "cell_type": "code",
   "execution_count": 223,
   "metadata": {},
   "outputs": [],
   "source": [
    "#Calculating the total amount invested in each main sector in a separate column\n",
    "D1[\"Total_investment\"] = D1.groupby(D1.main_sector).raised_amount_usd.transform('sum')\n",
    "D2[\"Total_investment\"] = D2.groupby(D2.main_sector).raised_amount_usd.transform('sum')\n",
    "D3[\"Total_investment\"] = D3.groupby(D3.main_sector).raised_amount_usd.transform('sum')"
   ]
  },
  {
   "cell_type": "code",
   "execution_count": 224,
   "metadata": {},
   "outputs": [
    {
     "data": {
      "text/html": [
       "<div>\n",
       "<style scoped>\n",
       "    .dataframe tbody tr th:only-of-type {\n",
       "        vertical-align: middle;\n",
       "    }\n",
       "\n",
       "    .dataframe tbody tr th {\n",
       "        vertical-align: top;\n",
       "    }\n",
       "\n",
       "    .dataframe thead th {\n",
       "        text-align: right;\n",
       "    }\n",
       "</style>\n",
       "<table border=\"1\" class=\"dataframe\">\n",
       "  <thead>\n",
       "    <tr style=\"text-align: right;\">\n",
       "      <th></th>\n",
       "      <th>permalink</th>\n",
       "      <th>name</th>\n",
       "      <th>homepage_url</th>\n",
       "      <th>category_list</th>\n",
       "      <th>status</th>\n",
       "      <th>country_code</th>\n",
       "      <th>state_code</th>\n",
       "      <th>region</th>\n",
       "      <th>city</th>\n",
       "      <th>founded_at</th>\n",
       "      <th>company_permalink</th>\n",
       "      <th>funding_round_permalink</th>\n",
       "      <th>funding_round_type</th>\n",
       "      <th>funding_round_code</th>\n",
       "      <th>funded_at</th>\n",
       "      <th>raised_amount_usd</th>\n",
       "      <th>primary_sector</th>\n",
       "      <th>main_sector</th>\n",
       "      <th>Investment_count</th>\n",
       "      <th>Total_investment</th>\n",
       "    </tr>\n",
       "  </thead>\n",
       "  <tbody>\n",
       "    <tr>\n",
       "      <th>4</th>\n",
       "      <td>/organization/all-def-digital</td>\n",
       "      <td>all def digital</td>\n",
       "      <td>http://alldefdigital.com</td>\n",
       "      <td>Media</td>\n",
       "      <td>operating</td>\n",
       "      <td>USA</td>\n",
       "      <td>CA</td>\n",
       "      <td>Los Angeles</td>\n",
       "      <td>Los Angeles</td>\n",
       "      <td>NaN</td>\n",
       "      <td>/organization/all-def-digital</td>\n",
       "      <td>/funding-round/452a2342fe720285c3b92e9bd927d9ba</td>\n",
       "      <td>venture</td>\n",
       "      <td>A</td>\n",
       "      <td>06-08-2014</td>\n",
       "      <td>5000000.00</td>\n",
       "      <td>Media</td>\n",
       "      <td>Entertainment</td>\n",
       "      <td>591</td>\n",
       "      <td>5099197982.00</td>\n",
       "    </tr>\n",
       "    <tr>\n",
       "      <th>16</th>\n",
       "      <td>/organization/chefs-feed</td>\n",
       "      <td>chefsfeed</td>\n",
       "      <td>http://www.chefsfeed.com</td>\n",
       "      <td>Media|Mobile|Restaurants|Technology</td>\n",
       "      <td>operating</td>\n",
       "      <td>USA</td>\n",
       "      <td>CA</td>\n",
       "      <td>SF Bay Area</td>\n",
       "      <td>San Francisco</td>\n",
       "      <td>01-01-2012</td>\n",
       "      <td>/organization/chefs-feed</td>\n",
       "      <td>/funding-round/adca195749ae9ace84684723fbe75e5b</td>\n",
       "      <td>venture</td>\n",
       "      <td>A</td>\n",
       "      <td>26-02-2015</td>\n",
       "      <td>5000000.00</td>\n",
       "      <td>Media</td>\n",
       "      <td>Entertainment</td>\n",
       "      <td>591</td>\n",
       "      <td>5099197982.00</td>\n",
       "    </tr>\n",
       "    <tr>\n",
       "      <th>25</th>\n",
       "      <td>/organization/huffingtonpost</td>\n",
       "      <td>the huffington post</td>\n",
       "      <td>http://www.huffingtonpost.com</td>\n",
       "      <td>Media|News|Publishing</td>\n",
       "      <td>acquired</td>\n",
       "      <td>USA</td>\n",
       "      <td>NY</td>\n",
       "      <td>New York City</td>\n",
       "      <td>New York</td>\n",
       "      <td>09-05-2005</td>\n",
       "      <td>/organization/huffingtonpost</td>\n",
       "      <td>/funding-round/7f05940c4d2dfecb8e50a0e5720e5065</td>\n",
       "      <td>venture</td>\n",
       "      <td>A</td>\n",
       "      <td>01-08-2006</td>\n",
       "      <td>5000000.00</td>\n",
       "      <td>Media</td>\n",
       "      <td>Entertainment</td>\n",
       "      <td>591</td>\n",
       "      <td>5099197982.00</td>\n",
       "    </tr>\n",
       "    <tr>\n",
       "      <th>26</th>\n",
       "      <td>/organization/huffingtonpost</td>\n",
       "      <td>the huffington post</td>\n",
       "      <td>http://www.huffingtonpost.com</td>\n",
       "      <td>Media|News|Publishing</td>\n",
       "      <td>acquired</td>\n",
       "      <td>USA</td>\n",
       "      <td>NY</td>\n",
       "      <td>New York City</td>\n",
       "      <td>New York</td>\n",
       "      <td>09-05-2005</td>\n",
       "      <td>/organization/huffingtonpost</td>\n",
       "      <td>/funding-round/9241ae16e08df17ebdc064e49e23035a</td>\n",
       "      <td>venture</td>\n",
       "      <td>B</td>\n",
       "      <td>01-09-2007</td>\n",
       "      <td>5000000.00</td>\n",
       "      <td>Media</td>\n",
       "      <td>Entertainment</td>\n",
       "      <td>591</td>\n",
       "      <td>5099197982.00</td>\n",
       "    </tr>\n",
       "    <tr>\n",
       "      <th>36</th>\n",
       "      <td>/organization/matchmine</td>\n",
       "      <td>matchmine</td>\n",
       "      <td>http://matchmine.com</td>\n",
       "      <td>Media|News|Reviews and Recommendations</td>\n",
       "      <td>closed</td>\n",
       "      <td>USA</td>\n",
       "      <td>MA</td>\n",
       "      <td>Boston</td>\n",
       "      <td>Needham</td>\n",
       "      <td>01-01-2007</td>\n",
       "      <td>/organization/matchmine</td>\n",
       "      <td>/funding-round/41ac526630da57ad6eb9d02431b17657</td>\n",
       "      <td>venture</td>\n",
       "      <td>A</td>\n",
       "      <td>01-09-2007</td>\n",
       "      <td>10000000.00</td>\n",
       "      <td>Media</td>\n",
       "      <td>Entertainment</td>\n",
       "      <td>591</td>\n",
       "      <td>5099197982.00</td>\n",
       "    </tr>\n",
       "  </tbody>\n",
       "</table>\n",
       "</div>"
      ],
      "text/plain": [
       "                        permalink                 name  \\\n",
       "4   /organization/all-def-digital      all def digital   \n",
       "16       /organization/chefs-feed            chefsfeed   \n",
       "25   /organization/huffingtonpost  the huffington post   \n",
       "26   /organization/huffingtonpost  the huffington post   \n",
       "36        /organization/matchmine            matchmine   \n",
       "\n",
       "                     homepage_url                           category_list  \\\n",
       "4        http://alldefdigital.com                                   Media   \n",
       "16       http://www.chefsfeed.com     Media|Mobile|Restaurants|Technology   \n",
       "25  http://www.huffingtonpost.com                   Media|News|Publishing   \n",
       "26  http://www.huffingtonpost.com                   Media|News|Publishing   \n",
       "36           http://matchmine.com  Media|News|Reviews and Recommendations   \n",
       "\n",
       "       status country_code state_code         region           city  \\\n",
       "4   operating          USA         CA    Los Angeles    Los Angeles   \n",
       "16  operating          USA         CA    SF Bay Area  San Francisco   \n",
       "25   acquired          USA         NY  New York City       New York   \n",
       "26   acquired          USA         NY  New York City       New York   \n",
       "36     closed          USA         MA         Boston        Needham   \n",
       "\n",
       "    founded_at              company_permalink  \\\n",
       "4          NaN  /organization/all-def-digital   \n",
       "16  01-01-2012       /organization/chefs-feed   \n",
       "25  09-05-2005   /organization/huffingtonpost   \n",
       "26  09-05-2005   /organization/huffingtonpost   \n",
       "36  01-01-2007        /organization/matchmine   \n",
       "\n",
       "                            funding_round_permalink funding_round_type  \\\n",
       "4   /funding-round/452a2342fe720285c3b92e9bd927d9ba            venture   \n",
       "16  /funding-round/adca195749ae9ace84684723fbe75e5b            venture   \n",
       "25  /funding-round/7f05940c4d2dfecb8e50a0e5720e5065            venture   \n",
       "26  /funding-round/9241ae16e08df17ebdc064e49e23035a            venture   \n",
       "36  /funding-round/41ac526630da57ad6eb9d02431b17657            venture   \n",
       "\n",
       "   funding_round_code   funded_at  raised_amount_usd primary_sector  \\\n",
       "4                   A  06-08-2014         5000000.00          Media   \n",
       "16                  A  26-02-2015         5000000.00          Media   \n",
       "25                  A  01-08-2006         5000000.00          Media   \n",
       "26                  B  01-09-2007         5000000.00          Media   \n",
       "36                  A  01-09-2007        10000000.00          Media   \n",
       "\n",
       "      main_sector  Investment_count  Total_investment  \n",
       "4   Entertainment               591     5099197982.00  \n",
       "16  Entertainment               591     5099197982.00  \n",
       "25  Entertainment               591     5099197982.00  \n",
       "26  Entertainment               591     5099197982.00  \n",
       "36  Entertainment               591     5099197982.00  "
      ]
     },
     "execution_count": 224,
     "metadata": {},
     "output_type": "execute_result"
    }
   ],
   "source": [
    "D1.head()"
   ]
  },
  {
   "cell_type": "code",
   "execution_count": 225,
   "metadata": {},
   "outputs": [
    {
     "data": {
      "text/html": [
       "<div>\n",
       "<style scoped>\n",
       "    .dataframe tbody tr th:only-of-type {\n",
       "        vertical-align: middle;\n",
       "    }\n",
       "\n",
       "    .dataframe tbody tr th {\n",
       "        vertical-align: top;\n",
       "    }\n",
       "\n",
       "    .dataframe thead th {\n",
       "        text-align: right;\n",
       "    }\n",
       "</style>\n",
       "<table border=\"1\" class=\"dataframe\">\n",
       "  <thead>\n",
       "    <tr style=\"text-align: right;\">\n",
       "      <th></th>\n",
       "      <th>permalink</th>\n",
       "      <th>name</th>\n",
       "      <th>homepage_url</th>\n",
       "      <th>category_list</th>\n",
       "      <th>status</th>\n",
       "      <th>country_code</th>\n",
       "      <th>state_code</th>\n",
       "      <th>region</th>\n",
       "      <th>city</th>\n",
       "      <th>founded_at</th>\n",
       "      <th>company_permalink</th>\n",
       "      <th>funding_round_permalink</th>\n",
       "      <th>funding_round_type</th>\n",
       "      <th>funding_round_code</th>\n",
       "      <th>funded_at</th>\n",
       "      <th>raised_amount_usd</th>\n",
       "      <th>primary_sector</th>\n",
       "      <th>main_sector</th>\n",
       "      <th>Investment_count</th>\n",
       "      <th>Total_investment</th>\n",
       "    </tr>\n",
       "  </thead>\n",
       "  <tbody>\n",
       "    <tr>\n",
       "      <th>1</th>\n",
       "      <td>/organization/90min</td>\n",
       "      <td>90min</td>\n",
       "      <td>http://www.90min.com</td>\n",
       "      <td>Media|News|Publishing|Soccer|Sports</td>\n",
       "      <td>operating</td>\n",
       "      <td>GBR</td>\n",
       "      <td>H9</td>\n",
       "      <td>London</td>\n",
       "      <td>London</td>\n",
       "      <td>01-01-2011</td>\n",
       "      <td>/organization/90min</td>\n",
       "      <td>/funding-round/21a2cbf6f2fb2a1c2a61e04bf930dfe6</td>\n",
       "      <td>venture</td>\n",
       "      <td>NaN</td>\n",
       "      <td>06-10-2015</td>\n",
       "      <td>15000000.00</td>\n",
       "      <td>Media</td>\n",
       "      <td>Entertainment</td>\n",
       "      <td>56</td>\n",
       "      <td>482784687.00</td>\n",
       "    </tr>\n",
       "    <tr>\n",
       "      <th>2</th>\n",
       "      <td>/organization/90min</td>\n",
       "      <td>90min</td>\n",
       "      <td>http://www.90min.com</td>\n",
       "      <td>Media|News|Publishing|Soccer|Sports</td>\n",
       "      <td>operating</td>\n",
       "      <td>GBR</td>\n",
       "      <td>H9</td>\n",
       "      <td>London</td>\n",
       "      <td>London</td>\n",
       "      <td>01-01-2011</td>\n",
       "      <td>/organization/90min</td>\n",
       "      <td>/funding-round/bd626ed022f5c66574b1afe234f3c90d</td>\n",
       "      <td>venture</td>\n",
       "      <td>NaN</td>\n",
       "      <td>07-05-2013</td>\n",
       "      <td>5800000.00</td>\n",
       "      <td>Media</td>\n",
       "      <td>Entertainment</td>\n",
       "      <td>56</td>\n",
       "      <td>482784687.00</td>\n",
       "    </tr>\n",
       "    <tr>\n",
       "      <th>96</th>\n",
       "      <td>/organization/common-interest-communities</td>\n",
       "      <td>common interest communities</td>\n",
       "      <td>http://commoninterestcommunities.com/</td>\n",
       "      <td>Application Platforms|Internet|Software|Startups</td>\n",
       "      <td>operating</td>\n",
       "      <td>GBR</td>\n",
       "      <td>H9</td>\n",
       "      <td>London</td>\n",
       "      <td>London</td>\n",
       "      <td>NaN</td>\n",
       "      <td>/organization/common-interest-communities</td>\n",
       "      <td>/funding-round/8195587cbd5e51af7514ee92ef4ba6ba</td>\n",
       "      <td>venture</td>\n",
       "      <td>NaN</td>\n",
       "      <td>09-07-2014</td>\n",
       "      <td>10000000.00</td>\n",
       "      <td>Application Platforms</td>\n",
       "      <td>News, Search and Messaging</td>\n",
       "      <td>73</td>\n",
       "      <td>615746235.00</td>\n",
       "    </tr>\n",
       "    <tr>\n",
       "      <th>111</th>\n",
       "      <td>/organization/geospock-ltd-</td>\n",
       "      <td>geospock ltd.</td>\n",
       "      <td>http://www.geospock.com</td>\n",
       "      <td>Application Platforms|Databases|Real Time</td>\n",
       "      <td>operating</td>\n",
       "      <td>GBR</td>\n",
       "      <td>C3</td>\n",
       "      <td>London</td>\n",
       "      <td>Cambridge</td>\n",
       "      <td>01-01-2013</td>\n",
       "      <td>/organization/geospock-ltd-</td>\n",
       "      <td>/funding-round/cf3fe3b7c86186b9f478d0ea37613f7a</td>\n",
       "      <td>venture</td>\n",
       "      <td>NaN</td>\n",
       "      <td>01-10-2014</td>\n",
       "      <td>5460000.00</td>\n",
       "      <td>Application Platforms</td>\n",
       "      <td>News, Search and Messaging</td>\n",
       "      <td>73</td>\n",
       "      <td>615746235.00</td>\n",
       "    </tr>\n",
       "    <tr>\n",
       "      <th>112</th>\n",
       "      <td>/organization/geospock-ltd-</td>\n",
       "      <td>geospock ltd.</td>\n",
       "      <td>http://www.geospock.com</td>\n",
       "      <td>Application Platforms|Databases|Real Time</td>\n",
       "      <td>operating</td>\n",
       "      <td>GBR</td>\n",
       "      <td>C3</td>\n",
       "      <td>London</td>\n",
       "      <td>Cambridge</td>\n",
       "      <td>01-01-2013</td>\n",
       "      <td>/organization/geospock-ltd-</td>\n",
       "      <td>/funding-round/e5e4ef4ebae63fc36ef0cd57dd20ff1c</td>\n",
       "      <td>venture</td>\n",
       "      <td>A</td>\n",
       "      <td>05-10-2015</td>\n",
       "      <td>5400000.00</td>\n",
       "      <td>Application Platforms</td>\n",
       "      <td>News, Search and Messaging</td>\n",
       "      <td>73</td>\n",
       "      <td>615746235.00</td>\n",
       "    </tr>\n",
       "  </tbody>\n",
       "</table>\n",
       "</div>"
      ],
      "text/plain": [
       "                                     permalink                         name  \\\n",
       "1                          /organization/90min                        90min   \n",
       "2                          /organization/90min                        90min   \n",
       "96   /organization/common-interest-communities  common interest communities   \n",
       "111                /organization/geospock-ltd-                geospock ltd.   \n",
       "112                /organization/geospock-ltd-                geospock ltd.   \n",
       "\n",
       "                              homepage_url  \\\n",
       "1                     http://www.90min.com   \n",
       "2                     http://www.90min.com   \n",
       "96   http://commoninterestcommunities.com/   \n",
       "111                http://www.geospock.com   \n",
       "112                http://www.geospock.com   \n",
       "\n",
       "                                        category_list     status country_code  \\\n",
       "1                 Media|News|Publishing|Soccer|Sports  operating          GBR   \n",
       "2                 Media|News|Publishing|Soccer|Sports  operating          GBR   \n",
       "96   Application Platforms|Internet|Software|Startups  operating          GBR   \n",
       "111         Application Platforms|Databases|Real Time  operating          GBR   \n",
       "112         Application Platforms|Databases|Real Time  operating          GBR   \n",
       "\n",
       "    state_code  region       city  founded_at  \\\n",
       "1           H9  London     London  01-01-2011   \n",
       "2           H9  London     London  01-01-2011   \n",
       "96          H9  London     London         NaN   \n",
       "111         C3  London  Cambridge  01-01-2013   \n",
       "112         C3  London  Cambridge  01-01-2013   \n",
       "\n",
       "                             company_permalink  \\\n",
       "1                          /organization/90min   \n",
       "2                          /organization/90min   \n",
       "96   /organization/common-interest-communities   \n",
       "111                /organization/geospock-ltd-   \n",
       "112                /organization/geospock-ltd-   \n",
       "\n",
       "                             funding_round_permalink funding_round_type  \\\n",
       "1    /funding-round/21a2cbf6f2fb2a1c2a61e04bf930dfe6            venture   \n",
       "2    /funding-round/bd626ed022f5c66574b1afe234f3c90d            venture   \n",
       "96   /funding-round/8195587cbd5e51af7514ee92ef4ba6ba            venture   \n",
       "111  /funding-round/cf3fe3b7c86186b9f478d0ea37613f7a            venture   \n",
       "112  /funding-round/e5e4ef4ebae63fc36ef0cd57dd20ff1c            venture   \n",
       "\n",
       "    funding_round_code   funded_at  raised_amount_usd         primary_sector  \\\n",
       "1                  NaN  06-10-2015        15000000.00                  Media   \n",
       "2                  NaN  07-05-2013         5800000.00                  Media   \n",
       "96                 NaN  09-07-2014        10000000.00  Application Platforms   \n",
       "111                NaN  01-10-2014         5460000.00  Application Platforms   \n",
       "112                  A  05-10-2015         5400000.00  Application Platforms   \n",
       "\n",
       "                    main_sector  Investment_count  Total_investment  \n",
       "1                 Entertainment                56      482784687.00  \n",
       "2                 Entertainment                56      482784687.00  \n",
       "96   News, Search and Messaging                73      615746235.00  \n",
       "111  News, Search and Messaging                73      615746235.00  \n",
       "112  News, Search and Messaging                73      615746235.00  "
      ]
     },
     "execution_count": 225,
     "metadata": {},
     "output_type": "execute_result"
    }
   ],
   "source": [
    "D2.head()"
   ]
  },
  {
   "cell_type": "code",
   "execution_count": 226,
   "metadata": {},
   "outputs": [
    {
     "data": {
      "text/html": [
       "<div>\n",
       "<style scoped>\n",
       "    .dataframe tbody tr th:only-of-type {\n",
       "        vertical-align: middle;\n",
       "    }\n",
       "\n",
       "    .dataframe tbody tr th {\n",
       "        vertical-align: top;\n",
       "    }\n",
       "\n",
       "    .dataframe thead th {\n",
       "        text-align: right;\n",
       "    }\n",
       "</style>\n",
       "<table border=\"1\" class=\"dataframe\">\n",
       "  <thead>\n",
       "    <tr style=\"text-align: right;\">\n",
       "      <th></th>\n",
       "      <th>permalink</th>\n",
       "      <th>name</th>\n",
       "      <th>homepage_url</th>\n",
       "      <th>category_list</th>\n",
       "      <th>status</th>\n",
       "      <th>country_code</th>\n",
       "      <th>state_code</th>\n",
       "      <th>region</th>\n",
       "      <th>city</th>\n",
       "      <th>founded_at</th>\n",
       "      <th>company_permalink</th>\n",
       "      <th>funding_round_permalink</th>\n",
       "      <th>funding_round_type</th>\n",
       "      <th>funding_round_code</th>\n",
       "      <th>funded_at</th>\n",
       "      <th>raised_amount_usd</th>\n",
       "      <th>primary_sector</th>\n",
       "      <th>main_sector</th>\n",
       "      <th>Investment_count</th>\n",
       "      <th>Total_investment</th>\n",
       "    </tr>\n",
       "  </thead>\n",
       "  <tbody>\n",
       "    <tr>\n",
       "      <th>0</th>\n",
       "      <td>/organization/-fame</td>\n",
       "      <td>#fame</td>\n",
       "      <td>http://livfame.com</td>\n",
       "      <td>Media</td>\n",
       "      <td>operating</td>\n",
       "      <td>IND</td>\n",
       "      <td>16</td>\n",
       "      <td>Mumbai</td>\n",
       "      <td>Mumbai</td>\n",
       "      <td>NaN</td>\n",
       "      <td>/organization/-fame</td>\n",
       "      <td>/funding-round/9a01d05418af9f794eebff7ace91f638</td>\n",
       "      <td>venture</td>\n",
       "      <td>B</td>\n",
       "      <td>05-01-2015</td>\n",
       "      <td>10000000.00</td>\n",
       "      <td>Media</td>\n",
       "      <td>Entertainment</td>\n",
       "      <td>33</td>\n",
       "      <td>280830000.00</td>\n",
       "    </tr>\n",
       "    <tr>\n",
       "      <th>256</th>\n",
       "      <td>/organization/babajob</td>\n",
       "      <td>babajob</td>\n",
       "      <td>http://www.babajob.com</td>\n",
       "      <td>Curated Web|Information Technology|Services|St...</td>\n",
       "      <td>operating</td>\n",
       "      <td>IND</td>\n",
       "      <td>19</td>\n",
       "      <td>Bangalore</td>\n",
       "      <td>Bangalore</td>\n",
       "      <td>27-08-2007</td>\n",
       "      <td>/organization/babajob</td>\n",
       "      <td>/funding-round/b72eaac5ea12ac0f50573ac3d6d46b8d</td>\n",
       "      <td>venture</td>\n",
       "      <td>B</td>\n",
       "      <td>28-04-2015</td>\n",
       "      <td>10000000.00</td>\n",
       "      <td>Curated Web</td>\n",
       "      <td>News, Search and Messaging</td>\n",
       "      <td>52</td>\n",
       "      <td>433834545.00</td>\n",
       "    </tr>\n",
       "    <tr>\n",
       "      <th>282</th>\n",
       "      <td>/organization/bharat-matrimony</td>\n",
       "      <td>bharat matrimony</td>\n",
       "      <td>http://www.bharatmatrimony.com</td>\n",
       "      <td>Curated Web|Match-Making</td>\n",
       "      <td>operating</td>\n",
       "      <td>IND</td>\n",
       "      <td>25</td>\n",
       "      <td>Chennai</td>\n",
       "      <td>Chennai</td>\n",
       "      <td>12-03-1969</td>\n",
       "      <td>/organization/bharat-matrimony</td>\n",
       "      <td>/funding-round/e37673bc7b0f1dfd3782f8f7abdb9ec8</td>\n",
       "      <td>venture</td>\n",
       "      <td>B</td>\n",
       "      <td>05-02-2008</td>\n",
       "      <td>11750000.00</td>\n",
       "      <td>Curated Web</td>\n",
       "      <td>News, Search and Messaging</td>\n",
       "      <td>52</td>\n",
       "      <td>433834545.00</td>\n",
       "    </tr>\n",
       "    <tr>\n",
       "      <th>314</th>\n",
       "      <td>/organization/bluestone-com</td>\n",
       "      <td>bluestone.com</td>\n",
       "      <td>http://bluestone.com</td>\n",
       "      <td>Curated Web</td>\n",
       "      <td>operating</td>\n",
       "      <td>IND</td>\n",
       "      <td>19</td>\n",
       "      <td>Bangalore</td>\n",
       "      <td>Bangalore</td>\n",
       "      <td>01-01-2011</td>\n",
       "      <td>/organization/bluestone-com</td>\n",
       "      <td>/funding-round/452a7fc1f34df2d3dcda4e28234bc671</td>\n",
       "      <td>venture</td>\n",
       "      <td>A</td>\n",
       "      <td>24-01-2012</td>\n",
       "      <td>5000000.00</td>\n",
       "      <td>Curated Web</td>\n",
       "      <td>News, Search and Messaging</td>\n",
       "      <td>52</td>\n",
       "      <td>433834545.00</td>\n",
       "    </tr>\n",
       "    <tr>\n",
       "      <th>316</th>\n",
       "      <td>/organization/bluestone-com</td>\n",
       "      <td>bluestone.com</td>\n",
       "      <td>http://bluestone.com</td>\n",
       "      <td>Curated Web</td>\n",
       "      <td>operating</td>\n",
       "      <td>IND</td>\n",
       "      <td>19</td>\n",
       "      <td>Bangalore</td>\n",
       "      <td>Bangalore</td>\n",
       "      <td>01-01-2011</td>\n",
       "      <td>/organization/bluestone-com</td>\n",
       "      <td>/funding-round/f5b252d6442ce231bb01586ca1821f63</td>\n",
       "      <td>venture</td>\n",
       "      <td>B</td>\n",
       "      <td>18-03-2014</td>\n",
       "      <td>10000000.00</td>\n",
       "      <td>Curated Web</td>\n",
       "      <td>News, Search and Messaging</td>\n",
       "      <td>52</td>\n",
       "      <td>433834545.00</td>\n",
       "    </tr>\n",
       "  </tbody>\n",
       "</table>\n",
       "</div>"
      ],
      "text/plain": [
       "                          permalink              name  \\\n",
       "0               /organization/-fame             #fame   \n",
       "256           /organization/babajob           babajob   \n",
       "282  /organization/bharat-matrimony  bharat matrimony   \n",
       "314     /organization/bluestone-com     bluestone.com   \n",
       "316     /organization/bluestone-com     bluestone.com   \n",
       "\n",
       "                       homepage_url  \\\n",
       "0                http://livfame.com   \n",
       "256          http://www.babajob.com   \n",
       "282  http://www.bharatmatrimony.com   \n",
       "314            http://bluestone.com   \n",
       "316            http://bluestone.com   \n",
       "\n",
       "                                         category_list     status  \\\n",
       "0                                                Media  operating   \n",
       "256  Curated Web|Information Technology|Services|St...  operating   \n",
       "282                           Curated Web|Match-Making  operating   \n",
       "314                                        Curated Web  operating   \n",
       "316                                        Curated Web  operating   \n",
       "\n",
       "    country_code state_code     region       city  founded_at  \\\n",
       "0            IND         16     Mumbai     Mumbai         NaN   \n",
       "256          IND         19  Bangalore  Bangalore  27-08-2007   \n",
       "282          IND         25    Chennai    Chennai  12-03-1969   \n",
       "314          IND         19  Bangalore  Bangalore  01-01-2011   \n",
       "316          IND         19  Bangalore  Bangalore  01-01-2011   \n",
       "\n",
       "                  company_permalink  \\\n",
       "0               /organization/-fame   \n",
       "256           /organization/babajob   \n",
       "282  /organization/bharat-matrimony   \n",
       "314     /organization/bluestone-com   \n",
       "316     /organization/bluestone-com   \n",
       "\n",
       "                             funding_round_permalink funding_round_type  \\\n",
       "0    /funding-round/9a01d05418af9f794eebff7ace91f638            venture   \n",
       "256  /funding-round/b72eaac5ea12ac0f50573ac3d6d46b8d            venture   \n",
       "282  /funding-round/e37673bc7b0f1dfd3782f8f7abdb9ec8            venture   \n",
       "314  /funding-round/452a7fc1f34df2d3dcda4e28234bc671            venture   \n",
       "316  /funding-round/f5b252d6442ce231bb01586ca1821f63            venture   \n",
       "\n",
       "    funding_round_code   funded_at  raised_amount_usd primary_sector  \\\n",
       "0                    B  05-01-2015        10000000.00          Media   \n",
       "256                  B  28-04-2015        10000000.00    Curated Web   \n",
       "282                  B  05-02-2008        11750000.00    Curated Web   \n",
       "314                  A  24-01-2012         5000000.00    Curated Web   \n",
       "316                  B  18-03-2014        10000000.00    Curated Web   \n",
       "\n",
       "                    main_sector  Investment_count  Total_investment  \n",
       "0                 Entertainment                33      280830000.00  \n",
       "256  News, Search and Messaging                52      433834545.00  \n",
       "282  News, Search and Messaging                52      433834545.00  \n",
       "314  News, Search and Messaging                52      433834545.00  \n",
       "316  News, Search and Messaging                52      433834545.00  "
      ]
     },
     "execution_count": 226,
     "metadata": {},
     "output_type": "execute_result"
    }
   ],
   "source": [
    "D3.head()"
   ]
  },
  {
   "cell_type": "markdown",
   "metadata": {},
   "source": [
    "Total number of Investments (count) in C1 , C2 , C3\n"
   ]
  },
  {
   "cell_type": "code",
   "execution_count": 227,
   "metadata": {},
   "outputs": [
    {
     "name": "stdout",
     "output_type": "stream",
     "text": [
      "In C1 Investments count is  12012\n",
      "In C2 Investments count is  619\n",
      "In C3 Investments count is  328\n"
     ]
    }
   ],
   "source": [
    "print(\"In C1 Investments count is \",D1.shape[0])\n",
    "print(\"In C2 Investments count is \",D2.shape[0])\n",
    "print(\"In C3 Investments count is \",D3.shape[0])"
   ]
  },
  {
   "cell_type": "markdown",
   "metadata": {},
   "source": [
    "Total amount of investment (USD)"
   ]
  },
  {
   "cell_type": "code",
   "execution_count": 228,
   "metadata": {},
   "outputs": [
    {
     "name": "stdout",
     "output_type": "stream",
     "text": [
      "In C1 Total amount of investment (USD) is  107318294664.0\n",
      "In C2 Total amount of investment (USD) is  5365228300.0\n",
      "In C3 Total amount of investment (USD)  2949543602.0\n"
     ]
    }
   ],
   "source": [
    "print(\"In C1 Total amount of investment (USD) is \",D1.raised_amount_usd.sum())\n",
    "print(\"In C2 Total amount of investment (USD) is \",D2.raised_amount_usd.sum())\n",
    "print(\"In C3 Total amount of investment (USD) \",D3.raised_amount_usd.sum())"
   ]
  },
  {
   "cell_type": "markdown",
   "metadata": {},
   "source": [
    "Top Sector name (no. of investment-wise)"
   ]
  },
  {
   "cell_type": "code",
   "execution_count": 229,
   "metadata": {},
   "outputs": [
    {
     "name": "stdout",
     "output_type": "stream",
     "text": [
      "In C1 Top Sector name (no. of investment-wise) is  Others\n",
      "In C2 Top Sector name (no. of investment-wise) is  Others\n",
      "In C3 Top Sector name (no. of investment-wise) is  Others\n"
     ]
    }
   ],
   "source": [
    "D1_top_sector = D1.groupby(D1.main_sector).Investment_count.value_counts().nlargest(3).index[0][0]\n",
    "D2_top_sector = D2.groupby(D2.main_sector).Investment_count.value_counts().nlargest(3).index[0][0]\n",
    "D3_top_sector = D3.groupby(D3.main_sector).Investment_count.value_counts().nlargest(3).index[0][0]\n",
    "\n",
    "print(\"In C1 Top Sector name (no. of investment-wise) is \",D1_top_sector)\n",
    "print(\"In C2 Top Sector name (no. of investment-wise) is \",D2_top_sector)\n",
    "print(\"In C3 Top Sector name (no. of investment-wise) is \",D3_top_sector)"
   ]
  },
  {
   "cell_type": "markdown",
   "metadata": {},
   "source": [
    "Second Sector name (no. of investment-wise)"
   ]
  },
  {
   "cell_type": "code",
   "execution_count": 230,
   "metadata": {},
   "outputs": [
    {
     "name": "stdout",
     "output_type": "stream",
     "text": [
      "In C1 Second Sector name (no. of investment-wise) is  Social, Finance, Analytics, Advertising\n",
      "In C2 Second Sector name (no. of investment-wise) is  Social, Finance, Analytics, Advertising\n",
      "In C3 Second Sector name (no. of investment-wise) is  Social, Finance, Analytics, Advertising\n"
     ]
    }
   ],
   "source": [
    "D1_2nd_top_sector = D1.groupby(D1.main_sector).Investment_count.value_counts().nlargest(3).index[1][0]\n",
    "D2_2nd_top_sector = D2.groupby(D2.main_sector).Investment_count.value_counts().nlargest(3).index[1][0]\n",
    "D3_2nd_top_sector = D3.groupby(D3.main_sector).Investment_count.value_counts().nlargest(3).index[1][0]\n",
    "\n",
    "print(\"In C1 Second Sector name (no. of investment-wise) is \",D1_2nd_top_sector)\n",
    "print(\"In C2 Second Sector name (no. of investment-wise) is \",D2_2nd_top_sector)\n",
    "print(\"In C3 Second Sector name (no. of investment-wise) is \",D3_2nd_top_sector)"
   ]
  },
  {
   "cell_type": "markdown",
   "metadata": {},
   "source": [
    "Third Sector name (no. of investment-wise)"
   ]
  },
  {
   "cell_type": "code",
   "execution_count": 231,
   "metadata": {},
   "outputs": [
    {
     "name": "stdout",
     "output_type": "stream",
     "text": [
      "In C1 Third Sector name (no. of investment-wise) is  Cleantech / Semiconductors\n",
      "In C2 Third Sector name (no. of investment-wise) is  Cleantech / Semiconductors\n",
      "In C3 Third Sector name (no. of investment-wise) is  News, Search and Messaging\n"
     ]
    }
   ],
   "source": [
    "D1_3rd_top_sector = D1.groupby(D1.main_sector).Investment_count.value_counts().nlargest(3).index[2][0]\n",
    "D2_3rd_top_sector = D2.groupby(D2.main_sector).Investment_count.value_counts().nlargest(3).index[2][0]\n",
    "D3_3rd_top_sector = D3.groupby(D3.main_sector).Investment_count.value_counts().nlargest(3).index[2][0]\n",
    "\n",
    "print(\"In C1 Third Sector name (no. of investment-wise) is \",D1_3rd_top_sector)\n",
    "print(\"In C2 Third Sector name (no. of investment-wise) is \",D2_3rd_top_sector)\n",
    "print(\"In C3 Third Sector name (no. of investment-wise) is \",D3_3rd_top_sector)"
   ]
  },
  {
   "cell_type": "markdown",
   "metadata": {},
   "source": [
    "Number of investments in top sector for each of the top 3 countries"
   ]
  },
  {
   "cell_type": "code",
   "execution_count": 232,
   "metadata": {},
   "outputs": [
    {
     "name": "stdout",
     "output_type": "stream",
     "text": [
      "In C1 Number of investments in top sector is  2950\n",
      "In C2 Number of investments in top sector is  147\n",
      "In C3 Number of investments in top sector is  110\n"
     ]
    }
   ],
   "source": [
    "print(\"In C1 Number of investments in top sector is \",D1[D1.main_sector == D1_top_sector].count()[0])\n",
    "print(\"In C2 Number of investments in top sector is \",D2[D2.main_sector == D2_top_sector].count()[0])\n",
    "print(\"In C3 Number of investments in top sector is \",D3[D3.main_sector == D3_top_sector].count()[0])"
   ]
  },
  {
   "cell_type": "markdown",
   "metadata": {},
   "source": [
    "Number of investments in 2nd top sector for each of the top 3 countries"
   ]
  },
  {
   "cell_type": "code",
   "execution_count": 233,
   "metadata": {},
   "outputs": [
    {
     "name": "stdout",
     "output_type": "stream",
     "text": [
      "In C1 Number of investments in 2nd top sector  is  2714\n",
      "In C2 Number of investments in 2nd top sector  is  133\n",
      "In C3 Number of investments in 2nd top sector  is  60\n"
     ]
    }
   ],
   "source": [
    "print(\"In C1 Number of investments in 2nd top sector  is \",D1[D1.main_sector == D1_2nd_top_sector].count()[0])\n",
    "print(\"In C2 Number of investments in 2nd top sector  is \",D2[D2.main_sector == D2_2nd_top_sector].count()[0])\n",
    "print(\"In C3 Number of investments in 2nd top sector  is \",D3[D3.main_sector == D3_2nd_top_sector].count()[0])"
   ]
  },
  {
   "cell_type": "markdown",
   "metadata": {},
   "source": [
    "Number of investments in 3rd top sector for each of the top 3 countries"
   ]
  },
  {
   "cell_type": "code",
   "execution_count": 234,
   "metadata": {},
   "outputs": [
    {
     "name": "stdout",
     "output_type": "stream",
     "text": [
      "In C1 Number of investments in 3rd top sector  is  2300\n",
      "In C2 Number of investments in 3rd top sector  is  128\n",
      "In C3 Number of investments in 3rd top sector  is  52\n"
     ]
    }
   ],
   "source": [
    "print(\"In C1 Number of investments in 3rd top sector  is \",D1[D1.main_sector == D1_3rd_top_sector].count()[0])\n",
    "print(\"In C2 Number of investments in 3rd top sector  is \",D2[D2.main_sector == D2_3rd_top_sector].count()[0])\n",
    "print(\"In C3 Number of investments in 3rd top sector  is \",D3[D3.main_sector == D3_3rd_top_sector].count()[0])"
   ]
  },
  {
   "cell_type": "markdown",
   "metadata": {},
   "source": [
    "For point 3 (top sector count-wise), which company received the highest investment?"
   ]
  },
  {
   "cell_type": "markdown",
   "metadata": {},
   "source": [
    "We are grouping based on permalink as companies may have recevied fundings multpile times in various rounds. Using this we can find the companies which have received the highest funding in all the rounds combined."
   ]
  },
  {
   "cell_type": "code",
   "execution_count": 235,
   "metadata": {},
   "outputs": [
    {
     "name": "stdout",
     "output_type": "stream",
     "text": [
      "virtustream\n",
      "electric-cloud\n",
      "firstcry-com\n"
     ]
    }
   ],
   "source": [
    "print(D1[(D1.main_sector == D1_top_sector)].groupby(\"permalink\").raised_amount_usd.sum().nlargest().index[0].split(\"/\")[-1])\n",
    "print(D2[(D2.main_sector == D2_top_sector)].groupby(\"permalink\").raised_amount_usd.sum().nlargest().index[0].split(\"/\")[-1])\n",
    "print(D3[(D3.main_sector == D3_top_sector)].groupby(\"permalink\").raised_amount_usd.sum().nlargest().index[0].split(\"/\")[-1])"
   ]
  },
  {
   "cell_type": "markdown",
   "metadata": {},
   "source": [
    "For point 4 (second best sector count-wise), which company received the highest investment?"
   ]
  },
  {
   "cell_type": "code",
   "execution_count": 236,
   "metadata": {},
   "outputs": [
    {
     "name": "stdout",
     "output_type": "stream",
     "text": [
      "shotspotter\n",
      "celltick-technologies\n",
      "manthan-systems\n"
     ]
    }
   ],
   "source": [
    "print(D1[(D1.main_sector == D1_2nd_top_sector)].groupby(\"permalink\").raised_amount_usd.sum().nlargest().index[0].split(\"/\")[-1])\n",
    "print(D2[(D2.main_sector == D2_2nd_top_sector)].groupby(\"permalink\").raised_amount_usd.sum().nlargest().index[0].split(\"/\")[-1])\n",
    "print(D3[(D3.main_sector == D3_2nd_top_sector)].groupby(\"permalink\").raised_amount_usd.sum().nlargest().index[0].split(\"/\")[-1])"
   ]
  },
  {
   "cell_type": "markdown",
   "metadata": {},
   "source": [
    "## Checkpoint 6: Plots"
   ]
  },
  {
   "cell_type": "markdown",
   "metadata": {},
   "source": [
    "####  A plot showing the fraction of total investments (globally) in angel, venture, seed, and private equity, and the average amount of investment in each funding type. This chart should make it clear that a certain funding type (FT) is best suited for Spark Funds."
   ]
  },
  {
   "cell_type": "code",
   "execution_count": 237,
   "metadata": {},
   "outputs": [
    {
     "data": {
      "text/html": [
       "\n",
       "<style>\n",
       ".output_png {\n",
       "    display: table-cell;\n",
       "    text-align: center;\n",
       "    vertical-align: middle;\n",
       "}\n",
       "</style>\n"
      ],
      "text/plain": [
       "<IPython.core.display.HTML object>"
      ]
     },
     "execution_count": 237,
     "metadata": {},
     "output_type": "execute_result"
    }
   ],
   "source": [
    "#To center the graphs\n",
    "from IPython.core.display import HTML\n",
    "HTML(\"\"\"\n",
    "<style>\n",
    ".output_png {\n",
    "    display: table-cell;\n",
    "    text-align: center;\n",
    "    vertical-align: middle;\n",
    "}\n",
    "</style>\n",
    "\"\"\")"
   ]
  },
  {
   "cell_type": "code",
   "execution_count": 238,
   "metadata": {},
   "outputs": [
    {
     "data": {
      "image/png": "[encoded data removed]",
      "text/plain": [
       "<Figure size 1440x720 with 1 Axes>"
      ]
     },
     "metadata": {
      "needs_background": "light"
     },
     "output_type": "display_data"
    }
   ],
   "source": [
    "ax1 = master_frame_req_fund.groupby('funding_round_type')['raised_amount_usd'].mean().plot.bar(\n",
    "figsize=(20, 10),\n",
    "fontsize=18,\n",
    ")\n",
    "ax1.set_ylabel(\"Average Rasied Amount\",fontsize=25)\n",
    "ax1.set_xlabel(\"Funding Round Type\",fontsize=25)\n",
    "ax1.yaxis.set_major_formatter(ticker.FuncFormatter(lambda x, pos: '${}'.format(x/1000000) + 'M'))\n",
    "plt.grid(color='gray', linestyle='dashed')\n",
    "plt.title(\"Funding Round Type vs Average Rasied Amount\",fontsize=28).set_position([.5, 1.05])\n",
    "ax1.patches[master_frame_req_fund.index.get_indexer(['venture'])[0]].set_facecolor('g')\n",
    "plt.show()"
   ]
  },
  {
   "cell_type": "markdown",
   "metadata": {},
   "source": [
    "From the above graph It can be deduced that for the Spark funds business requirement to invest in a fundtype between 5M to 15M , It is showcased in graph that most investors in this range have invested in fund type \"VENTURE\"."
   ]
  },
  {
   "cell_type": "markdown",
   "metadata": {},
   "source": [
    "Lets check what percentage of investors investing in 5M to 15M range have invested in our target fund type VENTURE."
   ]
  },
  {
   "cell_type": "code",
   "execution_count": 239,
   "metadata": {},
   "outputs": [
    {
     "data": {
      "image/png": "[encoded data removed]",
      "text/plain": [
       "<Figure size 1440x720 with 1 Axes>"
      ]
     },
     "metadata": {},
     "output_type": "display_data"
    }
   ],
   "source": [
    "plt.figure(figsize=[10,5])\n",
    "explode = (0.1,0,0,0)\n",
    "ax2 = master_frame_req_fund.funding_round_type.value_counts().plot.pie(\n",
    "autopct='%1.0f%%', \n",
    "pctdistance=0.5, \n",
    "labeldistance=0.7,\n",
    "figsize=(20, 10),\n",
    "fontsize=22,\n",
    "explode=explode,\n",
    "shadow=True\n",
    ")\n",
    "plt.title(\"Funding Round Type\",fontsize=22)\n",
    "plt.show()"
   ]
  },
  {
   "cell_type": "markdown",
   "metadata": {},
   "source": [
    "The above pie chart shows that in the range of 5M to 15M 61% of the investors have invested in \"VENTURE\" fund type."
   ]
  },
  {
   "cell_type": "markdown",
   "metadata": {},
   "source": [
    "#### A plot showing the top 9 countries against the total amount of investments of funding type FT. This should make the top 3 countries (Country 1, Country 2, and Country 3) very clear."
   ]
  },
  {
   "cell_type": "code",
   "execution_count": 240,
   "metadata": {},
   "outputs": [
    {
     "data": {
      "image/png": "[encoded data removed]",
      "text/plain": [
       "<Figure size 1080x720 with 1 Axes>"
      ]
     },
     "metadata": {
      "needs_background": "light"
     },
     "output_type": "display_data"
    }
   ],
   "source": [
    "plt.figure(figsize=(15, 10))\n",
    "ax3 = sns.barplot(\n",
    "data=top9,\n",
    "x='country_code',\n",
    "y='Sum_raised_amount_usd',\n",
    ")\n",
    "ax3.set_ylabel(\"Sum of Rasied Amount\",fontsize=25)\n",
    "ax3.set_xlabel(\"Country\",fontsize=25)\n",
    "ax3.yaxis.set_major_formatter(ticker.FuncFormatter(lambda x, pos: '${}'.format(x/1000000000) + 'B'))\n",
    "plt.grid(color='gray', linestyle='dashed')\n",
    "plt.title(\"Country vs Sum of Rasied Amount\",fontsize=28).set_position([.5, 1.05])\n",
    "ax3.tick_params(axis=\"x\", labelsize=15)\n",
    "ax3.tick_params(axis=\"y\", labelsize=15)\n",
    "plt.show()"
   ]
  },
  {
   "cell_type": "markdown",
   "metadata": {},
   "source": [
    "With an overwhelming investment of more that 400 billion dolalrs USA is the top country to invest in followed by Great Britan(GBR) and India(IND).\n",
    "\n",
    "Note: China(CHN) ignored as it as non English speaking country which doesn't satifsy spark funds business requirement."
   ]
  },
  {
   "cell_type": "markdown",
   "metadata": {},
   "source": [
    "#### A plot showing the number of investments in the top 3 sectors of the top 3 countries on one chart (for the chosen investment type FT). "
   ]
  },
  {
   "cell_type": "code",
   "execution_count": 241,
   "metadata": {},
   "outputs": [],
   "source": [
    "# We have already dervied the top 3 countries data sets in D1,D2,D3 in pervious section.\n",
    "# From those dataframes we filter the data only till the top 3rd sector.\n",
    "x1 = D1[D1.Investment_count >= D1[D1.main_sector == D1_3rd_top_sector].count()[0]]\n",
    "x2 = D2[D2.Investment_count >= D2[D2.main_sector == D2_3rd_top_sector].count()[0]]\n",
    "x3 = D3[D3.Investment_count >= D3[D3.main_sector == D3_3rd_top_sector].count()[0]]"
   ]
  },
  {
   "cell_type": "code",
   "execution_count": 242,
   "metadata": {},
   "outputs": [],
   "source": [
    "#Creating a pivot table as multi column comparision is required.\n",
    "top3_plot = pd.pivot_table(data=pd.concat([x1,x2,x3]),values=\"raised_amount_usd\",index=\"country_code\",columns=\"main_sector\",aggfunc=len)"
   ]
  },
  {
   "cell_type": "code",
   "execution_count": 243,
   "metadata": {},
   "outputs": [
    {
     "data": {
      "image/png": "[encoded data removed]",
      "text/plain": [
       "<Figure size 1080x720 with 1 Axes>"
      ]
     },
     "metadata": {
      "needs_background": "light"
     },
     "output_type": "display_data"
    }
   ],
   "source": [
    "ax4 = top3_plot.plot(kind=\"bar\",figsize=[15,10])\n",
    "ax4.set_ylabel(\"Number of Investments\",fontsize=22)\n",
    "ax4.set_xlabel(\"Country\",fontsize=22)\n",
    "plt.title(\"Country vs Number of Investments\",fontsize=28).set_position([.5, 1.05])\n",
    "ax4.tick_params(axis=\"x\", labelsize=15)\n",
    "ax4.tick_params(axis=\"y\", labelsize=15)\n",
    "plt.show()"
   ]
  },
  {
   "cell_type": "markdown",
   "metadata": {},
   "source": [
    "From the Above Graph it is concluded that most investors within the range of 5M to 15M are investing in USA in the sectors 'Others','Social, Finance, Analytics, Advertising' and \"Cleantech / Semiconductors\""
   ]
  }
 ],
 "metadata": {
  "kernelspec": {
   "display_name": "Python 3",
   "language": "python",
   "name": "python3"
  },
  "language_info": {
   "codemirror_mode": {
    "name": "ipython",
    "version": 3
   },
   "file_extension": ".py",
   "mimetype": "text/x-python",
   "name": "python",
   "nbconvert_exporter": "python",
   "pygments_lexer": "ipython3",
   "version": "3.7.6"
  }
 },
 "nbformat": 4,
 "nbformat_minor": 4
}
