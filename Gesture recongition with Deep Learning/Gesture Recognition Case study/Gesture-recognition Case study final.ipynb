{
 "cells": [
  {
   "cell_type": "markdown",
   "metadata": {
    "id": "strange-middle"
   },
   "source": [
    "# Gesture Recognition Case Study\n",
    "In this group project, you are going to build a 3D Conv model that will be able to predict the 5 gestures correctly. Please import the following libraries to get started."
   ]
  },
  {
   "cell_type": "markdown",
   "metadata": {
    "id": "systematic-depression"
   },
   "source": [
    "# Import Libraries"
   ]
  },
  {
   "cell_type": "code",
   "execution_count": 3,
   "metadata": {
    "id": "split-costa"
   },
   "outputs": [],
   "source": [
    "import warnings\n",
    "warnings.filterwarnings('ignore')\n",
    "import numpy as np\n",
    "import os\n",
    "from imageio import imread\n",
    "from scipy.ndimage import zoom\n",
    "from skimage.transform import resize,rescale\n",
    "import datetime\n",
    "import os\n",
    "import cv2\n",
    "import matplotlib.pyplot as plt"
   ]
  },
  {
   "cell_type": "markdown",
   "metadata": {
    "id": "atomic-treasure"
   },
   "source": [
    "`We set the random seed so that the results don't vary drastically.`"
   ]
  },
  {
   "cell_type": "code",
   "execution_count": 4,
   "metadata": {
    "id": "transparent-christmas"
   },
   "outputs": [],
   "source": [
    "np.random.seed(42)\n",
    "import random as rn\n",
    "rn.seed(42)\n",
    "from keras import backend as K\n",
    "import tensorflow as tf\n",
    "tf.random.set_seed(42)"
   ]
  },
  {
   "cell_type": "markdown",
   "metadata": {
    "id": "hungarian-bandwidth"
   },
   "source": [
    "In this block, you read the folder names for training and validation. You also set the `batch_size` here. Note that you set the batch size in such a way that you are able to use the GPU in full capacity. You keep increasing the batch size until the machine throws an error."
   ]
  },
  {
   "cell_type": "code",
   "execution_count": 5,
   "metadata": {
    "id": "fantastic-curve"
   },
   "outputs": [],
   "source": [
    "train_doc = np.random.permutation(open('Project_data/train.csv').readlines())\n",
    "val_doc = np.random.permutation(open('Project_data/val.csv').readlines())\n",
    "# batch_size = #experiment with the b/atch size"
   ]
  },
  {
   "cell_type": "markdown",
   "metadata": {
    "id": "figured-lease"
   },
   "source": [
    "## Generator\n",
    "This is one of the most important part of the code. The overall structure of the generator has been given. In the generator, you are going to preprocess the images as you have images of 2 different dimensions as well as create a batch of video frames. You have to experiment with `img_idx`, `y`,`z` and normalization such that you get high accuracy."
   ]
  },
  {
   "cell_type": "code",
   "execution_count": 6,
   "metadata": {
    "id": "iraqi-wisdom"
   },
   "outputs": [],
   "source": [
    "# Paramters\n",
    "num_frames_video = 30\n",
    "img_height = 160\n",
    "img_width = 160\n",
    "num_channels=3\n",
    "num_classes=5\n",
    "num_epochs=10\n",
    "num_imgs_per_video=16\n",
    "batch_size=30\n",
    "\n"
   ]
  },
  {
   "cell_type": "code",
   "execution_count": 7,
   "metadata": {
    "id": "steady-thickness"
   },
   "outputs": [],
   "source": [
    "# Cropping and Resizing images\n",
    "def crop_resize_img(img):\n",
    "    if img.shape[0]!= img.shape[1]:# images of size 160x120\n",
    "        img = img[0:110,10:150]\n",
    "    else:\n",
    "        img = img[10:310,10:310]\n",
    "    resized_image = resize(img, (img_height,img_width))\n",
    "    return resized_image"
   ]
  },
  {
   "cell_type": "code",
   "execution_count": 8,
   "metadata": {},
   "outputs": [],
   "source": [
    "# Plotting\n",
    "def plot(history):\n",
    "    fig, axes = plt.subplots(nrows=1, ncols=2, figsize=(15,4))\n",
    "    axes[0].plot(history.history['loss'])   \n",
    "    axes[0].plot(history.history['val_loss'])\n",
    "    axes[0].legend(['loss','val_loss'])\n",
    "\n",
    "    axes[1].plot(history.history['categorical_accuracy'])   \n",
    "    axes[1].plot(history.history['val_categorical_accuracy'])\n",
    "    axes[1].legend(['categorical_accuracy','val_categorical_accuracy'])"
   ]
  },
  {
   "cell_type": "code",
   "execution_count": 9,
   "metadata": {
    "id": "upset-ghana"
   },
   "outputs": [],
   "source": [
    "img_idx = np.linspace(0,num_frames_video-1,16).astype('int')\n",
    "# create a list of image numbers you want to use for a particular video \n",
    "num_imgs_per_video = len(img_idx)\n",
    "def generator(source_path, folder_list, batch_size,crop_resize=False,augmentation=False,ablation=None):\n",
    "    print('Source path =', source_path,'; batch size =', batch_size)\n",
    "    if(ablation!=None): # Ablation experiment\n",
    "        folder_list=folder_list[:ablation]\n",
    "    while True:\n",
    "        t = np.random.permutation(folder_list)\n",
    "        num_batches = len(t)//batch_size# calculate the number of batches\n",
    "        for batch in range(num_batches): # iterate over the number of batches\n",
    "            batch_data = np.zeros((batch_size,num_imgs_per_video,img_height,img_width,num_channels)) ## num_imgs_per_video is the number of images you use for each video, (img_height,img_width) is the final size of the input images and 3 is the number of channels RGB\n",
    "            batch_labels= np.zeros((batch_size,num_classes))  # batch_labels is the one hot representation of the output\n",
    "            for folder in range(batch_size):\n",
    "                imgs = os.listdir(source_path+'/'+ t[folder + (batch*batch_size)].split(';')[0])  # read all the images in the folder\n",
    "                for idx, item in enumerate(img_idx):\n",
    "                    image = imread(source_path+'/'+ t[folder + (batch*batch_size)].strip().split(';')[0]+'/'+imgs[item]).astype(np.float32)\n",
    "                    # crop the images and resize them. Note that the images are of 2 different shape\n",
    "                    # and the conv3D will throw error if the inputs in a batch have different shapes\n",
    "                    if (crop_resize):\n",
    "                        image = crop_resize_img(image) # crop and resize image\n",
    "\n",
    "                    batch_data[folder,idx,:,:,0] = (image[:,:,0])/255 #normalise and feed in the image\n",
    "                    batch_data[folder,idx,:,:,1] = (image[:,:,1])/255\n",
    "                    batch_data[folder,idx,:,:,2] = (image[:,:,2])/255\n",
    "\n",
    "                    if (augmentation):\n",
    "                        batch_data_aug = np.zeros((batch_size,num_imgs_per_video,img_height,img_width,num_channels)) ## num_imgs_per_video is the number of images you use for each video, (img_height,img_width) is the final size of the input images and 3 is the number of channels RGB\n",
    "                        shifted = cv2.warpAffine(image, \n",
    "                                                 np.float32([[1, 0, np.random.randint(-30,30)],[0, 1, np.random.randint(-30,30)]]), \n",
    "                                                (image.shape[0], image.shape[1]))\n",
    "                        # image = cv2.Canny(np.uint8(shifted),100,200)\n",
    "                        batch_data_aug[folder,idx,:,:,0] = (image[:,:,0])/255\n",
    "                        batch_data_aug[folder,idx,:,:,1] = (image[:,:,1])/255\n",
    "                        batch_data_aug[folder,idx,:,:,2] = (image[:,:,2])/255\n",
    "\n",
    "                batch_labels[folder, int(t[folder + (batch*batch_size)].strip().split(';')[2])] = 1\n",
    "            if (augmentation):\n",
    "                batch_data=np.concatenate([batch_data,batch_data_aug])\n",
    "                batch_labels=np.concatenate([batch_labels,batch_labels])\n",
    "\n",
    "\n",
    "        yield batch_data, batch_labels, #you yield the batch_data and the batch_labels, remember what does yield do\n",
    "\n",
    "        # Code for remaining data points which are left after full batches\n",
    "        if (len(folder_list)!= batch_size*num_batches):\n",
    "            batch_size= len(folder_list)-(batch_size*num_batches)\n",
    "            yield batch_data, batch_labels #you yield the batch_data and the batch_labels, remember what does yield do\n",
    "            \n"
   ]
  },
  {
   "cell_type": "code",
   "execution_count": 20,
   "metadata": {
    "id": "statistical-isolation",
    "outputId": "8ff16eff-b117-41c6-b39f-82b4b29d1446"
   },
   "outputs": [
    {
     "name": "stdout",
     "output_type": "stream",
     "text": [
      "# training sequences = 663\n",
      "# validation sequences = 100\n",
      "# epochs = 10\n"
     ]
    }
   ],
   "source": [
    "curr_dt_time = datetime.datetime.now()\n",
    "train_path = 'Project_data/train'\n",
    "val_path = 'Project_data/val'\n",
    "num_train_sequences = len(train_doc)\n",
    "print('# training sequences =', num_train_sequences)\n",
    "num_val_sequences = len(val_doc)\n",
    "print('# validation sequences =', num_val_sequences)\n",
    "print ('# epochs =', num_epochs)"
   ]
  },
  {
   "cell_type": "code",
   "execution_count": 16,
   "metadata": {
    "id": "medical-acceptance"
   },
   "outputs": [],
   "source": [
    "from keras.models import Sequential, Model\n",
    "from keras.layers import Dense, GRU, Flatten, TimeDistributed, Flatten, BatchNormalization, Activation,Dropout\n",
    "from keras.layers.convolutional import Conv2D ,MaxPooling2D ,Conv3D, MaxPooling3D\n",
    "from keras.callbacks import ModelCheckpoint, ReduceLROnPlateau\n",
    "from keras import optimizers\n",
    "\n",
    "#write your model here"
   ]
  },
  {
   "cell_type": "markdown",
   "metadata": {},
   "source": [
    "# <font color='maroon'>Conv 3d Models</font>"
   ]
  },
  {
   "cell_type": "code",
   "execution_count": 14,
   "metadata": {
    "id": "solid-elephant",
    "outputId": "ed126b10-51bb-4519-cd8f-1aec5645e255"
   },
   "outputs": [
    {
     "name": "stdout",
     "output_type": "stream",
     "text": [
      "Model: \"sequential\"\n",
      "_________________________________________________________________\n",
      "Layer (type)                 Output Shape              Param #   \n",
      "=================================================================\n",
      "conv3d (Conv3D)              (None, 16, 160, 160, 16)  1312      \n",
      "_________________________________________________________________\n",
      "activation (Activation)      (None, 16, 160, 160, 16)  0         \n",
      "_________________________________________________________________\n",
      "batch_normalization (BatchNo (None, 16, 160, 160, 16)  64        \n",
      "_________________________________________________________________\n",
      "max_pooling3d (MaxPooling3D) (None, 8, 80, 80, 16)     0         \n",
      "_________________________________________________________________\n",
      "conv3d_1 (Conv3D)            (None, 8, 80, 80, 32)     13856     \n",
      "_________________________________________________________________\n",
      "activation_1 (Activation)    (None, 8, 80, 80, 32)     0         \n",
      "_________________________________________________________________\n",
      "batch_normalization_1 (Batch (None, 8, 80, 80, 32)     128       \n",
      "_________________________________________________________________\n",
      "max_pooling3d_1 (MaxPooling3 (None, 4, 40, 40, 32)     0         \n",
      "_________________________________________________________________\n",
      "conv3d_2 (Conv3D)            (None, 4, 40, 40, 64)     55360     \n",
      "_________________________________________________________________\n",
      "activation_2 (Activation)    (None, 4, 40, 40, 64)     0         \n",
      "_________________________________________________________________\n",
      "batch_normalization_2 (Batch (None, 4, 40, 40, 64)     256       \n",
      "_________________________________________________________________\n",
      "max_pooling3d_2 (MaxPooling3 (None, 2, 20, 20, 64)     0         \n",
      "_________________________________________________________________\n",
      "conv3d_3 (Conv3D)            (None, 2, 20, 20, 128)    221312    \n",
      "_________________________________________________________________\n",
      "activation_3 (Activation)    (None, 2, 20, 20, 128)    0         \n",
      "_________________________________________________________________\n",
      "batch_normalization_3 (Batch (None, 2, 20, 20, 128)    512       \n",
      "_________________________________________________________________\n",
      "max_pooling3d_3 (MaxPooling3 (None, 1, 10, 10, 128)    0         \n",
      "_________________________________________________________________\n",
      "flatten (Flatten)            (None, 12800)             0         \n",
      "_________________________________________________________________\n",
      "dense (Dense)                (None, 64)                819264    \n",
      "_________________________________________________________________\n",
      "batch_normalization_4 (Batch (None, 64)                256       \n",
      "_________________________________________________________________\n",
      "dense_1 (Dense)              (None, 64)                4160      \n",
      "_________________________________________________________________\n",
      "batch_normalization_5 (Batch (None, 64)                256       \n",
      "_________________________________________________________________\n",
      "dense_2 (Dense)              (None, 5)                 325       \n",
      "=================================================================\n",
      "Total params: 1,117,061\n",
      "Trainable params: 1,116,325\n",
      "Non-trainable params: 736\n",
      "_________________________________________________________________\n"
     ]
    }
   ],
   "source": [
    "model = Sequential()\n",
    "model.add(Conv3D(16, (3, 3, 3), padding='same',input_shape=(num_imgs_per_video,img_height,img_width,num_channels)))\n",
    "model.add(Activation('relu'))\n",
    "model.add(BatchNormalization())\n",
    "model.add(MaxPooling3D(pool_size=(2, 2, 2)))\n",
    "\n",
    "model.add(Conv3D(32, (3,3,3), padding='same'))\n",
    "model.add(Activation('relu'))\n",
    "model.add(BatchNormalization())\n",
    "model.add(MaxPooling3D(pool_size=(2, 2, 2)))\n",
    "\n",
    "model.add(Conv3D(64, (3,3,3), padding='same'))\n",
    "model.add(Activation('relu'))\n",
    "model.add(BatchNormalization())\n",
    "model.add(MaxPooling3D(pool_size=(2, 2, 2)))\n",
    "\n",
    "model.add(Conv3D(128, (3,3,3), padding='same'))\n",
    "model.add(Activation('relu'))\n",
    "model.add(BatchNormalization())\n",
    "model.add(MaxPooling3D(pool_size=(2, 2, 2)))\n",
    "\n",
    "model.add(Flatten())\n",
    "model.add(Dense(64,activation='relu'))\n",
    "model.add(BatchNormalization())\n",
    "#model.add(Dropout(0.25))\n",
    "\n",
    "model.add(Dense(64,activation='relu'))\n",
    "model.add(BatchNormalization())\n",
    "#model.add(Dropout(0.25))\n",
    "\n",
    "\n",
    "model.add(Dense(num_classes,activation='softmax'))\n",
    "\n",
    "optimiser = optimizers.Adam()\n",
    "model.compile(optimizer=optimiser, loss='categorical_crossentropy', metrics=['categorical_accuracy'])\n",
    "model.summary()"
   ]
  },
  {
   "cell_type": "code",
   "execution_count": 12,
   "metadata": {
    "id": "xIRae8BxF3oV"
   },
   "outputs": [],
   "source": [
    "ablation_train= 100\n",
    "ablation_val = 50\n",
    "if (ablation_train!=None): # Ablation experiment\n",
    "    if (ablation_train%batch_size) == 0:\n",
    "        steps_per_epoch = int(ablation_train/batch_size)\n",
    "    else:\n",
    "        steps_per_epoch = (ablation_train//batch_size) + 1\n",
    "    if (ablation_val%batch_size) == 0:\n",
    "        validation_steps = int(ablation_val/batch_size)\n",
    "    else:\n",
    "        validation_steps = (ablation_val//batch_size) + 1\n",
    "else:\n",
    "    if (num_train_sequences%batch_size) == 0:\n",
    "        steps_per_epoch = int(num_train_sequences/batch_size)\n",
    "    else:\n",
    "        steps_per_epoch = (num_train_sequences//batch_size) + 1\n",
    "    if (num_val_sequences%batch_size) == 0:\n",
    "        validation_steps = int(num_val_sequences/batch_size)\n",
    "    else:\n",
    "        validation_steps = (num_val_sequences//batch_size) + 1"
   ]
  },
  {
   "cell_type": "code",
   "execution_count": 16,
   "metadata": {
    "id": "chemical-helena"
   },
   "outputs": [],
   "source": [
    "train_generator = generator(train_path, train_doc, batch_size,crop_resize=True,augmentation=False,ablation=ablation_train)\n",
    "val_generator = generator(val_path, val_doc, batch_size,crop_resize=True,augmentation=False,ablation=ablation_val)"
   ]
  },
  {
   "cell_type": "markdown",
   "metadata": {},
   "source": [
    "## Model 1: Running on ablation dataset( training sample=100 and validation samples= 50 ) with Image cropping and resizing (160 x 160) , optimizer= adam , and no image augmentation"
   ]
  },
  {
   "cell_type": "code",
   "execution_count": 17,
   "metadata": {},
   "outputs": [
    {
     "name": "stdout",
     "output_type": "stream",
     "text": [
      "Source path = ../input/gesturerecognition/Project_data/train ; batch size = 30\n",
      "Epoch 1/10\n",
      "4/4 [==============================] - ETA: 0s - loss: 1.4820 - categorical_accuracy: 0.4110Source path = ../input/gesturerecognition/Project_data/val ; batch size = 30\n",
      "4/4 [==============================] - 70s 21s/step - loss: 1.4548 - categorical_accuracy: 0.4238 - val_loss: 1.6288 - val_categorical_accuracy: 0.1000\n",
      "Epoch 2/10\n",
      "4/4 [==============================] - 74s 24s/step - loss: 1.4685 - categorical_accuracy: 0.4400 - val_loss: 1.5568 - val_categorical_accuracy: 0.3000\n",
      "Epoch 3/10\n",
      "4/4 [==============================] - 74s 25s/step - loss: 1.0510 - categorical_accuracy: 0.5500 - val_loss: 1.6409 - val_categorical_accuracy: 0.2000\n",
      "Epoch 4/10\n",
      "4/4 [==============================] - 73s 24s/step - loss: 1.1259 - categorical_accuracy: 0.4967 - val_loss: 1.5750 - val_categorical_accuracy: 0.3000\n",
      "Epoch 5/10\n",
      "4/4 [==============================] - 73s 24s/step - loss: 0.7725 - categorical_accuracy: 0.7467 - val_loss: 1.8668 - val_categorical_accuracy: 0.1000\n",
      "Epoch 6/10\n",
      "4/4 [==============================] - 75s 25s/step - loss: 0.4932 - categorical_accuracy: 0.8067 - val_loss: 1.9592 - val_categorical_accuracy: 0.1000\n",
      "Epoch 7/10\n",
      "4/4 [==============================] - 77s 26s/step - loss: 0.4316 - categorical_accuracy: 0.8500 - val_loss: 2.2962 - val_categorical_accuracy: 0.1000\n",
      "Epoch 8/10\n",
      "4/4 [==============================] - 84s 28s/step - loss: 0.6885 - categorical_accuracy: 0.7933 - val_loss: 2.3611 - val_categorical_accuracy: 0.0500\n",
      "Epoch 9/10\n",
      "4/4 [==============================] - 78s 26s/step - loss: 0.5601 - categorical_accuracy: 0.7600 - val_loss: 1.8932 - val_categorical_accuracy: 0.2500\n",
      "Epoch 10/10\n",
      "4/4 [==============================] - 83s 28s/step - loss: 0.6179 - categorical_accuracy: 0.7967 - val_loss: 1.9607 - val_categorical_accuracy: 0.2500\n"
     ]
    }
   ],
   "source": [
    "model_history = model.fit_generator(train_generator, steps_per_epoch=steps_per_epoch, epochs=num_epochs, verbose=1, validation_data=val_generator, \n",
    "                    validation_steps=validation_steps, class_weight=None, initial_epoch=0)"
   ]
  },
  {
   "cell_type": "code",
   "execution_count": 19,
   "metadata": {},
   "outputs": [
    {
     "data": {
      "image/png": "[encoded data removed]",
      "text/plain": [
       "<Figure size 1080x288 with 2 Axes>"
      ]
     },
     "metadata": {
      "needs_background": "light"
     },
     "output_type": "display_data"
    }
   ],
   "source": [
    "plot(model_history)"
   ]
  },
  {
   "cell_type": "markdown",
   "metadata": {},
   "source": [
    "`Clearly we can see from above plots and accuracy on training and validation dataset, model is performing well on ablation training set.`"
   ]
  },
  {
   "cell_type": "markdown",
   "metadata": {},
   "source": [
    "## Model 2: Running on ablation dataset( training sample=100 and validation samples= 50 ) with Image cropping and resizing (160 x 160), optimizer= RMSProp and  image augumentation"
   ]
  },
  {
   "cell_type": "code",
   "execution_count": 20,
   "metadata": {},
   "outputs": [
    {
     "name": "stdout",
     "output_type": "stream",
     "text": [
      "Model: \"sequential_1\"\n",
      "_________________________________________________________________\n",
      "Layer (type)                 Output Shape              Param #   \n",
      "=================================================================\n",
      "conv3d_4 (Conv3D)            (None, 16, 160, 160, 16)  1312      \n",
      "_________________________________________________________________\n",
      "activation_4 (Activation)    (None, 16, 160, 160, 16)  0         \n",
      "_________________________________________________________________\n",
      "batch_normalization_6 (Batch (None, 16, 160, 160, 16)  64        \n",
      "_________________________________________________________________\n",
      "max_pooling3d_4 (MaxPooling3 (None, 8, 80, 80, 16)     0         \n",
      "_________________________________________________________________\n",
      "conv3d_5 (Conv3D)            (None, 8, 80, 80, 32)     13856     \n",
      "_________________________________________________________________\n",
      "activation_5 (Activation)    (None, 8, 80, 80, 32)     0         \n",
      "_________________________________________________________________\n",
      "batch_normalization_7 (Batch (None, 8, 80, 80, 32)     128       \n",
      "_________________________________________________________________\n",
      "max_pooling3d_5 (MaxPooling3 (None, 4, 40, 40, 32)     0         \n",
      "_________________________________________________________________\n",
      "conv3d_6 (Conv3D)            (None, 4, 40, 40, 64)     55360     \n",
      "_________________________________________________________________\n",
      "activation_6 (Activation)    (None, 4, 40, 40, 64)     0         \n",
      "_________________________________________________________________\n",
      "batch_normalization_8 (Batch (None, 4, 40, 40, 64)     256       \n",
      "_________________________________________________________________\n",
      "max_pooling3d_6 (MaxPooling3 (None, 2, 20, 20, 64)     0         \n",
      "_________________________________________________________________\n",
      "conv3d_7 (Conv3D)            (None, 2, 20, 20, 128)    221312    \n",
      "_________________________________________________________________\n",
      "activation_7 (Activation)    (None, 2, 20, 20, 128)    0         \n",
      "_________________________________________________________________\n",
      "batch_normalization_9 (Batch (None, 2, 20, 20, 128)    512       \n",
      "_________________________________________________________________\n",
      "max_pooling3d_7 (MaxPooling3 (None, 1, 10, 10, 128)    0         \n",
      "_________________________________________________________________\n",
      "flatten_1 (Flatten)          (None, 12800)             0         \n",
      "_________________________________________________________________\n",
      "dense_3 (Dense)              (None, 64)                819264    \n",
      "_________________________________________________________________\n",
      "batch_normalization_10 (Batc (None, 64)                256       \n",
      "_________________________________________________________________\n",
      "dense_4 (Dense)              (None, 64)                4160      \n",
      "_________________________________________________________________\n",
      "batch_normalization_11 (Batc (None, 64)                256       \n",
      "_________________________________________________________________\n",
      "dense_5 (Dense)              (None, 5)                 325       \n",
      "=================================================================\n",
      "Total params: 1,117,061\n",
      "Trainable params: 1,116,325\n",
      "Non-trainable params: 736\n",
      "_________________________________________________________________\n"
     ]
    }
   ],
   "source": [
    "model = Sequential()\n",
    "model.add(Conv3D(16, (3, 3, 3), padding='same',input_shape=(num_imgs_per_video,img_height,img_width,num_channels)))\n",
    "model.add(Activation('relu'))\n",
    "model.add(BatchNormalization())\n",
    "model.add(MaxPooling3D(pool_size=(2, 2, 2)))\n",
    "\n",
    "model.add(Conv3D(32, (3,3,3), padding='same'))\n",
    "model.add(Activation('relu'))\n",
    "model.add(BatchNormalization())\n",
    "model.add(MaxPooling3D(pool_size=(2, 2, 2)))\n",
    "\n",
    "model.add(Conv3D(64, (3,3,3), padding='same'))\n",
    "model.add(Activation('relu'))\n",
    "model.add(BatchNormalization())\n",
    "model.add(MaxPooling3D(pool_size=(2, 2, 2)))\n",
    "\n",
    "model.add(Conv3D(128, (3,3,3), padding='same'))\n",
    "model.add(Activation('relu'))\n",
    "model.add(BatchNormalization())\n",
    "model.add(MaxPooling3D(pool_size=(2, 2, 2)))\n",
    "\n",
    "model.add(Flatten())\n",
    "model.add(Dense(64,activation='relu'))\n",
    "model.add(BatchNormalization())\n",
    "#model.add(Dropout(0.25))\n",
    "\n",
    "model.add(Dense(64,activation='relu'))\n",
    "model.add(BatchNormalization())\n",
    "#model.add(Dropout(0.25))\n",
    "\n",
    "\n",
    "model.add(Dense(num_classes,activation='softmax'))\n",
    "\n",
    "optimiser = optimizers.RMSprop()\n",
    "model.compile(optimizer=optimiser, loss='categorical_crossentropy', metrics=['categorical_accuracy'])\n",
    "model.summary()"
   ]
  },
  {
   "cell_type": "code",
   "execution_count": 21,
   "metadata": {},
   "outputs": [],
   "source": [
    "train_generator = generator(train_path, train_doc, batch_size,crop_resize=True,augmentation=False,ablation=ablation_train)\n",
    "val_generator = generator(val_path, val_doc, batch_size,crop_resize=True,augmentation=False,ablation=ablation_val)"
   ]
  },
  {
   "cell_type": "code",
   "execution_count": 23,
   "metadata": {},
   "outputs": [
    {
     "name": "stdout",
     "output_type": "stream",
     "text": [
      "Source path = ../input/gesturerecognition/Project_data/train ; batch size = 30\n",
      "Epoch 1/10\n",
      "4/4 [==============================] - ETA: 0s - loss: 1.6564 - categorical_accuracy: 0.3552Source path = ../input/gesturerecognition/Project_data/val ; batch size = 30\n",
      "4/4 [==============================] - 58s 18s/step - loss: 1.6200 - categorical_accuracy: 0.3717 - val_loss: 1.9595 - val_categorical_accuracy: 0.2000\n",
      "Epoch 2/10\n",
      "4/4 [==============================] - 68s 22s/step - loss: 1.2567 - categorical_accuracy: 0.5433 - val_loss: 1.6979 - val_categorical_accuracy: 0.0667\n",
      "Epoch 3/10\n",
      "4/4 [==============================] - 75s 25s/step - loss: 0.9666 - categorical_accuracy: 0.7200 - val_loss: 1.5936 - val_categorical_accuracy: 0.4000\n",
      "Epoch 4/10\n",
      "4/4 [==============================] - 72s 24s/step - loss: 0.9760 - categorical_accuracy: 0.6700 - val_loss: 1.6586 - val_categorical_accuracy: 0.2500\n",
      "Epoch 5/10\n",
      "4/4 [==============================] - 73s 24s/step - loss: 0.6997 - categorical_accuracy: 0.7800 - val_loss: 3.0184 - val_categorical_accuracy: 0.1500\n",
      "Epoch 6/10\n",
      "4/4 [==============================] - 70s 23s/step - loss: 1.1870 - categorical_accuracy: 0.5167 - val_loss: 1.5324 - val_categorical_accuracy: 0.2500\n",
      "Epoch 7/10\n",
      "4/4 [==============================] - 77s 26s/step - loss: 1.1048 - categorical_accuracy: 0.6467 - val_loss: 1.7953 - val_categorical_accuracy: 0.1500\n",
      "Epoch 8/10\n",
      "4/4 [==============================] - 79s 26s/step - loss: 1.2401 - categorical_accuracy: 0.5233 - val_loss: 1.5390 - val_categorical_accuracy: 0.4000\n",
      "Epoch 9/10\n",
      "4/4 [==============================] - 79s 26s/step - loss: 0.6466 - categorical_accuracy: 0.7433 - val_loss: 2.1991 - val_categorical_accuracy: 0.2000\n",
      "Epoch 10/10\n",
      "4/4 [==============================] - 79s 26s/step - loss: 0.5729 - categorical_accuracy: 0.7767 - val_loss: 1.7980 - val_categorical_accuracy: 0.1000\n"
     ]
    }
   ],
   "source": [
    "model_history = model.fit_generator(train_generator, steps_per_epoch=steps_per_epoch, epochs=num_epochs, verbose=1, validation_data=val_generator, \n",
    "                    validation_steps=validation_steps, class_weight=None, initial_epoch=0)"
   ]
  },
  {
   "cell_type": "code",
   "execution_count": 24,
   "metadata": {},
   "outputs": [
    {
     "data": {
      "image/png": "[encoded data removed]",
      "text/plain": [
       "<Figure size 1080x288 with 2 Axes>"
      ]
     },
     "metadata": {
      "needs_background": "light"
     },
     "output_type": "display_data"
    }
   ],
   "source": [
    "plot(model_history)"
   ]
  },
  {
   "cell_type": "markdown",
   "metadata": {},
   "source": [
    "## Model 3: Running on ablation dataset( training sample=100 and validation samples= 50 ) with Image cropping and resizing (160 x 160) and  image augumentation"
   ]
  },
  {
   "cell_type": "code",
   "execution_count": 29,
   "metadata": {},
   "outputs": [
    {
     "name": "stdout",
     "output_type": "stream",
     "text": [
      "Model: \"sequential_3\"\n",
      "_________________________________________________________________\n",
      "Layer (type)                 Output Shape              Param #   \n",
      "=================================================================\n",
      "conv3d_12 (Conv3D)           (None, 16, 160, 160, 16)  1312      \n",
      "_________________________________________________________________\n",
      "activation_12 (Activation)   (None, 16, 160, 160, 16)  0         \n",
      "_________________________________________________________________\n",
      "batch_normalization_18 (Batc (None, 16, 160, 160, 16)  64        \n",
      "_________________________________________________________________\n",
      "max_pooling3d_12 (MaxPooling (None, 8, 80, 80, 16)     0         \n",
      "_________________________________________________________________\n",
      "conv3d_13 (Conv3D)           (None, 8, 80, 80, 32)     13856     \n",
      "_________________________________________________________________\n",
      "activation_13 (Activation)   (None, 8, 80, 80, 32)     0         \n",
      "_________________________________________________________________\n",
      "batch_normalization_19 (Batc (None, 8, 80, 80, 32)     128       \n",
      "_________________________________________________________________\n",
      "max_pooling3d_13 (MaxPooling (None, 4, 40, 40, 32)     0         \n",
      "_________________________________________________________________\n",
      "conv3d_14 (Conv3D)           (None, 4, 40, 40, 64)     55360     \n",
      "_________________________________________________________________\n",
      "activation_14 (Activation)   (None, 4, 40, 40, 64)     0         \n",
      "_________________________________________________________________\n",
      "batch_normalization_20 (Batc (None, 4, 40, 40, 64)     256       \n",
      "_________________________________________________________________\n",
      "max_pooling3d_14 (MaxPooling (None, 2, 20, 20, 64)     0         \n",
      "_________________________________________________________________\n",
      "conv3d_15 (Conv3D)           (None, 2, 20, 20, 128)    221312    \n",
      "_________________________________________________________________\n",
      "activation_15 (Activation)   (None, 2, 20, 20, 128)    0         \n",
      "_________________________________________________________________\n",
      "batch_normalization_21 (Batc (None, 2, 20, 20, 128)    512       \n",
      "_________________________________________________________________\n",
      "max_pooling3d_15 (MaxPooling (None, 1, 10, 10, 128)    0         \n",
      "_________________________________________________________________\n",
      "flatten_3 (Flatten)          (None, 12800)             0         \n",
      "_________________________________________________________________\n",
      "dense_9 (Dense)              (None, 64)                819264    \n",
      "_________________________________________________________________\n",
      "batch_normalization_22 (Batc (None, 64)                256       \n",
      "_________________________________________________________________\n",
      "dense_10 (Dense)             (None, 64)                4160      \n",
      "_________________________________________________________________\n",
      "batch_normalization_23 (Batc (None, 64)                256       \n",
      "_________________________________________________________________\n",
      "dense_11 (Dense)             (None, 5)                 325       \n",
      "=================================================================\n",
      "Total params: 1,117,061\n",
      "Trainable params: 1,116,325\n",
      "Non-trainable params: 736\n",
      "_________________________________________________________________\n"
     ]
    }
   ],
   "source": [
    "model = Sequential()\n",
    "model.add(Conv3D(16, (3, 3, 3), padding='same',input_shape=(num_imgs_per_video,img_height,img_width,num_channels)))\n",
    "model.add(Activation('relu'))\n",
    "model.add(BatchNormalization())\n",
    "model.add(MaxPooling3D(pool_size=(2, 2, 2)))\n",
    "\n",
    "model.add(Conv3D(32, (3,3,3), padding='same'))\n",
    "model.add(Activation('relu'))\n",
    "model.add(BatchNormalization())\n",
    "model.add(MaxPooling3D(pool_size=(2, 2, 2)))\n",
    "\n",
    "model.add(Conv3D(64, (3,3,3), padding='same'))\n",
    "model.add(Activation('relu'))\n",
    "model.add(BatchNormalization())\n",
    "model.add(MaxPooling3D(pool_size=(2, 2, 2)))\n",
    "\n",
    "model.add(Conv3D(128, (3,3,3), padding='same'))\n",
    "model.add(Activation('relu'))\n",
    "model.add(BatchNormalization())\n",
    "model.add(MaxPooling3D(pool_size=(2, 2, 2)))\n",
    "\n",
    "model.add(Flatten())\n",
    "model.add(Dense(64,activation='relu'))\n",
    "model.add(BatchNormalization())\n",
    "#model.add(Dropout(0.25))\n",
    "\n",
    "model.add(Dense(64,activation='relu'))\n",
    "model.add(BatchNormalization())\n",
    "#model.add(Dropout(0.25))\n",
    "\n",
    "\n",
    "model.add(Dense(num_classes,activation='softmax'))\n",
    "\n",
    "optimiser = optimizers.Adam()\n",
    "model.compile(optimizer=optimiser, loss='categorical_crossentropy', metrics=['categorical_accuracy'])\n",
    "model.summary()"
   ]
  },
  {
   "cell_type": "code",
   "execution_count": 26,
   "metadata": {},
   "outputs": [],
   "source": [
    "train_generator = generator(train_path, train_doc, batch_size,crop_resize=True,augmentation=True,ablation=ablation_train)\n",
    "val_generator = generator(val_path, val_doc, batch_size,crop_resize=True,augmentation=True,ablation=ablation_val)"
   ]
  },
  {
   "cell_type": "code",
   "execution_count": 27,
   "metadata": {
    "id": "equal-stanley",
    "outputId": "0d589c8d-0359-4316-b07a-d47d4733b374"
   },
   "outputs": [
    {
     "name": "stdout",
     "output_type": "stream",
     "text": [
      "Source path = ../input/gesturerecognition/Project_data/train ; batch size = 30\n",
      "Epoch 1/10\n",
      "4/4 [==============================] - ETA: 0s - loss: 2.1169 - categorical_accuracy: 0.2237Source path = ../input/gesturerecognition/Project_data/val ; batch size = 30\n",
      "4/4 [==============================] - 64s 20s/step - loss: 2.0996 - categorical_accuracy: 0.2314 - val_loss: 2.1197 - val_categorical_accuracy: 0.1833\n",
      "Epoch 2/10\n",
      "4/4 [==============================] - 91s 29s/step - loss: 1.6822 - categorical_accuracy: 0.3400 - val_loss: 1.9963 - val_categorical_accuracy: 0.2500\n",
      "Epoch 3/10\n",
      "4/4 [==============================] - 94s 31s/step - loss: 1.3561 - categorical_accuracy: 0.4133 - val_loss: 2.3252 - val_categorical_accuracy: 0.2000\n",
      "Epoch 4/10\n",
      "4/4 [==============================] - 93s 31s/step - loss: 1.3305 - categorical_accuracy: 0.3750 - val_loss: 1.9956 - val_categorical_accuracy: 0.2750\n",
      "Epoch 5/10\n",
      "4/4 [==============================] - 92s 31s/step - loss: 1.4544 - categorical_accuracy: 0.3000 - val_loss: 1.8290 - val_categorical_accuracy: 0.2250\n",
      "Epoch 6/10\n",
      "4/4 [==============================] - 93s 31s/step - loss: 1.1865 - categorical_accuracy: 0.4700 - val_loss: 1.9423 - val_categorical_accuracy: 0.2250\n",
      "Epoch 7/10\n",
      "4/4 [==============================] - 94s 31s/step - loss: 1.1198 - categorical_accuracy: 0.5083 - val_loss: 2.0692 - val_categorical_accuracy: 0.1750\n",
      "Epoch 8/10\n",
      "4/4 [==============================] - 94s 31s/step - loss: 1.3916 - categorical_accuracy: 0.3900 - val_loss: 1.9976 - val_categorical_accuracy: 0.1500\n",
      "Epoch 9/10\n",
      "4/4 [==============================] - 86s 29s/step - loss: 1.1547 - categorical_accuracy: 0.4417 - val_loss: 2.0215 - val_categorical_accuracy: 0.2000\n",
      "Epoch 10/10\n",
      "4/4 [==============================] - 87s 29s/step - loss: 1.1979 - categorical_accuracy: 0.5117 - val_loss: 1.8635 - val_categorical_accuracy: 0.2750\n"
     ]
    }
   ],
   "source": [
    "model_history= model.fit_generator(train_generator, steps_per_epoch=steps_per_epoch, epochs=num_epochs, verbose=1, validation_data=val_generator, \n",
    "                    validation_steps=validation_steps, class_weight=None, initial_epoch=0)"
   ]
  },
  {
   "cell_type": "code",
   "execution_count": 28,
   "metadata": {},
   "outputs": [
    {
     "data": {
      "image/png": "[encoded data removed]",
      "text/plain": [
       "<Figure size 1080x288 with 2 Axes>"
      ]
     },
     "metadata": {
      "needs_background": "light"
     },
     "output_type": "display_data"
    }
   ],
   "source": [
    "plot(model_history)"
   ]
  },
  {
   "cell_type": "markdown",
   "metadata": {},
   "source": [
    "`Model 3 with image augumentation is performing better than model 1 and 2 on validation/testing set.`"
   ]
  },
  {
   "cell_type": "markdown",
   "metadata": {
    "id": "deluxe-promotion"
   },
   "source": [
    "## Model 4: Running on ablation dataset( training sample=100 and validation samples= 50 ) with Image cropping and resizing (120 x 120) and  image augumentation"
   ]
  },
  {
   "cell_type": "code",
   "execution_count": 30,
   "metadata": {
    "id": "awful-output"
   },
   "outputs": [],
   "source": [
    "img_height = 120\n",
    "img_width = 120"
   ]
  },
  {
   "cell_type": "code",
   "execution_count": 31,
   "metadata": {},
   "outputs": [
    {
     "name": "stdout",
     "output_type": "stream",
     "text": [
      "Model: \"sequential_4\"\n",
      "_________________________________________________________________\n",
      "Layer (type)                 Output Shape              Param #   \n",
      "=================================================================\n",
      "conv3d_16 (Conv3D)           (None, 16, 120, 120, 16)  1312      \n",
      "_________________________________________________________________\n",
      "activation_16 (Activation)   (None, 16, 120, 120, 16)  0         \n",
      "_________________________________________________________________\n",
      "batch_normalization_24 (Batc (None, 16, 120, 120, 16)  64        \n",
      "_________________________________________________________________\n",
      "max_pooling3d_16 (MaxPooling (None, 8, 60, 60, 16)     0         \n",
      "_________________________________________________________________\n",
      "conv3d_17 (Conv3D)           (None, 8, 60, 60, 32)     13856     \n",
      "_________________________________________________________________\n",
      "activation_17 (Activation)   (None, 8, 60, 60, 32)     0         \n",
      "_________________________________________________________________\n",
      "batch_normalization_25 (Batc (None, 8, 60, 60, 32)     128       \n",
      "_________________________________________________________________\n",
      "max_pooling3d_17 (MaxPooling (None, 4, 30, 30, 32)     0         \n",
      "_________________________________________________________________\n",
      "conv3d_18 (Conv3D)           (None, 4, 30, 30, 64)     55360     \n",
      "_________________________________________________________________\n",
      "activation_18 (Activation)   (None, 4, 30, 30, 64)     0         \n",
      "_________________________________________________________________\n",
      "batch_normalization_26 (Batc (None, 4, 30, 30, 64)     256       \n",
      "_________________________________________________________________\n",
      "max_pooling3d_18 (MaxPooling (None, 2, 15, 15, 64)     0         \n",
      "_________________________________________________________________\n",
      "conv3d_19 (Conv3D)           (None, 2, 15, 15, 128)    221312    \n",
      "_________________________________________________________________\n",
      "activation_19 (Activation)   (None, 2, 15, 15, 128)    0         \n",
      "_________________________________________________________________\n",
      "batch_normalization_27 (Batc (None, 2, 15, 15, 128)    512       \n",
      "_________________________________________________________________\n",
      "max_pooling3d_19 (MaxPooling (None, 1, 7, 7, 128)      0         \n",
      "_________________________________________________________________\n",
      "flatten_4 (Flatten)          (None, 6272)              0         \n",
      "_________________________________________________________________\n",
      "dense_12 (Dense)             (None, 64)                401472    \n",
      "_________________________________________________________________\n",
      "batch_normalization_28 (Batc (None, 64)                256       \n",
      "_________________________________________________________________\n",
      "dropout (Dropout)            (None, 64)                0         \n",
      "_________________________________________________________________\n",
      "dense_13 (Dense)             (None, 64)                4160      \n",
      "_________________________________________________________________\n",
      "batch_normalization_29 (Batc (None, 64)                256       \n",
      "_________________________________________________________________\n",
      "dropout_1 (Dropout)          (None, 64)                0         \n",
      "_________________________________________________________________\n",
      "dense_14 (Dense)             (None, 5)                 325       \n",
      "=================================================================\n",
      "Total params: 699,269\n",
      "Trainable params: 698,533\n",
      "Non-trainable params: 736\n",
      "_________________________________________________________________\n"
     ]
    }
   ],
   "source": [
    "model = Sequential()\n",
    "model.add(Conv3D(16, (3, 3, 3), padding='same',input_shape=(num_imgs_per_video,img_height,img_width,num_channels)))\n",
    "model.add(Activation('relu'))\n",
    "model.add(BatchNormalization())\n",
    "model.add(MaxPooling3D(pool_size=(2, 2, 2)))\n",
    "\n",
    "model.add(Conv3D(32, (3,3,3), padding='same'))\n",
    "model.add(Activation('relu'))\n",
    "model.add(BatchNormalization())\n",
    "model.add(MaxPooling3D(pool_size=(2, 2, 2)))\n",
    "\n",
    "model.add(Conv3D(64, (3,3,3), padding='same'))\n",
    "model.add(Activation('relu'))\n",
    "model.add(BatchNormalization())\n",
    "model.add(MaxPooling3D(pool_size=(2, 2, 2)))\n",
    "\n",
    "model.add(Conv3D(128, (3,3,3), padding='same'))\n",
    "model.add(Activation('relu'))\n",
    "model.add(BatchNormalization())\n",
    "model.add(MaxPooling3D(pool_size=(2, 2, 2)))\n",
    "\n",
    "model.add(Flatten())\n",
    "model.add(Dense(64,activation='relu'))\n",
    "model.add(BatchNormalization())\n",
    "model.add(Dropout(0.25))\n",
    "\n",
    "model.add(Dense(64,activation='relu'))\n",
    "model.add(BatchNormalization())\n",
    "model.add(Dropout(0.25))\n",
    "\n",
    "\n",
    "model.add(Dense(num_classes,activation='softmax'))\n",
    "\n",
    "optimiser = optimizers.Adam()\n",
    "model.compile(optimizer=optimiser, loss='categorical_crossentropy', metrics=['categorical_accuracy'])\n",
    "model.summary()"
   ]
  },
  {
   "cell_type": "code",
   "execution_count": 32,
   "metadata": {
    "id": "focal-forty"
   },
   "outputs": [],
   "source": [
    "train_generator = generator(train_path, train_doc, batch_size,crop_resize=True,augmentation=True,ablation=ablation_train)\n",
    "val_generator = generator(val_path, val_doc, batch_size,crop_resize=True,augmentation=True,ablation=ablation_val)"
   ]
  },
  {
   "cell_type": "code",
   "execution_count": 33,
   "metadata": {
    "id": "local-madagascar"
   },
   "outputs": [
    {
     "name": "stdout",
     "output_type": "stream",
     "text": [
      "Source path = ../input/gesturerecognition/Project_data/train ; batch size = 30\n",
      "Epoch 1/10\n",
      "4/4 [==============================] - ETA: 0s - loss: 2.1295 - categorical_accuracy: 0.2396Source path = ../input/gesturerecognition/Project_data/val ; batch size = 30\n",
      "4/4 [==============================] - 52s 17s/step - loss: 2.1172 - categorical_accuracy: 0.2417 - val_loss: 1.6032 - val_categorical_accuracy: 0.2167\n",
      "Epoch 2/10\n",
      "4/4 [==============================] - 68s 22s/step - loss: 1.9935 - categorical_accuracy: 0.3117 - val_loss: 1.6304 - val_categorical_accuracy: 0.1833\n",
      "Epoch 3/10\n",
      "4/4 [==============================] - 74s 25s/step - loss: 1.9737 - categorical_accuracy: 0.2083 - val_loss: 1.6110 - val_categorical_accuracy: 0.3250\n",
      "Epoch 4/10\n",
      "4/4 [==============================] - 74s 25s/step - loss: 1.7974 - categorical_accuracy: 0.3250 - val_loss: 1.6529 - val_categorical_accuracy: 0.2000\n",
      "Epoch 5/10\n",
      "4/4 [==============================] - 74s 25s/step - loss: 1.8011 - categorical_accuracy: 0.2800 - val_loss: 1.8238 - val_categorical_accuracy: 0.1500\n",
      "Epoch 6/10\n",
      "4/4 [==============================] - 81s 27s/step - loss: 1.8439 - categorical_accuracy: 0.2600 - val_loss: 1.9876 - val_categorical_accuracy: 0.2000\n",
      "Epoch 7/10\n",
      "4/4 [==============================] - 86s 29s/step - loss: 1.8810 - categorical_accuracy: 0.3467 - val_loss: 1.9712 - val_categorical_accuracy: 0.2750\n",
      "Epoch 8/10\n",
      "4/4 [==============================] - 79s 26s/step - loss: 1.8959 - categorical_accuracy: 0.1900 - val_loss: 1.8564 - val_categorical_accuracy: 0.2000\n",
      "Epoch 9/10\n",
      "4/4 [==============================] - 82s 27s/step - loss: 1.6832 - categorical_accuracy: 0.3583 - val_loss: 2.0884 - val_categorical_accuracy: 0.2750\n",
      "Epoch 10/10\n",
      "4/4 [==============================] - 84s 28s/step - loss: 1.6571 - categorical_accuracy: 0.3783 - val_loss: 1.9347 - val_categorical_accuracy: 0.3250\n"
     ]
    }
   ],
   "source": [
    "model_history= model.fit_generator(train_generator, steps_per_epoch=steps_per_epoch, epochs=num_epochs, verbose=1, validation_data=val_generator, \n",
    "                    validation_steps=validation_steps, class_weight=None, initial_epoch=0)"
   ]
  },
  {
   "cell_type": "code",
   "execution_count": 34,
   "metadata": {},
   "outputs": [
    {
     "data": {
      "image/png": "[encoded data removed]",
      "text/plain": [
       "<Figure size 1080x288 with 2 Axes>"
      ]
     },
     "metadata": {
      "needs_background": "light"
     },
     "output_type": "display_data"
    }
   ],
   "source": [
    "plot(model_history)"
   ]
  },
  {
   "cell_type": "markdown",
   "metadata": {},
   "source": [
    "`Model 4 with image size (120 x120) is not performing better than model 3 with image size of 160 x160 on training and validation dataset/loss`"
   ]
  },
  {
   "cell_type": "markdown",
   "metadata": {
    "id": "breathing-gender"
   },
   "source": [
    "## Model 5: Running on Complete training and validation dataset with Image cropping and resizing  and image augumentation"
   ]
  },
  {
   "cell_type": "code",
   "execution_count": 40,
   "metadata": {
    "id": "ceramic-travel"
   },
   "outputs": [
    {
     "name": "stdout",
     "output_type": "stream",
     "text": [
      "Model: \"sequential_6\"\n",
      "_________________________________________________________________\n",
      "Layer (type)                 Output Shape              Param #   \n",
      "=================================================================\n",
      "conv3d_8 (Conv3D)            (None, 16, 160, 160, 16)  1312      \n",
      "_________________________________________________________________\n",
      "activation_8 (Activation)    (None, 16, 160, 160, 16)  0         \n",
      "_________________________________________________________________\n",
      "batch_normalization_18 (Batc (None, 16, 160, 160, 16)  64        \n",
      "_________________________________________________________________\n",
      "max_pooling3d_8 (MaxPooling3 (None, 8, 80, 80, 16)     0         \n",
      "_________________________________________________________________\n",
      "conv3d_9 (Conv3D)            (None, 8, 80, 80, 32)     13856     \n",
      "_________________________________________________________________\n",
      "activation_9 (Activation)    (None, 8, 80, 80, 32)     0         \n",
      "_________________________________________________________________\n",
      "batch_normalization_19 (Batc (None, 8, 80, 80, 32)     128       \n",
      "_________________________________________________________________\n",
      "max_pooling3d_9 (MaxPooling3 (None, 4, 40, 40, 32)     0         \n",
      "_________________________________________________________________\n",
      "dropout_14 (Dropout)         (None, 4, 40, 40, 32)     0         \n",
      "_________________________________________________________________\n",
      "conv3d_10 (Conv3D)           (None, 4, 40, 40, 64)     55360     \n",
      "_________________________________________________________________\n",
      "activation_10 (Activation)   (None, 4, 40, 40, 64)     0         \n",
      "_________________________________________________________________\n",
      "batch_normalization_20 (Batc (None, 4, 40, 40, 64)     256       \n",
      "_________________________________________________________________\n",
      "max_pooling3d_10 (MaxPooling (None, 2, 20, 20, 64)     0         \n",
      "_________________________________________________________________\n",
      "dropout_15 (Dropout)         (None, 2, 20, 20, 64)     0         \n",
      "_________________________________________________________________\n",
      "conv3d_11 (Conv3D)           (None, 2, 20, 20, 128)    221312    \n",
      "_________________________________________________________________\n",
      "activation_11 (Activation)   (None, 2, 20, 20, 128)    0         \n",
      "_________________________________________________________________\n",
      "batch_normalization_21 (Batc (None, 2, 20, 20, 128)    512       \n",
      "_________________________________________________________________\n",
      "max_pooling3d_11 (MaxPooling (None, 1, 10, 10, 128)    0         \n",
      "_________________________________________________________________\n",
      "dropout_16 (Dropout)         (None, 1, 10, 10, 128)    0         \n",
      "_________________________________________________________________\n",
      "flatten_4 (Flatten)          (None, 12800)             0         \n",
      "_________________________________________________________________\n",
      "dense_10 (Dense)             (None, 64)                819264    \n",
      "_________________________________________________________________\n",
      "batch_normalization_22 (Batc (None, 64)                256       \n",
      "_________________________________________________________________\n",
      "dropout_17 (Dropout)         (None, 64)                0         \n",
      "_________________________________________________________________\n",
      "dense_11 (Dense)             (None, 64)                4160      \n",
      "_________________________________________________________________\n",
      "batch_normalization_23 (Batc (None, 64)                256       \n",
      "_________________________________________________________________\n",
      "dropout_18 (Dropout)         (None, 64)                0         \n",
      "_________________________________________________________________\n",
      "dense_12 (Dense)             (None, 5)                 325       \n",
      "=================================================================\n",
      "Total params: 1,117,061\n",
      "Trainable params: 1,116,325\n",
      "Non-trainable params: 736\n",
      "_________________________________________________________________\n"
     ]
    }
   ],
   "source": [
    "model = Sequential()\n",
    "model.add(Conv3D(16, (3, 3, 3), padding='same',input_shape=(num_imgs_per_video,img_height,img_width,num_channels)))\n",
    "model.add(Activation('relu'))\n",
    "model.add(BatchNormalization())\n",
    "model.add(MaxPooling3D(pool_size=(2, 2, 2)))\n",
    "\n",
    "model.add(Conv3D(32, (3, 3, 3), padding='same'))\n",
    "model.add(Activation('relu'))\n",
    "model.add(BatchNormalization())\n",
    "model.add(MaxPooling3D(pool_size=(2, 2, 2)))\n",
    "model.add(Dropout(0.2))\n",
    "\n",
    "model.add(Conv3D(64, (3, 3, 3), padding='same'))\n",
    "model.add(Activation('relu'))\n",
    "model.add(BatchNormalization())\n",
    "model.add(MaxPooling3D(pool_size=(2, 2, 2)))\n",
    "model.add(Dropout(0.2))\n",
    "\n",
    "model.add(Conv3D(128, (3, 3, 3), padding='same'))\n",
    "model.add(Activation('relu'))\n",
    "model.add(BatchNormalization())\n",
    "model.add(MaxPooling3D(pool_size=(2, 2, 2)))\n",
    "model.add(Dropout(0.2))\n",
    "\n",
    "model.add(Flatten())\n",
    "model.add(Dense(64,activation='relu'))\n",
    "model.add(BatchNormalization())\n",
    "model.add(Dropout(0.25))\n",
    "\n",
    "model.add(Dense(64,activation='relu'))\n",
    "model.add(BatchNormalization())\n",
    "model.add(Dropout(0.25))\n",
    "\n",
    "\n",
    "model.add(Dense(num_classes,activation='softmax'))\n",
    "\n",
    "optimiser = optimizers.Adam(lr=0.001)\n",
    "model.compile(optimizer=optimiser, loss='categorical_crossentropy', metrics=['categorical_accuracy'])\n",
    "model.summary()\n"
   ]
  },
  {
   "cell_type": "code",
   "execution_count": 41,
   "metadata": {},
   "outputs": [
    {
     "name": "stdout",
     "output_type": "stream",
     "text": [
      "WARNING:tensorflow:`period` argument is deprecated. Please use `save_freq` to specify the frequency in number of batches seen.\n"
     ]
    }
   ],
   "source": [
    "model_name = 'model_init' + '_' + str(curr_dt_time).replace(' ','').replace(':','_') + '/'\n",
    "    \n",
    "if not os.path.exists(model_name):\n",
    "    os.mkdir(model_name)\n",
    "        \n",
    "filepath = model_name + 'model-{epoch:05d}-{loss:.5f}-{categorical_accuracy:.5f}-{val_loss:.5f}-{val_categorical_accuracy:.5f}.h5'\n",
    "\n",
    "checkpoint = ModelCheckpoint(filepath, monitor='val_loss', verbose=1, save_best_only=False, save_weights_only=False, mode='auto', period=1)\n",
    "\n",
    "LR = ReduceLROnPlateau(monitor='val_loss', factor=0.2, verbose=1, patience=4)\n",
    "callbacks_list = [checkpoint, LR]"
   ]
  },
  {
   "cell_type": "code",
   "execution_count": 44,
   "metadata": {
    "id": "improving-scoop"
   },
   "outputs": [],
   "source": [
    "batch_size=30\n",
    "train_generator = generator(train_path, train_doc, batch_size,crop_resize=True,augmentation=True,ablation=None)\n",
    "val_generator = generator(val_path, val_doc, batch_size,crop_resize=True,augmentation=True,ablation=None)"
   ]
  },
  {
   "cell_type": "code",
   "execution_count": 45,
   "metadata": {
    "id": "forbidden-tower"
   },
   "outputs": [
    {
     "name": "stdout",
     "output_type": "stream",
     "text": [
      "Source path = Project_data/train ; batch size = 30\n",
      "Epoch 1/10\n",
      "23/23 [==============================] - ETA: 0s - loss: 1.6276 - categorical_accuracy: 0.3089  Source path = Project_data/val ; batch size = 30\n",
      "23/23 [==============================] - 2789s 123s/step - loss: 1.6276 - categorical_accuracy: 0.3089 - val_loss: 9.1016 - val_categorical_accuracy: 0.1688\n",
      "\n",
      "Epoch 00001: saving model to model_init_2021-03-2722_12_45.887766\\model-00001-1.62761-0.30894-9.10162-0.16875.h5\n",
      "Epoch 2/10\n",
      "23/23 [==============================] - 3282s 147s/step - loss: 1.7617 - categorical_accuracy: 0.2826 - val_loss: 10.8844 - val_categorical_accuracy: 0.2125\n",
      "\n",
      "Epoch 00002: saving model to model_init_2021-03-2722_12_45.887766\\model-00002-1.76166-0.28261-10.88439-0.21250.h5\n",
      "Epoch 3/10\n",
      "23/23 [==============================] - 6657s 300s/step - loss: 1.8595 - categorical_accuracy: 0.2101 - val_loss: 4.8566 - val_categorical_accuracy: 0.1875\n",
      "\n",
      "Epoch 00003: saving model to model_init_2021-03-2722_12_45.887766\\model-00003-1.85950-0.21014-4.85661-0.18750.h5\n",
      "Epoch 4/10\n",
      "23/23 [==============================] - 2521s 114s/step - loss: 1.8096 - categorical_accuracy: 0.2536 - val_loss: 3.3429 - val_categorical_accuracy: 0.1750\n",
      "\n",
      "Epoch 00004: saving model to model_init_2021-03-2722_12_45.887766\\model-00004-1.80962-0.25362-3.34292-0.17500.h5\n",
      "Epoch 5/10\n",
      "23/23 [==============================] - 2539s 114s/step - loss: 1.8772 - categorical_accuracy: 0.2681 - val_loss: 7.5531 - val_categorical_accuracy: 0.2000\n",
      "\n",
      "Epoch 00005: saving model to model_init_2021-03-2722_12_45.887766\\model-00005-1.87721-0.26812-7.55305-0.20000.h5\n",
      "Epoch 6/10\n",
      "23/23 [==============================] - 2507s 113s/step - loss: 1.6607 - categorical_accuracy: 0.2971 - val_loss: 2.9825 - val_categorical_accuracy: 0.1625\n",
      "\n",
      "Epoch 00006: saving model to model_init_2021-03-2722_12_45.887766\\model-00006-1.66072-0.29710-2.98253-0.16250.h5\n",
      "Epoch 7/10\n",
      "23/23 [==============================] - 2514s 113s/step - loss: 1.6435 - categorical_accuracy: 0.3478 - val_loss: 2.2393 - val_categorical_accuracy: 0.1750\n",
      "\n",
      "Epoch 00007: saving model to model_init_2021-03-2722_12_45.887766\\model-00007-1.64354-0.34783-2.23926-0.17500.h5\n",
      "Epoch 8/10\n",
      "23/23 [==============================] - 2523s 114s/step - loss: 1.8579 - categorical_accuracy: 0.1884 - val_loss: 2.2959 - val_categorical_accuracy: 0.1625\n",
      "\n",
      "Epoch 00008: saving model to model_init_2021-03-2722_12_45.887766\\model-00008-1.85785-0.18841-2.29590-0.16250.h5\n",
      "Epoch 9/10\n",
      "23/23 [==============================] - 2526s 114s/step - loss: 1.6971 - categorical_accuracy: 0.2609 - val_loss: 2.0454 - val_categorical_accuracy: 0.2500\n",
      "\n",
      "Epoch 00009: saving model to model_init_2021-03-2722_12_45.887766\\model-00009-1.69714-0.26087-2.04544-0.25000.h5\n",
      "Epoch 10/10\n",
      "23/23 [==============================] - 3196s 144s/step - loss: 1.6850 - categorical_accuracy: 0.2464 - val_loss: 1.9816 - val_categorical_accuracy: 0.2500\n",
      "\n",
      "Epoch 00010: saving model to model_init_2021-03-2722_12_45.887766\\model-00010-1.68497-0.24638-1.98156-0.25000.h5\n"
     ]
    }
   ],
   "source": [
    "model_history = model.fit_generator(train_generator, steps_per_epoch=steps_per_epoch, epochs=10, verbose=1, validation_data=val_generator, \n",
    "                    validation_steps=validation_steps, class_weight=None, initial_epoch=0,callbacks=callbacks_list)"
   ]
  },
  {
   "cell_type": "code",
   "execution_count": 46,
   "metadata": {
    "id": "immune-latitude"
   },
   "outputs": [
    {
     "data": {
      "image/png": "[encoded data removed]",
      "text/plain": [
       "<Figure size 1080x288 with 2 Axes>"
      ]
     },
     "metadata": {
      "needs_background": "light"
     },
     "output_type": "display_data"
    }
   ],
   "source": [
    "plot(model_history)"
   ]
  },
  {
   "cell_type": "markdown",
   "metadata": {},
   "source": [
    "`Current Conv3d is not perrforming well on complete dataset`"
   ]
  },
  {
   "cell_type": "markdown",
   "metadata": {},
   "source": [
    "# <font color='maroon'>CNN + LSTM/GRU</font>"
   ]
  },
  {
   "cell_type": "markdown",
   "metadata": {},
   "source": [
    "# CNN + GRU"
   ]
  },
  {
   "cell_type": "markdown",
   "metadata": {},
   "source": [
    "## Model 6: Running on Complete training and validation dataset with Image cropping and resizing  and image augumentation"
   ]
  },
  {
   "cell_type": "code",
   "execution_count": 17,
   "metadata": {
    "id": "funded-visiting"
   },
   "outputs": [
    {
     "name": "stdout",
     "output_type": "stream",
     "text": [
      "Model: \"sequential_2\"\n",
      "_________________________________________________________________\n",
      "Layer (type)                 Output Shape              Param #   \n",
      "=================================================================\n",
      "time_distributed_2 (TimeDist (None, 16, 160, 160, 16)  448       \n",
      "_________________________________________________________________\n",
      "time_distributed_3 (TimeDist (None, 16, 160, 160, 16)  64        \n",
      "_________________________________________________________________\n",
      "time_distributed_4 (TimeDist (None, 16, 80, 80, 16)    0         \n",
      "_________________________________________________________________\n",
      "time_distributed_5 (TimeDist (None, 16, 80, 80, 32)    4640      \n",
      "_________________________________________________________________\n",
      "time_distributed_6 (TimeDist (None, 16, 80, 80, 32)    128       \n",
      "_________________________________________________________________\n",
      "time_distributed_7 (TimeDist (None, 16, 40, 40, 32)    0         \n",
      "_________________________________________________________________\n",
      "time_distributed_8 (TimeDist (None, 16, 40, 40, 64)    18496     \n",
      "_________________________________________________________________\n",
      "time_distributed_9 (TimeDist (None, 16, 40, 40, 64)    256       \n",
      "_________________________________________________________________\n",
      "time_distributed_10 (TimeDis (None, 16, 20, 20, 64)    0         \n",
      "_________________________________________________________________\n",
      "time_distributed_11 (TimeDis (None, 16, 20, 20, 128)   73856     \n",
      "_________________________________________________________________\n",
      "time_distributed_12 (TimeDis (None, 16, 20, 20, 128)   512       \n",
      "_________________________________________________________________\n",
      "time_distributed_13 (TimeDis (None, 16, 10, 10, 128)   0         \n",
      "_________________________________________________________________\n",
      "time_distributed_14 (TimeDis (None, 16, 12800)         0         \n",
      "_________________________________________________________________\n",
      "gru (GRU)                    (None, 64)                2470272   \n",
      "_________________________________________________________________\n",
      "dropout (Dropout)            (None, 64)                0         \n",
      "_________________________________________________________________\n",
      "dense (Dense)                (None, 64)                4160      \n",
      "_________________________________________________________________\n",
      "dropout_1 (Dropout)          (None, 64)                0         \n",
      "_________________________________________________________________\n",
      "dense_1 (Dense)              (None, 5)                 325       \n",
      "=================================================================\n",
      "Total params: 2,573,157\n",
      "Trainable params: 2,572,677\n",
      "Non-trainable params: 480\n",
      "_________________________________________________________________\n"
     ]
    }
   ],
   "source": [
    "model = Sequential()\n",
    "\n",
    "model.add(TimeDistributed(Conv2D(16, (3, 3) , padding='same', activation='relu'),\n",
    "                          input_shape=(num_imgs_per_video,img_height,img_width,num_channels)))\n",
    "model.add(TimeDistributed(BatchNormalization()))\n",
    "model.add(TimeDistributed(MaxPooling2D((2, 2))))\n",
    "        \n",
    "model.add(TimeDistributed(Conv2D(32, (3, 3) , padding='same', activation='relu')))\n",
    "model.add(TimeDistributed(BatchNormalization()))\n",
    "model.add(TimeDistributed(MaxPooling2D((2, 2))))\n",
    "        \n",
    "model.add(TimeDistributed(Conv2D(64, (3, 3) , padding='same', activation='relu')))\n",
    "model.add(TimeDistributed(BatchNormalization()))\n",
    "model.add(TimeDistributed(MaxPooling2D((2, 2))))\n",
    "     \n",
    "model.add(TimeDistributed(Conv2D(128, (3, 3) , padding='same', activation='relu')))\n",
    "model.add(TimeDistributed(BatchNormalization()))\n",
    "model.add(TimeDistributed(MaxPooling2D((2, 2))))\n",
    "        \n",
    "\n",
    "model.add(TimeDistributed(Flatten()))\n",
    "\n",
    "\n",
    "model.add(GRU(64))\n",
    "model.add(Dropout(0.25))\n",
    "        \n",
    "model.add(Dense(64,activation='relu'))\n",
    "model.add(Dropout(0.25))\n",
    "        \n",
    "model.add(Dense(num_classes, activation='softmax'))\n",
    "optimiser = optimizers.Adam(lr=0.001)\n",
    "model.compile(optimizer=optimiser, loss='categorical_crossentropy', metrics=['categorical_accuracy'])\n",
    "model.summary()"
   ]
  },
  {
   "cell_type": "code",
   "execution_count": 24,
   "metadata": {
    "id": "genetic-harmony"
   },
   "outputs": [],
   "source": [
    "train_generator = generator(train_path, train_doc, batch_size,crop_resize=True,augmentation=True,ablation=None)\n",
    "val_generator = generator(val_path, val_doc, batch_size,crop_resize=True,augmentation=True,ablation=None)"
   ]
  },
  {
   "cell_type": "code",
   "execution_count": 25,
   "metadata": {
    "id": "extraordinary-bennett"
   },
   "outputs": [
    {
     "name": "stdout",
     "output_type": "stream",
     "text": [
      "Source path = Project_data/train ; batch size = 30\n",
      "Epoch 1/15\n",
      "23/23 [==============================] - ETA: 0s - loss: 1.9401 - categorical_accuracy: 0.1748  Source path = Project_data/val ; batch size = 30\n",
      "23/23 [==============================] - 2484s 112s/step - loss: 1.9401 - categorical_accuracy: 0.1748 - val_loss: 2.1052 - val_categorical_accuracy: 0.1937\n",
      "Epoch 2/15\n",
      "23/23 [==============================] - 2495s 112s/step - loss: 1.7396 - categorical_accuracy: 0.2464 - val_loss: 1.9675 - val_categorical_accuracy: 0.2125\n",
      "Epoch 3/15\n",
      "23/23 [==============================] - 2481s 112s/step - loss: 1.8097 - categorical_accuracy: 0.1957 - val_loss: 1.7664 - val_categorical_accuracy: 0.2000\n",
      "Epoch 4/15\n",
      "23/23 [==============================] - 2484s 112s/step - loss: 1.7727 - categorical_accuracy: 0.2319 - val_loss: 1.6362 - val_categorical_accuracy: 0.2000\n",
      "Epoch 5/15\n",
      "23/23 [==============================] - 2511s 113s/step - loss: 1.7439 - categorical_accuracy: 0.1812 - val_loss: 1.6349 - val_categorical_accuracy: 0.1500\n",
      "Epoch 6/15\n",
      "23/23 [==============================] - 2491s 112s/step - loss: 1.6388 - categorical_accuracy: 0.2609 - val_loss: 1.6276 - val_categorical_accuracy: 0.1875\n",
      "Epoch 7/15\n",
      "23/23 [==============================] - 2499s 113s/step - loss: 1.6830 - categorical_accuracy: 0.2536 - val_loss: 1.7476 - val_categorical_accuracy: 0.1875\n",
      "Epoch 8/15\n",
      "23/23 [==============================] - 2488s 112s/step - loss: 1.7031 - categorical_accuracy: 0.1884 - val_loss: 1.6893 - val_categorical_accuracy: 0.1750\n",
      "Epoch 9/15\n",
      "23/23 [==============================] - 2466s 111s/step - loss: 1.7024 - categorical_accuracy: 0.1739 - val_loss: 1.6265 - val_categorical_accuracy: 0.2500\n",
      "Epoch 10/15\n",
      "23/23 [==============================] - 2456s 111s/step - loss: 1.6680 - categorical_accuracy: 0.2101 - val_loss: 1.6333 - val_categorical_accuracy: 0.2250\n",
      "Epoch 11/15\n",
      "23/23 [==============================] - 2475s 112s/step - loss: 1.6573 - categorical_accuracy: 0.2101 - val_loss: 1.6044 - val_categorical_accuracy: 0.2250\n",
      "Epoch 12/15\n",
      "23/23 [==============================] - 2472s 111s/step - loss: 1.6367 - categorical_accuracy: 0.2391 - val_loss: 1.6475 - val_categorical_accuracy: 0.1750\n",
      "Epoch 13/15\n",
      "23/23 [==============================] - 2500s 113s/step - loss: 1.6390 - categorical_accuracy: 0.2609 - val_loss: 1.6101 - val_categorical_accuracy: 0.1500\n",
      "Epoch 14/15\n",
      "23/23 [==============================] - 2443s 110s/step - loss: 1.6223 - categorical_accuracy: 0.2319 - val_loss: 1.7106 - val_categorical_accuracy: 0.2250\n",
      "Epoch 15/15\n",
      "23/23 [==============================] - 2445s 110s/step - loss: 1.7207 - categorical_accuracy: 0.1957 - val_loss: 1.6373 - val_categorical_accuracy: 0.1500\n"
     ]
    }
   ],
   "source": [
    "model_history = model.fit_generator(train_generator, steps_per_epoch=steps_per_epoch, epochs=15, verbose=1, validation_data=val_generator, \n",
    "                    validation_steps=validation_steps, class_weight=None, initial_epoch=0)"
   ]
  },
  {
   "cell_type": "code",
   "execution_count": 26,
   "metadata": {
    "id": "confident-income"
   },
   "outputs": [
    {
     "data": {
      "image/png": "[encoded data removed]",
      "text/plain": [
       "<Figure size 1080x288 with 2 Axes>"
      ]
     },
     "metadata": {
      "needs_background": "light"
     },
     "output_type": "display_data"
    }
   ],
   "source": [
    "plot(model_history)"
   ]
  },
  {
   "cell_type": "markdown",
   "metadata": {},
   "source": [
    "` Model 5 is not performing. Validation and Training accuracy is very low.`"
   ]
  },
  {
   "cell_type": "markdown",
   "metadata": {
    "id": "later-pound"
   },
   "source": [
    "# Transfer learning with trainbale layers( MobileNet + GRU)"
   ]
  },
  {
   "cell_type": "markdown",
   "metadata": {},
   "source": [
    "## Model 7: Running on Complete training and validation dataset with Image cropping and resizing  and image augumentation"
   ]
  },
  {
   "cell_type": "code",
   "execution_count": 27,
   "metadata": {
    "id": "dependent-leave"
   },
   "outputs": [
    {
     "name": "stdout",
     "output_type": "stream",
     "text": [
      "WARNING:tensorflow:`input_shape` is undefined or non-square, or `rows` is not in [128, 160, 192, 224]. Weights for input shape (224, 224) will be loaded as the default.\n",
      "Downloading data from https://storage.googleapis.com/tensorflow/keras-applications/mobilenet/mobilenet_1_0_224_tf_no_top.h5\n",
      "17227776/17225924 [==============================] - 2s 0us/step\n",
      "Model: \"sequential_3\"\n",
      "_________________________________________________________________\n",
      "Layer (type)                 Output Shape              Param #   \n",
      "=================================================================\n",
      "time_distributed_15 (TimeDis (None, 16, 5, 5, 1024)    3228864   \n",
      "_________________________________________________________________\n",
      "time_distributed_16 (TimeDis (None, 16, 5, 5, 1024)    4096      \n",
      "_________________________________________________________________\n",
      "time_distributed_17 (TimeDis (None, 16, 2, 2, 1024)    0         \n",
      "_________________________________________________________________\n",
      "time_distributed_18 (TimeDis (None, 16, 4096)          0         \n",
      "_________________________________________________________________\n",
      "gru_1 (GRU)                  (None, 64)                799104    \n",
      "_________________________________________________________________\n",
      "dropout_2 (Dropout)          (None, 64)                0         \n",
      "_________________________________________________________________\n",
      "dense_2 (Dense)              (None, 64)                4160      \n",
      "_________________________________________________________________\n",
      "dropout_3 (Dropout)          (None, 64)                0         \n",
      "_________________________________________________________________\n",
      "dense_3 (Dense)              (None, 5)                 325       \n",
      "=================================================================\n",
      "Total params: 4,036,549\n",
      "Trainable params: 4,012,613\n",
      "Non-trainable params: 23,936\n",
      "_________________________________________________________________\n"
     ]
    }
   ],
   "source": [
    "from keras.applications import mobilenet\n",
    "\n",
    "mobilenet_transfer = mobilenet.MobileNet(weights='imagenet', include_top=False)\n",
    "        \n",
    "model = Sequential()\n",
    "model.add(TimeDistributed(mobilenet_transfer,input_shape=(num_imgs_per_video,img_height,img_width,num_channels)))\n",
    " \n",
    "        \n",
    "model.add(TimeDistributed(BatchNormalization()))\n",
    "model.add(TimeDistributed(MaxPooling2D((2, 2))))\n",
    "model.add(TimeDistributed(Flatten()))\n",
    "\n",
    "model.add(GRU(64))\n",
    "model.add(Dropout(0.25))\n",
    "        \n",
    "model.add(Dense(64,activation='relu'))\n",
    "model.add(Dropout(0.25))\n",
    "        \n",
    "model.add(Dense(num_classes, activation='softmax'))\n",
    "        \n",
    "        \n",
    "optimiser = optimizers.Adam()\n",
    "model.compile(optimizer=optimiser, loss='categorical_crossentropy', metrics=['categorical_accuracy'])\n",
    "model.summary()"
   ]
  },
  {
   "cell_type": "code",
   "execution_count": 28,
   "metadata": {
    "id": "abroad-thing"
   },
   "outputs": [],
   "source": [
    "train_generator = generator(train_path, train_doc, batch_size,crop_resize=True,augmentation=True,ablation=None)\n",
    "val_generator = generator(val_path, val_doc, batch_size,crop_resize=True,augmentation=True,ablation=None)"
   ]
  },
  {
   "cell_type": "code",
   "execution_count": 31,
   "metadata": {
    "id": "unlike-audio"
   },
   "outputs": [
    {
     "name": "stdout",
     "output_type": "stream",
     "text": [
      "Source path = Project_data/train ; batch size = 30\n",
      "Epoch 1/25\n",
      "23/23 [==============================] - ETA: 0s - loss: 1.6759 - categorical_accuracy: 0.2983  Source path = Project_data/val ; batch size = 30\n",
      "23/23 [==============================] - 2800s 120s/step - loss: 1.6777 - categorical_accuracy: 0.2969 - val_loss: 1.6781 - val_categorical_accuracy: 0.3000\n",
      "\n",
      "Epoch 00001: saving model to model_init_2021-03-2722_12_45.887766\\model-00001-1.72095-0.26423-1.67811-0.30000.h5\n",
      "Epoch 2/25\n",
      "23/23 [==============================] - 2631s 118s/step - loss: 1.7590 - categorical_accuracy: 0.2973 - val_loss: 1.6649 - val_categorical_accuracy: 0.2875\n",
      "\n",
      "Epoch 00002: saving model to model_init_2021-03-2722_12_45.887766\\model-00002-1.72698-0.31159-1.66486-0.28750.h5\n",
      "Epoch 3/25\n",
      "23/23 [==============================] - 2592s 117s/step - loss: 1.6631 - categorical_accuracy: 0.2217 - val_loss: 1.5626 - val_categorical_accuracy: 0.3375\n",
      "\n",
      "Epoch 00003: saving model to model_init_2021-03-2722_12_45.887766\\model-00003-1.67104-0.23188-1.56260-0.33750.h5\n",
      "Epoch 4/25\n",
      "23/23 [==============================] - 2618s 118s/step - loss: 1.6749 - categorical_accuracy: 0.2389 - val_loss: 1.4871 - val_categorical_accuracy: 0.3750\n",
      "\n",
      "Epoch 00004: saving model to model_init_2021-03-2722_12_45.887766\\model-00004-1.68860-0.23188-1.48707-0.37500.h5\n",
      "Epoch 5/25\n",
      "23/23 [==============================] - 2616s 118s/step - loss: 1.6151 - categorical_accuracy: 0.2891 - val_loss: 1.5342 - val_categorical_accuracy: 0.3375\n",
      "\n",
      "Epoch 00005: saving model to model_init_2021-03-2722_12_45.887766\\model-00005-1.65340-0.29710-1.53425-0.33750.h5\n",
      "Epoch 6/25\n",
      "23/23 [==============================] - 2624s 118s/step - loss: 1.6867 - categorical_accuracy: 0.2538 - val_loss: 1.5614 - val_categorical_accuracy: 0.3000\n",
      "\n",
      "Epoch 00006: saving model to model_init_2021-03-2722_12_45.887766\\model-00006-1.72384-0.20290-1.56142-0.30000.h5\n",
      "Epoch 7/25\n",
      "23/23 [==============================] - 2622s 118s/step - loss: 1.5996 - categorical_accuracy: 0.2306 - val_loss: 1.5137 - val_categorical_accuracy: 0.3875\n",
      "\n",
      "Epoch 00007: saving model to model_init_2021-03-2722_12_45.887766\\model-00007-1.55960-0.27536-1.51370-0.38750.h5\n",
      "Epoch 8/25\n",
      "23/23 [==============================] - 2630s 118s/step - loss: 1.5012 - categorical_accuracy: 0.2837 - val_loss: 1.6916 - val_categorical_accuracy: 0.2250\n",
      "\n",
      "Epoch 00008: saving model to model_init_2021-03-2722_12_45.887766\\model-00008-1.49708-0.34058-1.69158-0.22500.h5\n",
      "\n",
      "Epoch 00008: ReduceLROnPlateau reducing learning rate to 0.00020000000949949026.\n",
      "Epoch 9/25\n",
      "23/23 [==============================] - 2600s 117s/step - loss: 1.3550 - categorical_accuracy: 0.4594 - val_loss: 1.4515 - val_categorical_accuracy: 0.3375\n",
      "\n",
      "Epoch 00009: saving model to model_init_2021-03-2722_12_45.887766\\model-00009-1.48644-0.39130-1.45155-0.33750.h5\n",
      "Epoch 10/25\n",
      "23/23 [==============================] - 2592s 117s/step - loss: 1.5960 - categorical_accuracy: 0.2833 - val_loss: 1.3701 - val_categorical_accuracy: 0.4125\n",
      "\n",
      "Epoch 00010: saving model to model_init_2021-03-2722_12_45.887766\\model-00010-1.53116-0.34058-1.37013-0.41250.h5\n",
      "Epoch 11/25\n",
      "23/23 [==============================] - 2592s 117s/step - loss: 1.5397 - categorical_accuracy: 0.3406 - val_loss: 1.3971 - val_categorical_accuracy: 0.3125\n",
      "\n",
      "Epoch 00011: saving model to model_init_2021-03-2722_12_45.887766\\model-00011-1.60723-0.29710-1.39708-0.31250.h5\n",
      "Epoch 12/25\n",
      "23/23 [==============================] - 2581s 116s/step - loss: 1.4775 - categorical_accuracy: 0.3205 - val_loss: 1.3843 - val_categorical_accuracy: 0.4000\n",
      "\n",
      "Epoch 00012: saving model to model_init_2021-03-2722_12_45.887766\\model-00012-1.55133-0.30435-1.38432-0.40000.h5\n",
      "Epoch 13/25\n",
      "23/23 [==============================] - 2583s 116s/step - loss: 1.4015 - categorical_accuracy: 0.4198 - val_loss: 1.3826 - val_categorical_accuracy: 0.3625\n",
      "\n",
      "Epoch 00013: saving model to model_init_2021-03-2722_12_45.887766\\model-00013-1.43538-0.40580-1.38261-0.36250.h5\n",
      "Epoch 14/25\n",
      "23/23 [==============================] - 2602s 117s/step - loss: 1.3926 - categorical_accuracy: 0.4105 - val_loss: 1.3738 - val_categorical_accuracy: 0.4000\n",
      "\n",
      "Epoch 00014: saving model to model_init_2021-03-2722_12_45.887766\\model-00014-1.37492-0.43478-1.37380-0.40000.h5\n",
      "\n",
      "Epoch 00014: ReduceLROnPlateau reducing learning rate to 4.0000001899898055e-05.\n",
      "Epoch 15/25\n",
      "23/23 [==============================] - 2602s 117s/step - loss: 1.4327 - categorical_accuracy: 0.3312 - val_loss: 1.3366 - val_categorical_accuracy: 0.3750\n",
      "\n",
      "Epoch 00015: saving model to model_init_2021-03-2722_12_45.887766\\model-00015-1.40083-0.37681-1.33657-0.37500.h5\n",
      "Epoch 16/25\n",
      "23/23 [==============================] - 2544s 114s/step - loss: 1.3445 - categorical_accuracy: 0.4576 - val_loss: 1.3494 - val_categorical_accuracy: 0.3750\n",
      "\n",
      "Epoch 00016: saving model to model_init_2021-03-2722_12_45.887766\\model-00016-1.32240-0.44928-1.34944-0.37500.h5\n",
      "Epoch 17/25\n",
      "23/23 [==============================] - 2533s 114s/step - loss: 1.3092 - categorical_accuracy: 0.4384 - val_loss: 1.3249 - val_categorical_accuracy: 0.4250\n",
      "\n",
      "Epoch 00017: saving model to model_init_2021-03-2722_12_45.887766\\model-00017-1.32028-0.43478-1.32485-0.42500.h5\n",
      "Epoch 18/25\n",
      "23/23 [==============================] - 2556s 115s/step - loss: 1.3646 - categorical_accuracy: 0.4621 - val_loss: 1.3580 - val_categorical_accuracy: 0.3500\n",
      "\n",
      "Epoch 00018: saving model to model_init_2021-03-2722_12_45.887766\\model-00018-1.30464-0.46377-1.35803-0.35000.h5\n",
      "Epoch 19/25\n",
      "23/23 [==============================] - 2538s 114s/step - loss: 1.3965 - categorical_accuracy: 0.4052 - val_loss: 1.3270 - val_categorical_accuracy: 0.4375\n",
      "\n",
      "Epoch 00019: saving model to model_init_2021-03-2722_12_45.887766\\model-00019-1.37231-0.41304-1.32703-0.43750.h5\n",
      "Epoch 20/25\n",
      "23/23 [==============================] - 2540s 114s/step - loss: 1.4188 - categorical_accuracy: 0.4094 - val_loss: 1.3071 - val_categorical_accuracy: 0.4375\n",
      "\n",
      "Epoch 00020: saving model to model_init_2021-03-2722_12_45.887766\\model-00020-1.38839-0.42754-1.30710-0.43750.h5\n",
      "Epoch 21/25\n",
      "23/23 [==============================] - 2543s 114s/step - loss: 1.2555 - categorical_accuracy: 0.4972 - val_loss: 1.2759 - val_categorical_accuracy: 0.4250\n",
      "\n",
      "Epoch 00021: saving model to model_init_2021-03-2722_12_45.887766\\model-00021-1.33178-0.45652-1.27587-0.42500.h5\n",
      "Epoch 22/25\n",
      "23/23 [==============================] - 2541s 114s/step - loss: 1.2127 - categorical_accuracy: 0.5465 - val_loss: 1.3297 - val_categorical_accuracy: 0.3875\n",
      "\n",
      "Epoch 00022: saving model to model_init_2021-03-2722_12_45.887766\\model-00022-1.25544-0.45652-1.32967-0.38750.h5\n",
      "Epoch 23/25\n",
      "23/23 [==============================] - 2528s 114s/step - loss: 1.2595 - categorical_accuracy: 0.4831 - val_loss: 1.3167 - val_categorical_accuracy: 0.4500\n",
      "\n",
      "Epoch 00023: saving model to model_init_2021-03-2722_12_45.887766\\model-00023-1.27286-0.47101-1.31675-0.45000.h5\n",
      "Epoch 24/25\n",
      "23/23 [==============================] - 2518s 113s/step - loss: 1.2878 - categorical_accuracy: 0.4605 - val_loss: 1.2867 - val_categorical_accuracy: 0.4500\n",
      "\n",
      "Epoch 00024: saving model to model_init_2021-03-2722_12_45.887766\\model-00024-1.32478-0.43478-1.28666-0.45000.h5\n",
      "Epoch 25/25\n",
      "23/23 [==============================] - 2525s 114s/step - loss: 1.2115 - categorical_accuracy: 0.4642 - val_loss: 1.2181 - val_categorical_accuracy: 0.4375\n",
      "\n",
      "Epoch 00025: saving model to model_init_2021-03-2722_12_45.887766\\model-00025-1.21402-0.48551-1.21811-0.43750.h5\n"
     ]
    }
   ],
   "source": [
    "model_history = model.fit_generator(train_generator, steps_per_epoch=steps_per_epoch, epochs=25, verbose=1, validation_data=val_generator, \n",
    "                    validation_steps=validation_steps, class_weight=None, initial_epoch=0,callbacks=callbacks_list)"
   ]
  },
  {
   "cell_type": "markdown",
   "metadata": {},
   "source": [
    "` We ran it for less number of epochs because of execution time but accuracy keeps increasing after 25th epoch`"
   ]
  },
  {
   "cell_type": "markdown",
   "metadata": {
    "id": "beautiful-tradition"
   },
   "source": [
    "`Model 7 is our final model`"
   ]
  },
  {
   "cell_type": "markdown",
   "metadata": {},
   "source": [
    "# Thank YOu :)"
   ]
  },
  {
   "cell_type": "code",
   "execution_count": null,
   "metadata": {},
   "outputs": [],
   "source": []
  }
 ],
 "metadata": {
  "kernelspec": {
   "display_name": "Python 3",
   "language": "python",
   "name": "python3"
  },
  "language_info": {
   "codemirror_mode": {
    "name": "ipython",
    "version": 3
   },
   "file_extension": ".py",
   "mimetype": "text/x-python",
   "name": "python",
   "nbconvert_exporter": "python",
   "pygments_lexer": "ipython3",
   "version": "3.7.9"
  }
 },
 "nbformat": 4,
 "nbformat_minor": 4
}
